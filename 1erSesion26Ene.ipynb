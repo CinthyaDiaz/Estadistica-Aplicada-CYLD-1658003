{
 "cells": [
  {
   "cell_type": "markdown",
   "id": "ffa00f9f-872d-4759-9ab9-185eed11217a",
   "metadata": {},
   "source": [
    "# Estadística Aplicada\n",
    "## Cinthya Yesenia López Díaz\n",
    "### Primer sesión 26 de Enero\n",
    "**Negritas**"
   ]
  },
  {
   "cell_type": "markdown",
   "id": "f350e5b9-eb5a-4722-8c37-b59e2bd64ec0",
   "metadata": {},
   "source": [
    "También admite código de Latex.\n",
    "Este es un ejemplo de una ecuación:\n",
    "$Y_i = a + bX_i + \\epsilon_i$"
   ]
  },
  {
   "cell_type": "code",
   "execution_count": 1,
   "id": "918b8826-f0b5-4245-a160-0709b8c3e856",
   "metadata": {},
   "outputs": [],
   "source": [
    "variable1 = 1.34"
   ]
  },
  {
   "cell_type": "code",
   "execution_count": 2,
   "id": "f97f53f1-72f6-4bfd-ad88-242e2b450915",
   "metadata": {},
   "outputs": [
    {
     "data": {
      "text/plain": [
       "1.34"
      ]
     },
     "execution_count": 2,
     "metadata": {},
     "output_type": "execute_result"
    }
   ],
   "source": [
    "variable1"
   ]
  },
  {
   "cell_type": "code",
   "execution_count": 4,
   "id": "dcbb6739-dcd6-47a6-a39e-8938c8babee9",
   "metadata": {},
   "outputs": [],
   "source": [
    "variable2 = 2"
   ]
  },
  {
   "cell_type": "code",
   "execution_count": 5,
   "id": "d9c184e7-ca97-4686-bed4-b55c457d24fa",
   "metadata": {},
   "outputs": [
    {
     "data": {
      "text/plain": [
       "2"
      ]
     },
     "execution_count": 5,
     "metadata": {},
     "output_type": "execute_result"
    }
   ],
   "source": [
    "variable2"
   ]
  },
  {
   "cell_type": "code",
   "execution_count": 6,
   "id": "a2e9cc7b-5e56-4b37-bc38-79d68d335f7b",
   "metadata": {},
   "outputs": [],
   "source": [
    "variable3 = 'A'"
   ]
  },
  {
   "cell_type": "code",
   "execution_count": 7,
   "id": "a8cb4706-b353-4c41-8c9c-f0e61b427a92",
   "metadata": {},
   "outputs": [
    {
     "data": {
      "text/plain": [
       "'A'"
      ]
     },
     "execution_count": 7,
     "metadata": {},
     "output_type": "execute_result"
    }
   ],
   "source": [
    "variable3"
   ]
  },
  {
   "cell_type": "code",
   "execution_count": 8,
   "id": "ee6609d4-54b8-435e-98f9-9da98df1c714",
   "metadata": {},
   "outputs": [
    {
     "data": {
      "text/plain": [
       "float"
      ]
     },
     "execution_count": 8,
     "metadata": {},
     "output_type": "execute_result"
    }
   ],
   "source": [
    "type(variable1)"
   ]
  },
  {
   "cell_type": "code",
   "execution_count": 9,
   "id": "2930c129-6f9e-4b00-a186-3696a1182bef",
   "metadata": {},
   "outputs": [
    {
     "data": {
      "text/plain": [
       "int"
      ]
     },
     "execution_count": 9,
     "metadata": {},
     "output_type": "execute_result"
    }
   ],
   "source": [
    "type(variable2)"
   ]
  },
  {
   "cell_type": "code",
   "execution_count": 10,
   "id": "15d1a958-e7a8-4f1f-81b8-ad5fad3087f4",
   "metadata": {},
   "outputs": [
    {
     "data": {
      "text/plain": [
       "str"
      ]
     },
     "execution_count": 10,
     "metadata": {},
     "output_type": "execute_result"
    }
   ],
   "source": [
    "type(variable3)"
   ]
  },
  {
   "cell_type": "code",
   "execution_count": 11,
   "id": "e2198a94-8c97-4b34-9b75-757fd75db5bd",
   "metadata": {},
   "outputs": [],
   "source": [
    "variable2_decimal = float(variable2)"
   ]
  },
  {
   "cell_type": "code",
   "execution_count": 12,
   "id": "d396f336-42a1-4ba8-a13f-fdd7db689922",
   "metadata": {},
   "outputs": [
    {
     "data": {
      "text/plain": [
       "float"
      ]
     },
     "execution_count": 12,
     "metadata": {},
     "output_type": "execute_result"
    }
   ],
   "source": [
    "type(variable2_decimal)"
   ]
  },
  {
   "cell_type": "code",
   "execution_count": 13,
   "id": "3578ad9c-8fd7-4a1e-bb42-0bf7c232c4d5",
   "metadata": {},
   "outputs": [
    {
     "name": "stdout",
     "output_type": "stream",
     "text": [
      "A\n"
     ]
    }
   ],
   "source": [
    "print(variable3)"
   ]
  },
  {
   "cell_type": "code",
   "execution_count": 14,
   "id": "32b9effc-621a-4c9b-858b-775816ef615e",
   "metadata": {},
   "outputs": [
    {
     "name": "stdout",
     "output_type": "stream",
     "text": [
      "A 2\n"
     ]
    }
   ],
   "source": [
    "print(variable3, variable2)"
   ]
  },
  {
   "cell_type": "code",
   "execution_count": 15,
   "id": "b4a1fee0-43ca-4ea8-b0a3-5e756989042c",
   "metadata": {},
   "outputs": [
    {
     "name": "stdout",
     "output_type": "stream",
     "text": [
      "Esta es la letra a mayuscula A\n"
     ]
    }
   ],
   "source": [
    "print('Esta es la letra a mayuscula', variable3)"
   ]
  },
  {
   "cell_type": "code",
   "execution_count": 16,
   "id": "dc7622ed-26dd-4d20-8ee0-7dec4d5062c4",
   "metadata": {},
   "outputs": [
    {
     "name": "stdout",
     "output_type": "stream",
     "text": [
      "Este es el dos entero 2\n"
     ]
    }
   ],
   "source": [
    "print('Este es el dos entero', variable2)"
   ]
  },
  {
   "cell_type": "code",
   "execution_count": 17,
   "id": "31f1a17a-4fe8-4859-968e-186bea85a502",
   "metadata": {},
   "outputs": [
    {
     "name": "stdout",
     "output_type": "stream",
     "text": [
      "Este es el dos decimal 2.0\n"
     ]
    }
   ],
   "source": [
    "print(f'Este es el dos decimal {variable2_decimal}')"
   ]
  },
  {
   "cell_type": "code",
   "execution_count": null,
   "id": "ae17170c-0cf9-4fa2-b484-c3d6899341aa",
   "metadata": {},
   "outputs": [],
   "source": []
  }
 ],
 "metadata": {
  "kernelspec": {
   "display_name": "Python 3 (ipykernel)",
   "language": "python",
   "name": "python3"
  },
  "language_info": {
   "codemirror_mode": {
    "name": "ipython",
    "version": 3
   },
   "file_extension": ".py",
   "mimetype": "text/x-python",
   "name": "python",
   "nbconvert_exporter": "python",
   "pygments_lexer": "ipython3",
   "version": "3.9.12"
  }
 },
 "nbformat": 4,
 "nbformat_minor": 5
}
