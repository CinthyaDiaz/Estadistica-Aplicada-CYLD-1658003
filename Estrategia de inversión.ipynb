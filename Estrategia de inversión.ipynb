{
 "cells": [
  {
   "cell_type": "markdown",
   "id": "9ee10d6b",
   "metadata": {},
   "source": [
    "# Estrategia simple de inversión"
   ]
  },
  {
   "cell_type": "markdown",
   "id": "58834cff",
   "metadata": {},
   "source": [
    "**Estadística Aplicada**\n",
    "\n",
    "**Cinthya Yesenia López Díaz 1658003**\n",
    "\n",
    "**Sesión 13 - 24 marzo**"
   ]
  },
  {
   "cell_type": "code",
   "execution_count": 1,
   "id": "b13fd7dc",
   "metadata": {},
   "outputs": [],
   "source": [
    "import numpy as np\n",
    "import pandas as pd \n",
    "import matplotlib.pyplot as plt \n",
    "%matplotlib inline"
   ]
  },
  {
   "cell_type": "code",
   "execution_count": 2,
   "id": "8cc3a101",
   "metadata": {},
   "outputs": [
    {
     "name": "stdout",
     "output_type": "stream",
     "text": [
      "Requirement already satisfied: yfinance in c:\\users\\lenovo\\anaconda3\\lib\\site-packages (0.1.74)\n",
      "Requirement already satisfied: pandas>=0.24.0 in c:\\users\\lenovo\\anaconda3\\lib\\site-packages (from yfinance) (1.4.2)\n",
      "Requirement already satisfied: multitasking>=0.0.7 in c:\\users\\lenovo\\anaconda3\\lib\\site-packages (from yfinance) (0.0.11)\n",
      "Requirement already satisfied: lxml>=4.5.1 in c:\\users\\lenovo\\anaconda3\\lib\\site-packages (from yfinance) (4.8.0)\n",
      "Requirement already satisfied: requests>=2.26 in c:\\users\\lenovo\\anaconda3\\lib\\site-packages (from yfinance) (2.27.1)\n",
      "Requirement already satisfied: numpy>=1.15 in c:\\users\\lenovo\\anaconda3\\lib\\site-packages (from yfinance) (1.21.5)\n",
      "Requirement already satisfied: pytz>=2020.1 in c:\\users\\lenovo\\anaconda3\\lib\\site-packages (from pandas>=0.24.0->yfinance) (2021.3)\n",
      "Requirement already satisfied: python-dateutil>=2.8.1 in c:\\users\\lenovo\\anaconda3\\lib\\site-packages (from pandas>=0.24.0->yfinance) (2.8.2)\n",
      "Requirement already satisfied: six>=1.5 in c:\\users\\lenovo\\anaconda3\\lib\\site-packages (from python-dateutil>=2.8.1->pandas>=0.24.0->yfinance) (1.16.0)\n",
      "Requirement already satisfied: charset-normalizer~=2.0.0 in c:\\users\\lenovo\\anaconda3\\lib\\site-packages (from requests>=2.26->yfinance) (2.0.4)\n",
      "Requirement already satisfied: certifi>=2017.4.17 in c:\\users\\lenovo\\anaconda3\\lib\\site-packages (from requests>=2.26->yfinance) (2022.9.14)\n",
      "Requirement already satisfied: urllib3<1.27,>=1.21.1 in c:\\users\\lenovo\\anaconda3\\lib\\site-packages (from requests>=2.26->yfinance) (1.26.9)\n",
      "Requirement already satisfied: idna<4,>=2.5 in c:\\users\\lenovo\\anaconda3\\lib\\site-packages (from requests>=2.26->yfinance) (3.3)\n"
     ]
    }
   ],
   "source": [
    "!pip install yfinance"
   ]
  },
  {
   "cell_type": "code",
   "execution_count": 4,
   "id": "71646c14",
   "metadata": {},
   "outputs": [],
   "source": [
    "import yfinance as yf"
   ]
  },
  {
   "cell_type": "code",
   "execution_count": 5,
   "id": "ddd5b5be",
   "metadata": {},
   "outputs": [],
   "source": [
    "ticker = 'AMZN.MX'"
   ]
  },
  {
   "cell_type": "code",
   "execution_count": 6,
   "id": "f4f71f49",
   "metadata": {},
   "outputs": [],
   "source": [
    "amazon = yf.download(ticker, \n",
    "                    start = '2019-01-01',\n",
    "                    end = '2023-03-17',\n",
    "                    progress = False)"
   ]
  },
  {
   "cell_type": "code",
   "execution_count": 7,
   "id": "cad278d8",
   "metadata": {},
   "outputs": [
    {
     "data": {
      "text/html": [
       "<div>\n",
       "<style scoped>\n",
       "    .dataframe tbody tr th:only-of-type {\n",
       "        vertical-align: middle;\n",
       "    }\n",
       "\n",
       "    .dataframe tbody tr th {\n",
       "        vertical-align: top;\n",
       "    }\n",
       "\n",
       "    .dataframe thead th {\n",
       "        text-align: right;\n",
       "    }\n",
       "</style>\n",
       "<table border=\"1\" class=\"dataframe\">\n",
       "  <thead>\n",
       "    <tr style=\"text-align: right;\">\n",
       "      <th></th>\n",
       "      <th>Open</th>\n",
       "      <th>High</th>\n",
       "      <th>Low</th>\n",
       "      <th>Close</th>\n",
       "      <th>Adj Close</th>\n",
       "      <th>Volume</th>\n",
       "    </tr>\n",
       "    <tr>\n",
       "      <th>Date</th>\n",
       "      <th></th>\n",
       "      <th></th>\n",
       "      <th></th>\n",
       "      <th></th>\n",
       "      <th></th>\n",
       "      <th></th>\n",
       "    </tr>\n",
       "  </thead>\n",
       "  <tbody>\n",
       "    <tr>\n",
       "      <th>2019-01-02</th>\n",
       "      <td>1451.000000</td>\n",
       "      <td>1522.499512</td>\n",
       "      <td>1451.000000</td>\n",
       "      <td>1497.750000</td>\n",
       "      <td>1497.750000</td>\n",
       "      <td>462900</td>\n",
       "    </tr>\n",
       "    <tr>\n",
       "      <th>2019-01-03</th>\n",
       "      <td>1507.400024</td>\n",
       "      <td>1507.400024</td>\n",
       "      <td>1472.250000</td>\n",
       "      <td>1474.000000</td>\n",
       "      <td>1474.000000</td>\n",
       "      <td>143880</td>\n",
       "    </tr>\n",
       "    <tr>\n",
       "      <th>2019-01-04</th>\n",
       "      <td>1500.449951</td>\n",
       "      <td>1541.362549</td>\n",
       "      <td>1496.500000</td>\n",
       "      <td>1527.000000</td>\n",
       "      <td>1527.000000</td>\n",
       "      <td>43580</td>\n",
       "    </tr>\n",
       "    <tr>\n",
       "      <th>2019-01-07</th>\n",
       "      <td>1550.000000</td>\n",
       "      <td>1581.000000</td>\n",
       "      <td>1539.500000</td>\n",
       "      <td>1578.361450</td>\n",
       "      <td>1578.361450</td>\n",
       "      <td>66960</td>\n",
       "    </tr>\n",
       "    <tr>\n",
       "      <th>2019-01-08</th>\n",
       "      <td>1612.531006</td>\n",
       "      <td>1612.531006</td>\n",
       "      <td>1570.910034</td>\n",
       "      <td>1605.208984</td>\n",
       "      <td>1605.208984</td>\n",
       "      <td>127960</td>\n",
       "    </tr>\n",
       "  </tbody>\n",
       "</table>\n",
       "</div>"
      ],
      "text/plain": [
       "                   Open         High          Low        Close    Adj Close  \\\n",
       "Date                                                                          \n",
       "2019-01-02  1451.000000  1522.499512  1451.000000  1497.750000  1497.750000   \n",
       "2019-01-03  1507.400024  1507.400024  1472.250000  1474.000000  1474.000000   \n",
       "2019-01-04  1500.449951  1541.362549  1496.500000  1527.000000  1527.000000   \n",
       "2019-01-07  1550.000000  1581.000000  1539.500000  1578.361450  1578.361450   \n",
       "2019-01-08  1612.531006  1612.531006  1570.910034  1605.208984  1605.208984   \n",
       "\n",
       "            Volume  \n",
       "Date                \n",
       "2019-01-02  462900  \n",
       "2019-01-03  143880  \n",
       "2019-01-04   43580  \n",
       "2019-01-07   66960  \n",
       "2019-01-08  127960  "
      ]
     },
     "execution_count": 7,
     "metadata": {},
     "output_type": "execute_result"
    }
   ],
   "source": [
    "amazon.head()"
   ]
  },
  {
   "cell_type": "code",
   "execution_count": 8,
   "id": "fa258de0",
   "metadata": {},
   "outputs": [],
   "source": [
    "amazon = amazon[['Adj Close']]"
   ]
  },
  {
   "cell_type": "code",
   "execution_count": 9,
   "id": "7a4aaadc",
   "metadata": {},
   "outputs": [],
   "source": [
    "amazon = amazon.rename(columns={'Adj Close':'precio_cierre'})"
   ]
  },
  {
   "cell_type": "code",
   "execution_count": 11,
   "id": "7f627386",
   "metadata": {},
   "outputs": [
    {
     "data": {
      "image/png": "[encoded data removed]",
      "text/plain": [
       "<Figure size 432x288 with 1 Axes>"
      ]
     },
     "metadata": {
      "needs_background": "light"
     },
     "output_type": "display_data"
    }
   ],
   "source": [
    "amazon['precio_cierre'].plot()\n",
    "plt.title('Precio de la acción de Amazon en México\\n 2019 - 2023')\n",
    "plt.ylabel('pesos MXN')\n",
    "plt.xlim('2019-01-01','2023-03-01')\n",
    "plt.xlabel('Día')\n",
    "plt.show()"
   ]
  },
  {
   "cell_type": "code",
   "execution_count": 12,
   "id": "6624bcad",
   "metadata": {},
   "outputs": [],
   "source": [
    "## promedios moviles MA -\n",
    "amazon['MA-10'] = amazon['precio_cierre'].rolling(window=10).mean()\n",
    "amazon['MA-60'] = amazon['precio_cierre'].rolling(window=60).mean()"
   ]
  },
  {
   "cell_type": "code",
   "execution_count": 15,
   "id": "6cc9d4e8",
   "metadata": {},
   "outputs": [
    {
     "data": {
      "image/png": "[encoded data removed]",
      "text/plain": [
       "<Figure size 432x288 with 1 Axes>"
      ]
     },
     "metadata": {
      "needs_background": "light"
     },
     "output_type": "display_data"
    }
   ],
   "source": [
    "amazon[['MA-10', 'MA-60']].plot()\n",
    "plt.title('Amazon promedio móvil a 10 y 60 días\\n 2019 - 2023')\n",
    "plt.ylabel('pesos MXN')\n",
    "plt.xlim('2019-01-01','2023-03-01')\n",
    "plt.xlabel('Día')\n",
    "plt.show()"
   ]
  },
  {
   "cell_type": "code",
   "execution_count": 16,
   "id": "024388b8",
   "metadata": {},
   "outputs": [],
   "source": [
    "amazon['MA-10 > MA-60'] = amazon['MA-10'] > amazon['MA-60']"
   ]
  },
  {
   "cell_type": "code",
   "execution_count": 17,
   "id": "41d9b2f2",
   "metadata": {},
   "outputs": [
    {
     "data": {
      "text/html": [
       "<div>\n",
       "<style scoped>\n",
       "    .dataframe tbody tr th:only-of-type {\n",
       "        vertical-align: middle;\n",
       "    }\n",
       "\n",
       "    .dataframe tbody tr th {\n",
       "        vertical-align: top;\n",
       "    }\n",
       "\n",
       "    .dataframe thead th {\n",
       "        text-align: right;\n",
       "    }\n",
       "</style>\n",
       "<table border=\"1\" class=\"dataframe\">\n",
       "  <thead>\n",
       "    <tr style=\"text-align: right;\">\n",
       "      <th></th>\n",
       "      <th>precio_cierre</th>\n",
       "      <th>MA-10</th>\n",
       "      <th>MA-60</th>\n",
       "      <th>MA-10 &gt; MA-60</th>\n",
       "    </tr>\n",
       "    <tr>\n",
       "      <th>Date</th>\n",
       "      <th></th>\n",
       "      <th></th>\n",
       "      <th></th>\n",
       "      <th></th>\n",
       "    </tr>\n",
       "  </thead>\n",
       "  <tbody>\n",
       "    <tr>\n",
       "      <th>2019-01-02</th>\n",
       "      <td>1497.750000</td>\n",
       "      <td>NaN</td>\n",
       "      <td>NaN</td>\n",
       "      <td>False</td>\n",
       "    </tr>\n",
       "    <tr>\n",
       "      <th>2019-01-03</th>\n",
       "      <td>1474.000000</td>\n",
       "      <td>NaN</td>\n",
       "      <td>NaN</td>\n",
       "      <td>False</td>\n",
       "    </tr>\n",
       "    <tr>\n",
       "      <th>2019-01-04</th>\n",
       "      <td>1527.000000</td>\n",
       "      <td>NaN</td>\n",
       "      <td>NaN</td>\n",
       "      <td>False</td>\n",
       "    </tr>\n",
       "    <tr>\n",
       "      <th>2019-01-07</th>\n",
       "      <td>1578.361450</td>\n",
       "      <td>NaN</td>\n",
       "      <td>NaN</td>\n",
       "      <td>False</td>\n",
       "    </tr>\n",
       "    <tr>\n",
       "      <th>2019-01-08</th>\n",
       "      <td>1605.208984</td>\n",
       "      <td>NaN</td>\n",
       "      <td>NaN</td>\n",
       "      <td>False</td>\n",
       "    </tr>\n",
       "  </tbody>\n",
       "</table>\n",
       "</div>"
      ],
      "text/plain": [
       "            precio_cierre  MA-10  MA-60  MA-10 > MA-60\n",
       "Date                                                  \n",
       "2019-01-02    1497.750000    NaN    NaN          False\n",
       "2019-01-03    1474.000000    NaN    NaN          False\n",
       "2019-01-04    1527.000000    NaN    NaN          False\n",
       "2019-01-07    1578.361450    NaN    NaN          False\n",
       "2019-01-08    1605.208984    NaN    NaN          False"
      ]
     },
     "execution_count": 17,
     "metadata": {},
     "output_type": "execute_result"
    }
   ],
   "source": [
    "amazon.head()"
   ]
  },
  {
   "cell_type": "code",
   "execution_count": 18,
   "id": "ec27c7b5",
   "metadata": {},
   "outputs": [
    {
     "data": {
      "text/html": [
       "<div>\n",
       "<style scoped>\n",
       "    .dataframe tbody tr th:only-of-type {\n",
       "        vertical-align: middle;\n",
       "    }\n",
       "\n",
       "    .dataframe tbody tr th {\n",
       "        vertical-align: top;\n",
       "    }\n",
       "\n",
       "    .dataframe thead th {\n",
       "        text-align: right;\n",
       "    }\n",
       "</style>\n",
       "<table border=\"1\" class=\"dataframe\">\n",
       "  <thead>\n",
       "    <tr style=\"text-align: right;\">\n",
       "      <th></th>\n",
       "      <th>precio_cierre</th>\n",
       "      <th>MA-10</th>\n",
       "      <th>MA-60</th>\n",
       "      <th>MA-10 &gt; MA-60</th>\n",
       "    </tr>\n",
       "    <tr>\n",
       "      <th>Date</th>\n",
       "      <th></th>\n",
       "      <th></th>\n",
       "      <th></th>\n",
       "      <th></th>\n",
       "    </tr>\n",
       "  </thead>\n",
       "  <tbody>\n",
       "    <tr>\n",
       "      <th>2023-03-10</th>\n",
       "      <td>1673.250000</td>\n",
       "      <td>1692.439001</td>\n",
       "      <td>1763.292340</td>\n",
       "      <td>False</td>\n",
       "    </tr>\n",
       "    <tr>\n",
       "      <th>2023-03-13</th>\n",
       "      <td>1752.089966</td>\n",
       "      <td>1695.770996</td>\n",
       "      <td>1763.516840</td>\n",
       "      <td>False</td>\n",
       "    </tr>\n",
       "    <tr>\n",
       "      <th>2023-03-14</th>\n",
       "      <td>1754.829956</td>\n",
       "      <td>1698.653992</td>\n",
       "      <td>1764.740171</td>\n",
       "      <td>False</td>\n",
       "    </tr>\n",
       "    <tr>\n",
       "      <th>2023-03-15</th>\n",
       "      <td>1826.000000</td>\n",
       "      <td>1714.455994</td>\n",
       "      <td>1767.101005</td>\n",
       "      <td>False</td>\n",
       "    </tr>\n",
       "    <tr>\n",
       "      <th>2023-03-16</th>\n",
       "      <td>1870.920044</td>\n",
       "      <td>1734.613000</td>\n",
       "      <td>1769.870506</td>\n",
       "      <td>False</td>\n",
       "    </tr>\n",
       "  </tbody>\n",
       "</table>\n",
       "</div>"
      ],
      "text/plain": [
       "            precio_cierre        MA-10        MA-60  MA-10 > MA-60\n",
       "Date                                                              \n",
       "2023-03-10    1673.250000  1692.439001  1763.292340          False\n",
       "2023-03-13    1752.089966  1695.770996  1763.516840          False\n",
       "2023-03-14    1754.829956  1698.653992  1764.740171          False\n",
       "2023-03-15    1826.000000  1714.455994  1767.101005          False\n",
       "2023-03-16    1870.920044  1734.613000  1769.870506          False"
      ]
     },
     "execution_count": 18,
     "metadata": {},
     "output_type": "execute_result"
    }
   ],
   "source": [
    "amazon.tail()"
   ]
  },
  {
   "cell_type": "code",
   "execution_count": 19,
   "id": "a294eb7b",
   "metadata": {},
   "outputs": [],
   "source": [
    "# Señal\n",
    "#Crear una columna adicional que indique si se debe comprar o vender la acción\n",
    "amazon['Signal'] = 0\n",
    "amazon.loc[amazon['MA-10 > MA-60'], 'Signal'] = 1 #comprar/mantener\n",
    "amazon.loc[~amazon['MA-10 > MA-60'], 'Signal'] = -1 #vender/no comprar"
   ]
  },
  {
   "cell_type": "markdown",
   "id": "f01371c0",
   "metadata": {},
   "source": [
    "## Rendimiento/Retorno de una acción \n",
    "$r_t = \\frac{P_t - P_{t-1}}{P_{t-1}}$"
   ]
  },
  {
   "cell_type": "code",
   "execution_count": 21,
   "id": "25198dfd",
   "metadata": {},
   "outputs": [],
   "source": [
    "amazon['return'] = amazon['precio_cierre'].pct_change()"
   ]
  },
  {
   "cell_type": "code",
   "execution_count": 22,
   "id": "e95994f6",
   "metadata": {},
   "outputs": [
    {
     "data": {
      "text/html": [
       "<div>\n",
       "<style scoped>\n",
       "    .dataframe tbody tr th:only-of-type {\n",
       "        vertical-align: middle;\n",
       "    }\n",
       "\n",
       "    .dataframe tbody tr th {\n",
       "        vertical-align: top;\n",
       "    }\n",
       "\n",
       "    .dataframe thead th {\n",
       "        text-align: right;\n",
       "    }\n",
       "</style>\n",
       "<table border=\"1\" class=\"dataframe\">\n",
       "  <thead>\n",
       "    <tr style=\"text-align: right;\">\n",
       "      <th></th>\n",
       "      <th>precio_cierre</th>\n",
       "      <th>MA-10</th>\n",
       "      <th>MA-60</th>\n",
       "      <th>MA-10 &gt; MA-60</th>\n",
       "      <th>Signal</th>\n",
       "      <th>return</th>\n",
       "    </tr>\n",
       "    <tr>\n",
       "      <th>Date</th>\n",
       "      <th></th>\n",
       "      <th></th>\n",
       "      <th></th>\n",
       "      <th></th>\n",
       "      <th></th>\n",
       "      <th></th>\n",
       "    </tr>\n",
       "  </thead>\n",
       "  <tbody>\n",
       "    <tr>\n",
       "      <th>2019-01-02</th>\n",
       "      <td>1497.750000</td>\n",
       "      <td>NaN</td>\n",
       "      <td>NaN</td>\n",
       "      <td>False</td>\n",
       "      <td>-1</td>\n",
       "      <td>NaN</td>\n",
       "    </tr>\n",
       "    <tr>\n",
       "      <th>2019-01-03</th>\n",
       "      <td>1474.000000</td>\n",
       "      <td>NaN</td>\n",
       "      <td>NaN</td>\n",
       "      <td>False</td>\n",
       "      <td>-1</td>\n",
       "      <td>-0.015857</td>\n",
       "    </tr>\n",
       "    <tr>\n",
       "      <th>2019-01-04</th>\n",
       "      <td>1527.000000</td>\n",
       "      <td>NaN</td>\n",
       "      <td>NaN</td>\n",
       "      <td>False</td>\n",
       "      <td>-1</td>\n",
       "      <td>0.035957</td>\n",
       "    </tr>\n",
       "    <tr>\n",
       "      <th>2019-01-07</th>\n",
       "      <td>1578.361450</td>\n",
       "      <td>NaN</td>\n",
       "      <td>NaN</td>\n",
       "      <td>False</td>\n",
       "      <td>-1</td>\n",
       "      <td>0.033636</td>\n",
       "    </tr>\n",
       "    <tr>\n",
       "      <th>2019-01-08</th>\n",
       "      <td>1605.208984</td>\n",
       "      <td>NaN</td>\n",
       "      <td>NaN</td>\n",
       "      <td>False</td>\n",
       "      <td>-1</td>\n",
       "      <td>0.017010</td>\n",
       "    </tr>\n",
       "    <tr>\n",
       "      <th>...</th>\n",
       "      <td>...</td>\n",
       "      <td>...</td>\n",
       "      <td>...</td>\n",
       "      <td>...</td>\n",
       "      <td>...</td>\n",
       "      <td>...</td>\n",
       "    </tr>\n",
       "    <tr>\n",
       "      <th>2023-03-10</th>\n",
       "      <td>1673.250000</td>\n",
       "      <td>1692.439001</td>\n",
       "      <td>1763.292340</td>\n",
       "      <td>False</td>\n",
       "      <td>-1</td>\n",
       "      <td>-0.012791</td>\n",
       "    </tr>\n",
       "    <tr>\n",
       "      <th>2023-03-13</th>\n",
       "      <td>1752.089966</td>\n",
       "      <td>1695.770996</td>\n",
       "      <td>1763.516840</td>\n",
       "      <td>False</td>\n",
       "      <td>-1</td>\n",
       "      <td>0.047118</td>\n",
       "    </tr>\n",
       "    <tr>\n",
       "      <th>2023-03-14</th>\n",
       "      <td>1754.829956</td>\n",
       "      <td>1698.653992</td>\n",
       "      <td>1764.740171</td>\n",
       "      <td>False</td>\n",
       "      <td>-1</td>\n",
       "      <td>0.001564</td>\n",
       "    </tr>\n",
       "    <tr>\n",
       "      <th>2023-03-15</th>\n",
       "      <td>1826.000000</td>\n",
       "      <td>1714.455994</td>\n",
       "      <td>1767.101005</td>\n",
       "      <td>False</td>\n",
       "      <td>-1</td>\n",
       "      <td>0.040557</td>\n",
       "    </tr>\n",
       "    <tr>\n",
       "      <th>2023-03-16</th>\n",
       "      <td>1870.920044</td>\n",
       "      <td>1734.613000</td>\n",
       "      <td>1769.870506</td>\n",
       "      <td>False</td>\n",
       "      <td>-1</td>\n",
       "      <td>0.024600</td>\n",
       "    </tr>\n",
       "  </tbody>\n",
       "</table>\n",
       "<p>1061 rows × 6 columns</p>\n",
       "</div>"
      ],
      "text/plain": [
       "            precio_cierre        MA-10        MA-60  MA-10 > MA-60  Signal  \\\n",
       "Date                                                                         \n",
       "2019-01-02    1497.750000          NaN          NaN          False      -1   \n",
       "2019-01-03    1474.000000          NaN          NaN          False      -1   \n",
       "2019-01-04    1527.000000          NaN          NaN          False      -1   \n",
       "2019-01-07    1578.361450          NaN          NaN          False      -1   \n",
       "2019-01-08    1605.208984          NaN          NaN          False      -1   \n",
       "...                   ...          ...          ...            ...     ...   \n",
       "2023-03-10    1673.250000  1692.439001  1763.292340          False      -1   \n",
       "2023-03-13    1752.089966  1695.770996  1763.516840          False      -1   \n",
       "2023-03-14    1754.829956  1698.653992  1764.740171          False      -1   \n",
       "2023-03-15    1826.000000  1714.455994  1767.101005          False      -1   \n",
       "2023-03-16    1870.920044  1734.613000  1769.870506          False      -1   \n",
       "\n",
       "              return  \n",
       "Date                  \n",
       "2019-01-02       NaN  \n",
       "2019-01-03 -0.015857  \n",
       "2019-01-04  0.035957  \n",
       "2019-01-07  0.033636  \n",
       "2019-01-08  0.017010  \n",
       "...              ...  \n",
       "2023-03-10 -0.012791  \n",
       "2023-03-13  0.047118  \n",
       "2023-03-14  0.001564  \n",
       "2023-03-15  0.040557  \n",
       "2023-03-16  0.024600  \n",
       "\n",
       "[1061 rows x 6 columns]"
      ]
     },
     "execution_count": 22,
     "metadata": {},
     "output_type": "execute_result"
    }
   ],
   "source": [
    "amazon"
   ]
  },
  {
   "cell_type": "code",
   "execution_count": 25,
   "id": "ab033b29",
   "metadata": {},
   "outputs": [
    {
     "data": {
      "text/plain": [
       "Date\n",
       "2019-01-02         NaN\n",
       "2019-01-03   -0.015857\n",
       "2019-01-04    0.020099\n",
       "2019-01-07    0.053735\n",
       "2019-01-08    0.070745\n",
       "                ...   \n",
       "2023-03-10    0.366753\n",
       "2023-03-13    0.413870\n",
       "2023-03-14    0.415434\n",
       "2023-03-15    0.455991\n",
       "2023-03-16    0.480591\n",
       "Name: return, Length: 1061, dtype: float64"
      ]
     },
     "execution_count": 25,
     "metadata": {},
     "output_type": "execute_result"
    }
   ],
   "source": [
    "# retorno de todo el periodo\n",
    "amazon['return'].cumsum()"
   ]
  },
  {
   "cell_type": "code",
   "execution_count": 27,
   "id": "b8c06bae",
   "metadata": {},
   "outputs": [
    {
     "data": {
      "text/plain": [
       "Date\n",
       "2019-01-02         NaN\n",
       "2019-01-03   -0.015857\n",
       "2019-01-04    0.020099\n",
       "2019-01-07    0.053735\n",
       "2019-01-08    0.070745\n",
       "                ...   \n",
       "2023-03-10   -0.111094\n",
       "2023-03-13   -0.063976\n",
       "2023-03-14   -0.062412\n",
       "2023-03-15   -0.021856\n",
       "2023-03-16    0.002744\n",
       "Name: return, Length: 559, dtype: float64"
      ]
     },
     "execution_count": 27,
     "metadata": {},
     "output_type": "execute_result"
    }
   ],
   "source": [
    "#rendimiento cuando solo invertimos\n",
    "amazon.query('Signal == -1')['return'].cumsum()"
   ]
  }
 ],
 "metadata": {
  "kernelspec": {
   "display_name": "Python 3 (ipykernel)",
   "language": "python",
   "name": "python3"
  },
  "language_info": {
   "codemirror_mode": {
    "name": "ipython",
    "version": 3
   },
   "file_extension": ".py",
   "mimetype": "text/x-python",
   "name": "python",
   "nbconvert_exporter": "python",
   "pygments_lexer": "ipython3",
   "version": "3.9.12"
  }
 },
 "nbformat": 4,
 "nbformat_minor": 5
}
