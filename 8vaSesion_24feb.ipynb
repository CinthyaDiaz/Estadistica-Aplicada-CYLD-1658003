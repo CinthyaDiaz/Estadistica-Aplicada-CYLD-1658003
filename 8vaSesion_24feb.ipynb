{
 "cells": [
  {
   "cell_type": "markdown",
   "id": "b9a6a18d",
   "metadata": {},
   "source": [
    "# Estadística Aplicada\n",
    "## Cinthya Yesenia López Díaz 1658003\n",
    "### Sesión 8 a 24 feb 2023"
   ]
  },
  {
   "cell_type": "code",
   "execution_count": 2,
   "id": "8dfbcc9a",
   "metadata": {},
   "outputs": [],
   "source": [
    "#pip install lifelines \n",
    "import numpy as np\n",
    "import pandas as pd\n",
    "import matplotlib.pyplot as plt\n",
    "%matplotlib inline\n",
    "from lifelines import ExponentialFitter"
   ]
  },
  {
   "cell_type": "code",
   "execution_count": 4,
   "id": "c5463208",
   "metadata": {},
   "outputs": [],
   "source": [
    "#diccionario 1\n",
    "dic1 = {'tiempo': [5,8,12,24,32,17,16,17,19,30],\n",
    "       'recaida': [1,1,1,1,1,1,0,0,0,0]}"
   ]
  },
  {
   "cell_type": "code",
   "execution_count": 5,
   "id": "67f026ee",
   "metadata": {},
   "outputs": [],
   "source": [
    "datos = pd.DataFrame(dic1)"
   ]
  },
  {
   "cell_type": "code",
   "execution_count": 6,
   "id": "4a1b12c2",
   "metadata": {},
   "outputs": [
    {
     "data": {
      "text/html": [
       "<div>\n",
       "<style scoped>\n",
       "    .dataframe tbody tr th:only-of-type {\n",
       "        vertical-align: middle;\n",
       "    }\n",
       "\n",
       "    .dataframe tbody tr th {\n",
       "        vertical-align: top;\n",
       "    }\n",
       "\n",
       "    .dataframe thead th {\n",
       "        text-align: right;\n",
       "    }\n",
       "</style>\n",
       "<table border=\"1\" class=\"dataframe\">\n",
       "  <thead>\n",
       "    <tr style=\"text-align: right;\">\n",
       "      <th></th>\n",
       "      <th>tiempo</th>\n",
       "      <th>recaida</th>\n",
       "    </tr>\n",
       "  </thead>\n",
       "  <tbody>\n",
       "    <tr>\n",
       "      <th>0</th>\n",
       "      <td>5</td>\n",
       "      <td>1</td>\n",
       "    </tr>\n",
       "    <tr>\n",
       "      <th>1</th>\n",
       "      <td>8</td>\n",
       "      <td>1</td>\n",
       "    </tr>\n",
       "    <tr>\n",
       "      <th>2</th>\n",
       "      <td>12</td>\n",
       "      <td>1</td>\n",
       "    </tr>\n",
       "    <tr>\n",
       "      <th>3</th>\n",
       "      <td>24</td>\n",
       "      <td>1</td>\n",
       "    </tr>\n",
       "    <tr>\n",
       "      <th>4</th>\n",
       "      <td>32</td>\n",
       "      <td>1</td>\n",
       "    </tr>\n",
       "    <tr>\n",
       "      <th>5</th>\n",
       "      <td>17</td>\n",
       "      <td>1</td>\n",
       "    </tr>\n",
       "    <tr>\n",
       "      <th>6</th>\n",
       "      <td>16</td>\n",
       "      <td>0</td>\n",
       "    </tr>\n",
       "    <tr>\n",
       "      <th>7</th>\n",
       "      <td>17</td>\n",
       "      <td>0</td>\n",
       "    </tr>\n",
       "    <tr>\n",
       "      <th>8</th>\n",
       "      <td>19</td>\n",
       "      <td>0</td>\n",
       "    </tr>\n",
       "    <tr>\n",
       "      <th>9</th>\n",
       "      <td>30</td>\n",
       "      <td>0</td>\n",
       "    </tr>\n",
       "  </tbody>\n",
       "</table>\n",
       "</div>"
      ],
      "text/plain": [
       "   tiempo  recaida\n",
       "0       5        1\n",
       "1       8        1\n",
       "2      12        1\n",
       "3      24        1\n",
       "4      32        1\n",
       "5      17        1\n",
       "6      16        0\n",
       "7      17        0\n",
       "8      19        0\n",
       "9      30        0"
      ]
     },
     "execution_count": 6,
     "metadata": {},
     "output_type": "execute_result"
    }
   ],
   "source": [
    "datos"
   ]
  },
  {
   "cell_type": "markdown",
   "id": "eb2bf1e6",
   "metadata": {},
   "source": [
    "Suponer función de supervivencia exponencial"
   ]
  },
  {
   "cell_type": "markdown",
   "id": "16878e6d",
   "metadata": {},
   "source": [
    "$f(t)=\\lambda e^{-\\lambda t}, h(t) =\\lambda$"
   ]
  },
  {
   "cell_type": "markdown",
   "id": "434e090a",
   "metadata": {},
   "source": [
    "$\\hat{\\lambda} = \\frac{\\sum \\delta_i} {\\sum t_i}$"
   ]
  },
  {
   "cell_type": "code",
   "execution_count": 7,
   "id": "21a23acd",
   "metadata": {},
   "outputs": [],
   "source": [
    "ex1 = ExponentialFitter().fit(datos['tiempo'],datos['recaida'])"
   ]
  },
  {
   "cell_type": "code",
   "execution_count": 9,
   "id": "068dd587",
   "metadata": {},
   "outputs": [
    {
     "data": {
      "text/html": [
       "<div>\n",
       "<style scoped>\n",
       "    .dataframe tbody tr th:only-of-type {\n",
       "        vertical-align: middle;\n",
       "    }\n",
       "\n",
       "    .dataframe tbody tr th {\n",
       "        vertical-align: top;\n",
       "    }\n",
       "\n",
       "    .dataframe thead th {\n",
       "        text-align: right;\n",
       "    }\n",
       "</style>\n",
       "<table border=\"1\" class=\"dataframe\">\n",
       "  <thead>\n",
       "    <tr style=\"text-align: right;\">\n",
       "      <th></th>\n",
       "      <th>coef</th>\n",
       "      <th>se(coef)</th>\n",
       "      <th>coef lower 95%</th>\n",
       "      <th>coef upper 95%</th>\n",
       "      <th>cmp to</th>\n",
       "      <th>z</th>\n",
       "      <th>p</th>\n",
       "      <th>-log2(p)</th>\n",
       "    </tr>\n",
       "  </thead>\n",
       "  <tbody>\n",
       "    <tr>\n",
       "      <th>lambda_</th>\n",
       "      <td>30.0</td>\n",
       "      <td>12.247449</td>\n",
       "      <td>5.995442</td>\n",
       "      <td>54.004558</td>\n",
       "      <td>0.0</td>\n",
       "      <td>2.44949</td>\n",
       "      <td>0.014306</td>\n",
       "      <td>6.127248</td>\n",
       "    </tr>\n",
       "  </tbody>\n",
       "</table>\n",
       "</div>"
      ],
      "text/plain": [
       "         coef   se(coef)  coef lower 95%  ...        z         p  -log2(p)\n",
       "lambda_  30.0  12.247449        5.995442  ...  2.44949  0.014306  6.127248\n",
       "\n",
       "[1 rows x 8 columns]"
      ]
     },
     "execution_count": 9,
     "metadata": {},
     "output_type": "execute_result"
    }
   ],
   "source": [
    "#f(t)=(1/lambda)e^-(t/lambda)\n",
    "ex1.summary"
   ]
  },
  {
   "cell_type": "code",
   "execution_count": 10,
   "id": "a64a859b",
   "metadata": {},
   "outputs": [
    {
     "data": {
      "text/html": [
       "<div>\n",
       "<style scoped>\n",
       "    .dataframe tbody tr th:only-of-type {\n",
       "        vertical-align: middle;\n",
       "    }\n",
       "\n",
       "    .dataframe tbody tr th {\n",
       "        vertical-align: top;\n",
       "    }\n",
       "\n",
       "    .dataframe thead th {\n",
       "        text-align: right;\n",
       "    }\n",
       "</style>\n",
       "<table border=\"1\" class=\"dataframe\">\n",
       "  <thead>\n",
       "    <tr style=\"text-align: right;\">\n",
       "      <th></th>\n",
       "      <th>Exponential_estimate</th>\n",
       "    </tr>\n",
       "  </thead>\n",
       "  <tbody>\n",
       "    <tr>\n",
       "      <th>5.0</th>\n",
       "      <td>0.033333</td>\n",
       "    </tr>\n",
       "    <tr>\n",
       "      <th>8.0</th>\n",
       "      <td>0.033333</td>\n",
       "    </tr>\n",
       "    <tr>\n",
       "      <th>11.0</th>\n",
       "      <td>0.033333</td>\n",
       "    </tr>\n",
       "    <tr>\n",
       "      <th>14.0</th>\n",
       "      <td>0.033333</td>\n",
       "    </tr>\n",
       "    <tr>\n",
       "      <th>17.0</th>\n",
       "      <td>0.033333</td>\n",
       "    </tr>\n",
       "    <tr>\n",
       "      <th>20.0</th>\n",
       "      <td>0.033333</td>\n",
       "    </tr>\n",
       "    <tr>\n",
       "      <th>23.0</th>\n",
       "      <td>0.033333</td>\n",
       "    </tr>\n",
       "    <tr>\n",
       "      <th>26.0</th>\n",
       "      <td>0.033333</td>\n",
       "    </tr>\n",
       "    <tr>\n",
       "      <th>29.0</th>\n",
       "      <td>0.033333</td>\n",
       "    </tr>\n",
       "    <tr>\n",
       "      <th>32.0</th>\n",
       "      <td>0.033333</td>\n",
       "    </tr>\n",
       "  </tbody>\n",
       "</table>\n",
       "</div>"
      ],
      "text/plain": [
       "      Exponential_estimate\n",
       "5.0               0.033333\n",
       "8.0               0.033333\n",
       "11.0              0.033333\n",
       "14.0              0.033333\n",
       "17.0              0.033333\n",
       "20.0              0.033333\n",
       "23.0              0.033333\n",
       "26.0              0.033333\n",
       "29.0              0.033333\n",
       "32.0              0.033333"
      ]
     },
     "execution_count": 10,
     "metadata": {},
     "output_type": "execute_result"
    }
   ],
   "source": [
    "ex1.hazard_"
   ]
  },
  {
   "cell_type": "code",
   "execution_count": 11,
   "id": "c5090a64",
   "metadata": {},
   "outputs": [],
   "source": [
    "nuestra_lambda = datos['recaida'].sum()/datos['tiempo'].sum()"
   ]
  },
  {
   "cell_type": "code",
   "execution_count": 12,
   "id": "da0f07f3",
   "metadata": {},
   "outputs": [
    {
     "data": {
      "text/plain": [
       "0.03333333333333333"
      ]
     },
     "execution_count": 12,
     "metadata": {},
     "output_type": "execute_result"
    }
   ],
   "source": [
    "nuestra_lambda"
   ]
  },
  {
   "cell_type": "code",
   "execution_count": 13,
   "id": "cd1920eb",
   "metadata": {},
   "outputs": [
    {
     "data": {
      "text/plain": [
       "16    0.586646\n",
       "Name: Exponential_estimate, dtype: float64"
      ]
     },
     "execution_count": 13,
     "metadata": {},
     "output_type": "execute_result"
    }
   ],
   "source": [
    "ex1.survival_function_at_times(16)"
   ]
  },
  {
   "cell_type": "markdown",
   "id": "0d146e9f",
   "metadata": {},
   "source": [
    "1. Función de densidad de probabilidad \n",
    "2. Función de supervivencia\n",
    "3. Función de riesgo\n",
    "4. Función acumulada"
   ]
  },
  {
   "cell_type": "code",
   "execution_count": 15,
   "id": "b55be135",
   "metadata": {},
   "outputs": [
    {
     "data": {
      "image/png": "[encoded data removed]",
      "text/plain": [
       "<Figure size 432x288 with 1 Axes>"
      ]
     },
     "metadata": {
      "needs_background": "light"
     },
     "output_type": "display_data"
    }
   ],
   "source": [
    "ex1.plot_density(label=\"función de densidad de probabilidad\");"
   ]
  },
  {
   "cell_type": "code",
   "execution_count": 16,
   "id": "dba52e64",
   "metadata": {},
   "outputs": [
    {
     "data": {
      "image/png": "[encoded data removed]",
      "text/plain": [
       "<Figure size 432x288 with 1 Axes>"
      ]
     },
     "metadata": {
      "needs_background": "light"
     },
     "output_type": "display_data"
    }
   ],
   "source": [
    "ex1.plot_survival_function(label=\"función de supervivencia\"); #el area sombreada es el intervalo de confianza"
   ]
  },
  {
   "cell_type": "code",
   "execution_count": 20,
   "id": "7bb6f3d2",
   "metadata": {},
   "outputs": [
    {
     "data": {
      "image/png": "[encoded data removed]",
      "text/plain": [
       "<Figure size 432x288 with 1 Axes>"
      ]
     },
     "metadata": {
      "needs_background": "light"
     },
     "output_type": "display_data"
    }
   ],
   "source": [
    "ex1.plot_hazard(label='h(t)');\n",
    "plt.ylim(0,0.1);\n",
    "plt.xlim(5,32);"
   ]
  },
  {
   "cell_type": "code",
   "execution_count": 22,
   "id": "7765ca68",
   "metadata": {},
   "outputs": [
    {
     "data": {
      "image/png": "[encoded data removed]",
      "text/plain": [
       "<Figure size 432x288 with 1 Axes>"
      ]
     },
     "metadata": {
      "needs_background": "light"
     },
     "output_type": "display_data"
    }
   ],
   "source": [
    "ex1.plot_cumulative_density(label='F(t)');\n",
    "plt.xlim(5,32);"
   ]
  },
  {
   "cell_type": "code",
   "execution_count": 27,
   "id": "53f123d7",
   "metadata": {},
   "outputs": [
    {
     "data": {
      "text/plain": [
       "20.794415437592868"
      ]
     },
     "execution_count": 27,
     "metadata": {},
     "output_type": "execute_result"
    }
   ],
   "source": [
    "ex1.median_survival_time_ "
   ]
  },
  {
   "cell_type": "markdown",
   "id": "30b8a078",
   "metadata": {},
   "source": [
    "En el mes 20.8 el 50% de los pacientes ya han sufrido la recaida de la enfermedad."
   ]
  },
  {
   "cell_type": "code",
   "execution_count": 23,
   "id": "56c9bcd2",
   "metadata": {},
   "outputs": [],
   "source": [
    "from lifelines.datasets import load_rossi"
   ]
  },
  {
   "cell_type": "code",
   "execution_count": 25,
   "id": "ad0f512e",
   "metadata": {},
   "outputs": [],
   "source": [
    "rossi = load_rossi()"
   ]
  },
  {
   "cell_type": "code",
   "execution_count": 26,
   "id": "3ca91737",
   "metadata": {},
   "outputs": [
    {
     "data": {
      "text/html": [
       "<div>\n",
       "<style scoped>\n",
       "    .dataframe tbody tr th:only-of-type {\n",
       "        vertical-align: middle;\n",
       "    }\n",
       "\n",
       "    .dataframe tbody tr th {\n",
       "        vertical-align: top;\n",
       "    }\n",
       "\n",
       "    .dataframe thead th {\n",
       "        text-align: right;\n",
       "    }\n",
       "</style>\n",
       "<table border=\"1\" class=\"dataframe\">\n",
       "  <thead>\n",
       "    <tr style=\"text-align: right;\">\n",
       "      <th></th>\n",
       "      <th>week</th>\n",
       "      <th>arrest</th>\n",
       "      <th>fin</th>\n",
       "      <th>age</th>\n",
       "      <th>race</th>\n",
       "      <th>wexp</th>\n",
       "      <th>mar</th>\n",
       "      <th>paro</th>\n",
       "      <th>prio</th>\n",
       "    </tr>\n",
       "  </thead>\n",
       "  <tbody>\n",
       "    <tr>\n",
       "      <th>0</th>\n",
       "      <td>20</td>\n",
       "      <td>1</td>\n",
       "      <td>0</td>\n",
       "      <td>27</td>\n",
       "      <td>1</td>\n",
       "      <td>0</td>\n",
       "      <td>0</td>\n",
       "      <td>1</td>\n",
       "      <td>3</td>\n",
       "    </tr>\n",
       "    <tr>\n",
       "      <th>1</th>\n",
       "      <td>17</td>\n",
       "      <td>1</td>\n",
       "      <td>0</td>\n",
       "      <td>18</td>\n",
       "      <td>1</td>\n",
       "      <td>0</td>\n",
       "      <td>0</td>\n",
       "      <td>1</td>\n",
       "      <td>8</td>\n",
       "    </tr>\n",
       "    <tr>\n",
       "      <th>2</th>\n",
       "      <td>25</td>\n",
       "      <td>1</td>\n",
       "      <td>0</td>\n",
       "      <td>19</td>\n",
       "      <td>0</td>\n",
       "      <td>1</td>\n",
       "      <td>0</td>\n",
       "      <td>1</td>\n",
       "      <td>13</td>\n",
       "    </tr>\n",
       "    <tr>\n",
       "      <th>3</th>\n",
       "      <td>52</td>\n",
       "      <td>0</td>\n",
       "      <td>1</td>\n",
       "      <td>23</td>\n",
       "      <td>1</td>\n",
       "      <td>1</td>\n",
       "      <td>1</td>\n",
       "      <td>1</td>\n",
       "      <td>1</td>\n",
       "    </tr>\n",
       "    <tr>\n",
       "      <th>4</th>\n",
       "      <td>52</td>\n",
       "      <td>0</td>\n",
       "      <td>0</td>\n",
       "      <td>19</td>\n",
       "      <td>0</td>\n",
       "      <td>1</td>\n",
       "      <td>0</td>\n",
       "      <td>1</td>\n",
       "      <td>3</td>\n",
       "    </tr>\n",
       "    <tr>\n",
       "      <th>...</th>\n",
       "      <td>...</td>\n",
       "      <td>...</td>\n",
       "      <td>...</td>\n",
       "      <td>...</td>\n",
       "      <td>...</td>\n",
       "      <td>...</td>\n",
       "      <td>...</td>\n",
       "      <td>...</td>\n",
       "      <td>...</td>\n",
       "    </tr>\n",
       "    <tr>\n",
       "      <th>427</th>\n",
       "      <td>52</td>\n",
       "      <td>0</td>\n",
       "      <td>1</td>\n",
       "      <td>31</td>\n",
       "      <td>0</td>\n",
       "      <td>1</td>\n",
       "      <td>0</td>\n",
       "      <td>1</td>\n",
       "      <td>3</td>\n",
       "    </tr>\n",
       "    <tr>\n",
       "      <th>428</th>\n",
       "      <td>52</td>\n",
       "      <td>0</td>\n",
       "      <td>0</td>\n",
       "      <td>20</td>\n",
       "      <td>1</td>\n",
       "      <td>0</td>\n",
       "      <td>0</td>\n",
       "      <td>1</td>\n",
       "      <td>1</td>\n",
       "    </tr>\n",
       "    <tr>\n",
       "      <th>429</th>\n",
       "      <td>52</td>\n",
       "      <td>0</td>\n",
       "      <td>1</td>\n",
       "      <td>20</td>\n",
       "      <td>1</td>\n",
       "      <td>1</td>\n",
       "      <td>1</td>\n",
       "      <td>1</td>\n",
       "      <td>1</td>\n",
       "    </tr>\n",
       "    <tr>\n",
       "      <th>430</th>\n",
       "      <td>52</td>\n",
       "      <td>0</td>\n",
       "      <td>0</td>\n",
       "      <td>29</td>\n",
       "      <td>1</td>\n",
       "      <td>1</td>\n",
       "      <td>0</td>\n",
       "      <td>1</td>\n",
       "      <td>3</td>\n",
       "    </tr>\n",
       "    <tr>\n",
       "      <th>431</th>\n",
       "      <td>52</td>\n",
       "      <td>0</td>\n",
       "      <td>1</td>\n",
       "      <td>24</td>\n",
       "      <td>1</td>\n",
       "      <td>1</td>\n",
       "      <td>0</td>\n",
       "      <td>1</td>\n",
       "      <td>1</td>\n",
       "    </tr>\n",
       "  </tbody>\n",
       "</table>\n",
       "<p>432 rows × 9 columns</p>\n",
       "</div>"
      ],
      "text/plain": [
       "     week  arrest  fin  age  race  wexp  mar  paro  prio\n",
       "0      20       1    0   27     1     0    0     1     3\n",
       "1      17       1    0   18     1     0    0     1     8\n",
       "2      25       1    0   19     0     1    0     1    13\n",
       "3      52       0    1   23     1     1    1     1     1\n",
       "4      52       0    0   19     0     1    0     1     3\n",
       "..    ...     ...  ...  ...   ...   ...  ...   ...   ...\n",
       "427    52       0    1   31     0     1    0     1     3\n",
       "428    52       0    0   20     1     0    0     1     1\n",
       "429    52       0    1   20     1     1    1     1     1\n",
       "430    52       0    0   29     1     1    0     1     3\n",
       "431    52       0    1   24     1     1    0     1     1\n",
       "\n",
       "[432 rows x 9 columns]"
      ]
     },
     "execution_count": 26,
     "metadata": {},
     "output_type": "execute_result"
    }
   ],
   "source": [
    "rossi"
   ]
  },
  {
   "cell_type": "code",
   "execution_count": 28,
   "id": "6ebc6339",
   "metadata": {},
   "outputs": [],
   "source": [
    "#week = tiempo en que ocurre el evento (carcel) en un año, fin = le dieron el dinero al liberarlo, \n",
    "#wexp = experiencia laboral, prio =veces en las que ha sido arrestado, mar = casado, paro = libertad condicional."
   ]
  },
  {
   "cell_type": "markdown",
   "id": "ef3f03a3",
   "metadata": {},
   "source": [
    "¿si el tiempo de supervivencia (el tiempo de volver a ser arrestado) es exponencial, webull o lognormal?"
   ]
  },
  {
   "cell_type": "code",
   "execution_count": 29,
   "id": "efae1418",
   "metadata": {},
   "outputs": [],
   "source": [
    "ex2 = ExponentialFitter().fit(rossi['week'], rossi['arrest'])"
   ]
  },
  {
   "cell_type": "code",
   "execution_count": 32,
   "id": "e0348de1",
   "metadata": {},
   "outputs": [
    {
     "data": {
      "image/png": "[encoded data removed]",
      "text/plain": [
       "<Figure size 432x288 with 1 Axes>"
      ]
     },
     "metadata": {
      "needs_background": "light"
     },
     "output_type": "display_data"
    }
   ],
   "source": [
    "ex2.plot_hazard();\n",
    "plt.ylim(0,0.01);\n",
    "plt.xlim(0,52);"
   ]
  },
  {
   "cell_type": "code",
   "execution_count": 33,
   "id": "4845d0d3",
   "metadata": {},
   "outputs": [
    {
     "data": {
      "text/html": [
       "<div>\n",
       "<style scoped>\n",
       "    .dataframe tbody tr th:only-of-type {\n",
       "        vertical-align: middle;\n",
       "    }\n",
       "\n",
       "    .dataframe tbody tr th {\n",
       "        vertical-align: top;\n",
       "    }\n",
       "\n",
       "    .dataframe thead th {\n",
       "        text-align: right;\n",
       "    }\n",
       "</style>\n",
       "<table border=\"1\" class=\"dataframe\">\n",
       "  <thead>\n",
       "    <tr style=\"text-align: right;\">\n",
       "      <th></th>\n",
       "      <th>Exponential_estimate</th>\n",
       "    </tr>\n",
       "  </thead>\n",
       "  <tbody>\n",
       "    <tr>\n",
       "      <th>1.000000</th>\n",
       "      <td>0.005755</td>\n",
       "    </tr>\n",
       "    <tr>\n",
       "      <th>1.118329</th>\n",
       "      <td>0.005755</td>\n",
       "    </tr>\n",
       "    <tr>\n",
       "      <th>1.236659</th>\n",
       "      <td>0.005755</td>\n",
       "    </tr>\n",
       "    <tr>\n",
       "      <th>1.354988</th>\n",
       "      <td>0.005755</td>\n",
       "    </tr>\n",
       "    <tr>\n",
       "      <th>1.473318</th>\n",
       "      <td>0.005755</td>\n",
       "    </tr>\n",
       "    <tr>\n",
       "      <th>...</th>\n",
       "      <td>...</td>\n",
       "    </tr>\n",
       "    <tr>\n",
       "      <th>51.526682</th>\n",
       "      <td>0.005755</td>\n",
       "    </tr>\n",
       "    <tr>\n",
       "      <th>51.645012</th>\n",
       "      <td>0.005755</td>\n",
       "    </tr>\n",
       "    <tr>\n",
       "      <th>51.763341</th>\n",
       "      <td>0.005755</td>\n",
       "    </tr>\n",
       "    <tr>\n",
       "      <th>51.881671</th>\n",
       "      <td>0.005755</td>\n",
       "    </tr>\n",
       "    <tr>\n",
       "      <th>52.000000</th>\n",
       "      <td>0.005755</td>\n",
       "    </tr>\n",
       "  </tbody>\n",
       "</table>\n",
       "<p>432 rows × 1 columns</p>\n",
       "</div>"
      ],
      "text/plain": [
       "           Exponential_estimate\n",
       "1.000000               0.005755\n",
       "1.118329               0.005755\n",
       "1.236659               0.005755\n",
       "1.354988               0.005755\n",
       "1.473318               0.005755\n",
       "...                         ...\n",
       "51.526682              0.005755\n",
       "51.645012              0.005755\n",
       "51.763341              0.005755\n",
       "51.881671              0.005755\n",
       "52.000000              0.005755\n",
       "\n",
       "[432 rows x 1 columns]"
      ]
     },
     "execution_count": 33,
     "metadata": {},
     "output_type": "execute_result"
    }
   ],
   "source": [
    "ex2.hazard_"
   ]
  },
  {
   "cell_type": "code",
   "execution_count": 34,
   "id": "6bb5f194",
   "metadata": {},
   "outputs": [],
   "source": [
    "from lifelines import WeibullFitter"
   ]
  },
  {
   "cell_type": "code",
   "execution_count": 35,
   "id": "18ce6619",
   "metadata": {},
   "outputs": [],
   "source": [
    "weib1 = WeibullFitter().fit(rossi['week'],rossi['arrest'])"
   ]
  },
  {
   "cell_type": "code",
   "execution_count": 38,
   "id": "f1c31b34",
   "metadata": {},
   "outputs": [
    {
     "data": {
      "image/png": "[encoded data removed]",
      "text/plain": [
       "<Figure size 432x288 with 1 Axes>"
      ]
     },
     "metadata": {
      "needs_background": "light"
     },
     "output_type": "display_data"
    }
   ],
   "source": [
    "#entre más tiempo pase, más probable que vuelvan a arrestarte\n",
    "weib1.plot_hazard()\n",
    "plt.ylim(0,0.01)\n",
    "plt.xlim(0.8,52);"
   ]
  },
  {
   "cell_type": "code",
   "execution_count": 39,
   "id": "de26ef8f",
   "metadata": {},
   "outputs": [],
   "source": [
    "from lifelines import LogNormalFitter "
   ]
  },
  {
   "cell_type": "code",
   "execution_count": 40,
   "id": "ebf3f472",
   "metadata": {},
   "outputs": [],
   "source": [
    "logn1 = LogNormalFitter().fit(rossi['week'],rossi['arrest'])"
   ]
  },
  {
   "cell_type": "code",
   "execution_count": 41,
   "id": "7691d624",
   "metadata": {},
   "outputs": [
    {
     "data": {
      "image/png": "[encoded data removed]",
      "text/plain": [
       "<Figure size 432x288 with 1 Axes>"
      ]
     },
     "metadata": {
      "needs_background": "light"
     },
     "output_type": "display_data"
    }
   ],
   "source": [
    "#entre más pase el tiempo, menos probabilidad tienes que vuelvan..\n",
    "logn1.plot_hazard()\n",
    "plt.ylim(0,0.01)\n",
    "plt.xlim(0.8,52);"
   ]
  },
  {
   "cell_type": "markdown",
   "id": "7ad18d76",
   "metadata": {},
   "source": [
    "Para comparar modelos y elegir el \"mejor\" se suele utilizar el criterio de Información de Akaike (AIC) cuya formula es $AIC = -2Log(L) + 2k$ donde k es el número de parámetros a estimar.\n",
    "\n",
    "El \"mejor\" modelo es el que tiene el menor valor del AIC.\n",
    "El criterio de Akaike \"prefiere\" modelos más simples en lugar de complejos."
   ]
  },
  {
   "cell_type": "code",
   "execution_count": 42,
   "id": "799f25a6",
   "metadata": {},
   "outputs": [
    {
     "name": "stderr",
     "output_type": "stream",
     "text": [
      "C:\\Users\\Lenovo\\anaconda3\\lib\\site-packages\\lifelines\\utils\\printer.py:62: FutureWarning: In future versions `DataFrame.to_latex` is expected to utilise the base implementation of `Styler.to_latex` for formatting and rendering. The arguments signature may therefore change. It is recommended instead to use `DataFrame.style.to_latex` which also contains additional functionality.\n",
      "  return summary_df[columns].to_latex(float_format=\"%.\" + str(self.decimals) + \"f\")\n"
     ]
    },
    {
     "data": {
      "text/html": [
       "<div>\n",
       "<style scoped>\n",
       "    .dataframe tbody tr th:only-of-type {\n",
       "        vertical-align: middle;\n",
       "    }\n",
       "\n",
       "    .dataframe tbody tr th {\n",
       "        vertical-align: top;\n",
       "    }\n",
       "\n",
       "    .dataframe thead th {\n",
       "        text-align: right;\n",
       "    }\n",
       "</style>\n",
       "<table border=\"1\" class=\"dataframe\">\n",
       "  <tbody>\n",
       "    <tr>\n",
       "      <th>model</th>\n",
       "      <td>lifelines.ExponentialFitter</td>\n",
       "    </tr>\n",
       "    <tr>\n",
       "      <th>number of observations</th>\n",
       "      <td>432</td>\n",
       "    </tr>\n",
       "    <tr>\n",
       "      <th>number of events observed</th>\n",
       "      <td>114</td>\n",
       "    </tr>\n",
       "    <tr>\n",
       "      <th>log-likelihood</th>\n",
       "      <td>-701.98</td>\n",
       "    </tr>\n",
       "    <tr>\n",
       "      <th>hypothesis</th>\n",
       "      <td>lambda_ != 0</td>\n",
       "    </tr>\n",
       "  </tbody>\n",
       "</table>\n",
       "</div><table border=\"1\" class=\"dataframe\">\n",
       "  <thead>\n",
       "    <tr style=\"text-align: right;\">\n",
       "      <th style=\"min-width: 12px;\"></th>\n",
       "      <th style=\"min-width: 12px;\">coef</th>\n",
       "      <th style=\"min-width: 12px;\">se(coef)</th>\n",
       "      <th style=\"min-width: 12px;\">coef lower 95%</th>\n",
       "      <th style=\"min-width: 12px;\">coef upper 95%</th>\n",
       "      <th style=\"min-width: 12px;\">cmp to</th>\n",
       "      <th style=\"min-width: 12px;\">z</th>\n",
       "      <th style=\"min-width: 12px;\">p</th>\n",
       "      <th style=\"min-width: 12px;\">-log2(p)</th>\n",
       "    </tr>\n",
       "  </thead>\n",
       "  <tbody>\n",
       "    <tr>\n",
       "      <th>lambda_</th>\n",
       "      <td>173.76</td>\n",
       "      <td>16.27</td>\n",
       "      <td>141.87</td>\n",
       "      <td>205.66</td>\n",
       "      <td>0.00</td>\n",
       "      <td>10.68</td>\n",
       "      <td>&lt;0.005</td>\n",
       "      <td>85.99</td>\n",
       "    </tr>\n",
       "  </tbody>\n",
       "</table><br><div>\n",
       "<style scoped>\n",
       "    .dataframe tbody tr th:only-of-type {\n",
       "        vertical-align: middle;\n",
       "    }\n",
       "\n",
       "    .dataframe tbody tr th {\n",
       "        vertical-align: top;\n",
       "    }\n",
       "\n",
       "    .dataframe thead th {\n",
       "        text-align: right;\n",
       "    }\n",
       "</style>\n",
       "<table border=\"1\" class=\"dataframe\">\n",
       "  <tbody>\n",
       "    <tr>\n",
       "      <th>AIC</th>\n",
       "      <td>1405.95</td>\n",
       "    </tr>\n",
       "  </tbody>\n",
       "</table>\n",
       "</div>"
      ],
      "text/latex": [
       "\\begin{tabular}{lrrrrrrrr}\n",
       "\\toprule\n",
       "{} &   coef &  se(coef) &  coef lower 95\\% &  coef upper 95\\% &  cmp to &     z &    p &  -log2(p) \\\\\n",
       "\\midrule\n",
       "lambda\\_ & 173.76 &     16.27 &          141.87 &          205.66 &    0.00 & 10.68 & 0.00 &     85.99 \\\\\n",
       "\\bottomrule\n",
       "\\end{tabular}\n"
      ],
      "text/plain": [
       "<lifelines.ExponentialFitter:\"Exponential_estimate\", fitted with 432 total observations, 318 right-censored observations>\n",
       "   number of observations = 432\n",
       "number of events observed = 114\n",
       "           log-likelihood = -701.98\n",
       "               hypothesis = lambda_ != 0\n",
       "\n",
       "---\n",
       "          coef   se(coef)   coef lower 95%   coef upper 95%\n",
       "lambda_ 173.76      16.27           141.87           205.66\n",
       "\n",
       "          cmp to     z      p   -log2(p)\n",
       "lambda_     0.00 10.68 <0.005      85.99\n",
       "---\n",
       "AIC = 1405.95"
      ]
     },
     "metadata": {},
     "output_type": "display_data"
    }
   ],
   "source": [
    "ex2.print_summary()"
   ]
  },
  {
   "cell_type": "code",
   "execution_count": 49,
   "id": "6def0478",
   "metadata": {},
   "outputs": [
    {
     "name": "stdout",
     "output_type": "stream",
     "text": [
      "exponencial 1405.95, weibull 1397.25, lognormal 1399.82\n"
     ]
    }
   ],
   "source": [
    "print(f'exponencial {ex2.AIC_.round(2)}, weibull {weib1.AIC_.round(2)}, lognormal {logn1.AIC_.round(2)}')"
   ]
  },
  {
   "cell_type": "markdown",
   "id": "eccd9205",
   "metadata": {},
   "source": [
    "De acuerdo con el criterio de Akaike (AIC) el modelo que mejor estima el tiempo de supervivencia de volver a ser arrestado es el modelo Weibull. En esste modelo el riesgode volver a ser arrestado es creciente."
   ]
  },
  {
   "cell_type": "code",
   "execution_count": 50,
   "id": "e0a9888f",
   "metadata": {},
   "outputs": [
    {
     "data": {
      "image/png": "[encoded data removed]",
      "text/plain": [
       "<Figure size 432x288 with 1 Axes>"
      ]
     },
     "metadata": {
      "needs_background": "light"
     },
     "output_type": "display_data"
    }
   ],
   "source": [
    "weib1.plot_density();"
   ]
  },
  {
   "cell_type": "code",
   "execution_count": 51,
   "id": "74d77139",
   "metadata": {},
   "outputs": [
    {
     "data": {
      "image/png": "[encoded data removed]",
      "text/plain": [
       "<Figure size 432x288 with 1 Axes>"
      ]
     },
     "metadata": {
      "needs_background": "light"
     },
     "output_type": "display_data"
    }
   ],
   "source": [
    "logn1.plot_density();"
   ]
  }
 ],
 "metadata": {
  "kernelspec": {
   "display_name": "Python 3 (ipykernel)",
   "language": "python",
   "name": "python3"
  },
  "language_info": {
   "codemirror_mode": {
    "name": "ipython",
    "version": 3
   },
   "file_extension": ".py",
   "mimetype": "text/x-python",
   "name": "python",
   "nbconvert_exporter": "python",
   "pygments_lexer": "ipython3",
   "version": "3.9.12"
  }
 },
 "nbformat": 4,
 "nbformat_minor": 5
}
