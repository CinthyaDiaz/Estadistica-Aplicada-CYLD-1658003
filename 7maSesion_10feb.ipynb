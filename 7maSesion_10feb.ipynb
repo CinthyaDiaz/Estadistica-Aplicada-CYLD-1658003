{
 "cells": [
  {
   "cell_type": "markdown",
   "id": "2d382a4c",
   "metadata": {},
   "source": [
    "# Estadística Aplicada\n",
    "## Cinthya Yesenia López Díaz 1658003\n",
    "### Sesion 7 a 10 feb 2023"
   ]
  },
  {
   "cell_type": "markdown",
   "id": "c07f19b9",
   "metadata": {},
   "source": [
    "**Repaso de Regresión Lineal**"
   ]
  },
  {
   "cell_type": "code",
   "execution_count": 2,
   "id": "cb87d251",
   "metadata": {},
   "outputs": [],
   "source": [
    "import numpy as np\n",
    "import pandas as pd \n",
    "import matplotlib.pyplot as plt\n",
    "import statsmodels.formula.api as smf\n",
    "%matplotlib inline\n",
    "#pip instal statsmodels si no esta instalada"
   ]
  },
  {
   "cell_type": "code",
   "execution_count": 3,
   "id": "c8aab46f",
   "metadata": {},
   "outputs": [],
   "source": [
    "datos = pd.read_excel('modelolineal (2).xlsx')"
   ]
  },
  {
   "cell_type": "code",
   "execution_count": 4,
   "id": "27bb188f",
   "metadata": {},
   "outputs": [
    {
     "data": {
      "text/plain": [
       "(30, 3)"
      ]
     },
     "execution_count": 4,
     "metadata": {},
     "output_type": "execute_result"
    }
   ],
   "source": [
    "datos.shape"
   ]
  },
  {
   "cell_type": "code",
   "execution_count": 5,
   "id": "987b0d76",
   "metadata": {},
   "outputs": [
    {
     "data": {
      "text/html": [
       "<div>\n",
       "<style scoped>\n",
       "    .dataframe tbody tr th:only-of-type {\n",
       "        vertical-align: middle;\n",
       "    }\n",
       "\n",
       "    .dataframe tbody tr th {\n",
       "        vertical-align: top;\n",
       "    }\n",
       "\n",
       "    .dataframe thead th {\n",
       "        text-align: right;\n",
       "    }\n",
       "</style>\n",
       "<table border=\"1\" class=\"dataframe\">\n",
       "  <thead>\n",
       "    <tr style=\"text-align: right;\">\n",
       "      <th></th>\n",
       "      <th>observación</th>\n",
       "      <th>Y</th>\n",
       "      <th>X</th>\n",
       "    </tr>\n",
       "  </thead>\n",
       "  <tbody>\n",
       "    <tr>\n",
       "      <th>0</th>\n",
       "      <td>1</td>\n",
       "      <td>19.246957</td>\n",
       "      <td>23</td>\n",
       "    </tr>\n",
       "    <tr>\n",
       "      <th>1</th>\n",
       "      <td>2</td>\n",
       "      <td>16.878501</td>\n",
       "      <td>19</td>\n",
       "    </tr>\n",
       "    <tr>\n",
       "      <th>2</th>\n",
       "      <td>3</td>\n",
       "      <td>20.187237</td>\n",
       "      <td>27</td>\n",
       "    </tr>\n",
       "    <tr>\n",
       "      <th>3</th>\n",
       "      <td>4</td>\n",
       "      <td>12.176789</td>\n",
       "      <td>13</td>\n",
       "    </tr>\n",
       "    <tr>\n",
       "      <th>4</th>\n",
       "      <td>5</td>\n",
       "      <td>21.420112</td>\n",
       "      <td>21</td>\n",
       "    </tr>\n",
       "  </tbody>\n",
       "</table>\n",
       "</div>"
      ],
      "text/plain": [
       "   observación          Y   X\n",
       "0            1  19.246957  23\n",
       "1            2  16.878501  19\n",
       "2            3  20.187237  27\n",
       "3            4  12.176789  13\n",
       "4            5  21.420112  21"
      ]
     },
     "execution_count": 5,
     "metadata": {},
     "output_type": "execute_result"
    }
   ],
   "source": [
    "datos.head()"
   ]
  },
  {
   "cell_type": "code",
   "execution_count": 7,
   "id": "c70fbf2f",
   "metadata": {},
   "outputs": [],
   "source": [
    "datos = datos.set_index('observación')"
   ]
  },
  {
   "cell_type": "code",
   "execution_count": 8,
   "id": "5b55a625",
   "metadata": {},
   "outputs": [
    {
     "data": {
      "text/html": [
       "<div>\n",
       "<style scoped>\n",
       "    .dataframe tbody tr th:only-of-type {\n",
       "        vertical-align: middle;\n",
       "    }\n",
       "\n",
       "    .dataframe tbody tr th {\n",
       "        vertical-align: top;\n",
       "    }\n",
       "\n",
       "    .dataframe thead th {\n",
       "        text-align: right;\n",
       "    }\n",
       "</style>\n",
       "<table border=\"1\" class=\"dataframe\">\n",
       "  <thead>\n",
       "    <tr style=\"text-align: right;\">\n",
       "      <th></th>\n",
       "      <th>Y</th>\n",
       "      <th>X</th>\n",
       "    </tr>\n",
       "    <tr>\n",
       "      <th>observación</th>\n",
       "      <th></th>\n",
       "      <th></th>\n",
       "    </tr>\n",
       "  </thead>\n",
       "  <tbody>\n",
       "    <tr>\n",
       "      <th>1</th>\n",
       "      <td>19.246957</td>\n",
       "      <td>23</td>\n",
       "    </tr>\n",
       "    <tr>\n",
       "      <th>2</th>\n",
       "      <td>16.878501</td>\n",
       "      <td>19</td>\n",
       "    </tr>\n",
       "    <tr>\n",
       "      <th>3</th>\n",
       "      <td>20.187237</td>\n",
       "      <td>27</td>\n",
       "    </tr>\n",
       "    <tr>\n",
       "      <th>4</th>\n",
       "      <td>12.176789</td>\n",
       "      <td>13</td>\n",
       "    </tr>\n",
       "    <tr>\n",
       "      <th>5</th>\n",
       "      <td>21.420112</td>\n",
       "      <td>21</td>\n",
       "    </tr>\n",
       "  </tbody>\n",
       "</table>\n",
       "</div>"
      ],
      "text/plain": [
       "                     Y   X\n",
       "observación               \n",
       "1            19.246957  23\n",
       "2            16.878501  19\n",
       "3            20.187237  27\n",
       "4            12.176789  13\n",
       "5            21.420112  21"
      ]
     },
     "execution_count": 8,
     "metadata": {},
     "output_type": "execute_result"
    }
   ],
   "source": [
    "datos.head()"
   ]
  },
  {
   "cell_type": "code",
   "execution_count": 9,
   "id": "590590be",
   "metadata": {},
   "outputs": [
    {
     "data": {
      "text/html": [
       "<div>\n",
       "<style scoped>\n",
       "    .dataframe tbody tr th:only-of-type {\n",
       "        vertical-align: middle;\n",
       "    }\n",
       "\n",
       "    .dataframe tbody tr th {\n",
       "        vertical-align: top;\n",
       "    }\n",
       "\n",
       "    .dataframe thead th {\n",
       "        text-align: right;\n",
       "    }\n",
       "</style>\n",
       "<table border=\"1\" class=\"dataframe\">\n",
       "  <thead>\n",
       "    <tr style=\"text-align: right;\">\n",
       "      <th></th>\n",
       "      <th>Y</th>\n",
       "      <th>X</th>\n",
       "    </tr>\n",
       "  </thead>\n",
       "  <tbody>\n",
       "    <tr>\n",
       "      <th>count</th>\n",
       "      <td>30.000000</td>\n",
       "      <td>30.000000</td>\n",
       "    </tr>\n",
       "    <tr>\n",
       "      <th>mean</th>\n",
       "      <td>19.038965</td>\n",
       "      <td>17.333333</td>\n",
       "    </tr>\n",
       "    <tr>\n",
       "      <th>std</th>\n",
       "      <td>5.689742</td>\n",
       "      <td>8.372094</td>\n",
       "    </tr>\n",
       "    <tr>\n",
       "      <th>min</th>\n",
       "      <td>6.808838</td>\n",
       "      <td>0.000000</td>\n",
       "    </tr>\n",
       "    <tr>\n",
       "      <th>25%</th>\n",
       "      <td>14.128834</td>\n",
       "      <td>12.250000</td>\n",
       "    </tr>\n",
       "    <tr>\n",
       "      <th>50%</th>\n",
       "      <td>19.937977</td>\n",
       "      <td>19.000000</td>\n",
       "    </tr>\n",
       "    <tr>\n",
       "      <th>75%</th>\n",
       "      <td>24.151130</td>\n",
       "      <td>23.000000</td>\n",
       "    </tr>\n",
       "    <tr>\n",
       "      <th>max</th>\n",
       "      <td>28.422786</td>\n",
       "      <td>29.000000</td>\n",
       "    </tr>\n",
       "  </tbody>\n",
       "</table>\n",
       "</div>"
      ],
      "text/plain": [
       "               Y          X\n",
       "count  30.000000  30.000000\n",
       "mean   19.038965  17.333333\n",
       "std     5.689742   8.372094\n",
       "min     6.808838   0.000000\n",
       "25%    14.128834  12.250000\n",
       "50%    19.937977  19.000000\n",
       "75%    24.151130  23.000000\n",
       "max    28.422786  29.000000"
      ]
     },
     "execution_count": 9,
     "metadata": {},
     "output_type": "execute_result"
    }
   ],
   "source": [
    "datos.describe()"
   ]
  },
  {
   "cell_type": "code",
   "execution_count": 14,
   "id": "c9643975",
   "metadata": {},
   "outputs": [
    {
     "data": {
      "image/png": "[encoded data removed]",
      "text/plain": [
       "<Figure size 432x288 with 1 Axes>"
      ]
     },
     "metadata": {
      "needs_background": "light"
     },
     "output_type": "display_data"
    }
   ],
   "source": [
    "datos.plot.scatter('X', 'Y');\n",
    "plt.title('Gráfica de deispersión entre X y Y')\n",
    "plt.xlabel('Valores de X')\n",
    "plt.ylabel('Valores de Y')\n",
    "plt.xlim(0, 30) #limitar el eje X\n",
    "plt.ylim(0, 30)\n",
    "\n",
    "plt.show()"
   ]
  },
  {
   "cell_type": "markdown",
   "id": "ac5720f0",
   "metadata": {},
   "source": [
    "El grafico de dispersión muestra u7na relación lineal y positiva entre la variable X y la variable Y, tiene sentido estimar la regresión lineal."
   ]
  },
  {
   "cell_type": "markdown",
   "id": "d1a8018d",
   "metadata": {},
   "source": [
    "Vamos a estimar el modelo $Y_i = \\beta_0 + \\beta_1 X_i + \\varepsilon_i$"
   ]
  },
  {
   "cell_type": "code",
   "execution_count": 15,
   "id": "ddcf107e",
   "metadata": {},
   "outputs": [
    {
     "name": "stdout",
     "output_type": "stream",
     "text": [
      "                            OLS Regression Results                            \n",
      "==============================================================================\n",
      "Dep. Variable:                      Y   R-squared:                       0.732\n",
      "Model:                            OLS   Adj. R-squared:                  0.722\n",
      "Method:                 Least Squares   F-statistic:                     76.40\n",
      "Date:                Fri, 10 Feb 2023   Prob (F-statistic):           1.72e-09\n",
      "Time:                        15:46:35   Log-Likelihood:                -74.480\n",
      "No. Observations:                  30   AIC:                             153.0\n",
      "Df Residuals:                      28   BIC:                             155.8\n",
      "Df Model:                           1                                         \n",
      "Covariance Type:            nonrobust                                         \n",
      "==============================================================================\n",
      "                 coef    std err          t      P>|t|      [0.025      0.975]\n",
      "------------------------------------------------------------------------------\n",
      "Intercept      8.9619      1.276      7.022      0.000       6.347      11.576\n",
      "X              0.5814      0.067      8.740      0.000       0.445       0.718\n",
      "==============================================================================\n",
      "Omnibus:                        0.249   Durbin-Watson:                   1.658\n",
      "Prob(Omnibus):                  0.883   Jarque-Bera (JB):                0.440\n",
      "Skew:                           0.121   Prob(JB):                        0.803\n",
      "Kurtosis:                       2.459   Cond. No.                         44.8\n",
      "==============================================================================\n",
      "\n",
      "Notes:\n",
      "[1] Standard Errors assume that the covariance matrix of the errors is correctly specified.\n"
     ]
    }
   ],
   "source": [
    "reg = smf.ols(formula='Y~X', data = datos) #regresion por minimos cuadrados ordinarios\n",
    "results = reg.fit()\n",
    "\n",
    "print(results.summary())"
   ]
  },
  {
   "cell_type": "markdown",
   "id": "9b4748c8",
   "metadata": {},
   "source": [
    "El p-value (P > | t |) del intercepto $\\beta_0$ es de 0.00, se rechaza H0 ($H_0i\\beta_0=0$); por tanto el intercepto es distinto de cero. (El intercepto es significatico). "
   ]
  },
  {
   "cell_type": "markdown",
   "id": "0cc30c07",
   "metadata": {},
   "source": [
    "A un nivel de confianza del 95% el intercepto ($\\beta_0$) se encuentra entre (6.34 y 11.57). "
   ]
  },
  {
   "cell_type": "markdown",
   "id": "ff853c3e",
   "metadata": {},
   "source": [
    "En promedio, cuando X aumenta en una unidad Y incrementa en 0.58."
   ]
  },
  {
   "cell_type": "code",
   "execution_count": 17,
   "id": "6410ae13",
   "metadata": {},
   "outputs": [],
   "source": [
    "datos['X_sq'] = datos['X']**2 "
   ]
  },
  {
   "cell_type": "code",
   "execution_count": 18,
   "id": "b6b9c947",
   "metadata": {},
   "outputs": [
    {
     "data": {
      "text/html": [
       "<div>\n",
       "<style scoped>\n",
       "    .dataframe tbody tr th:only-of-type {\n",
       "        vertical-align: middle;\n",
       "    }\n",
       "\n",
       "    .dataframe tbody tr th {\n",
       "        vertical-align: top;\n",
       "    }\n",
       "\n",
       "    .dataframe thead th {\n",
       "        text-align: right;\n",
       "    }\n",
       "</style>\n",
       "<table border=\"1\" class=\"dataframe\">\n",
       "  <thead>\n",
       "    <tr style=\"text-align: right;\">\n",
       "      <th></th>\n",
       "      <th>Y</th>\n",
       "      <th>X</th>\n",
       "      <th>X_sq</th>\n",
       "    </tr>\n",
       "    <tr>\n",
       "      <th>observación</th>\n",
       "      <th></th>\n",
       "      <th></th>\n",
       "      <th></th>\n",
       "    </tr>\n",
       "  </thead>\n",
       "  <tbody>\n",
       "    <tr>\n",
       "      <th>1</th>\n",
       "      <td>19.246957</td>\n",
       "      <td>23</td>\n",
       "      <td>529</td>\n",
       "    </tr>\n",
       "    <tr>\n",
       "      <th>2</th>\n",
       "      <td>16.878501</td>\n",
       "      <td>19</td>\n",
       "      <td>361</td>\n",
       "    </tr>\n",
       "    <tr>\n",
       "      <th>3</th>\n",
       "      <td>20.187237</td>\n",
       "      <td>27</td>\n",
       "      <td>729</td>\n",
       "    </tr>\n",
       "    <tr>\n",
       "      <th>4</th>\n",
       "      <td>12.176789</td>\n",
       "      <td>13</td>\n",
       "      <td>169</td>\n",
       "    </tr>\n",
       "    <tr>\n",
       "      <th>5</th>\n",
       "      <td>21.420112</td>\n",
       "      <td>21</td>\n",
       "      <td>441</td>\n",
       "    </tr>\n",
       "  </tbody>\n",
       "</table>\n",
       "</div>"
      ],
      "text/plain": [
       "                     Y   X  X_sq\n",
       "observación                     \n",
       "1            19.246957  23   529\n",
       "2            16.878501  19   361\n",
       "3            20.187237  27   729\n",
       "4            12.176789  13   169\n",
       "5            21.420112  21   441"
      ]
     },
     "execution_count": 18,
     "metadata": {},
     "output_type": "execute_result"
    }
   ],
   "source": [
    "datos.head()"
   ]
  },
  {
   "cell_type": "code",
   "execution_count": 19,
   "id": "d4407e90",
   "metadata": {},
   "outputs": [
    {
     "name": "stdout",
     "output_type": "stream",
     "text": [
      "                            OLS Regression Results                            \n",
      "==============================================================================\n",
      "Dep. Variable:                      Y   R-squared:                       0.732\n",
      "Model:                            OLS   Adj. R-squared:                  0.712\n",
      "Method:                 Least Squares   F-statistic:                     36.85\n",
      "Date:                Fri, 10 Feb 2023   Prob (F-statistic):           1.92e-08\n",
      "Time:                        16:09:43   Log-Likelihood:                -74.475\n",
      "No. Observations:                  30   AIC:                             155.0\n",
      "Df Residuals:                      27   BIC:                             159.2\n",
      "Df Model:                           2                                         \n",
      "Covariance Type:            nonrobust                                         \n",
      "==============================================================================\n",
      "                 coef    std err          t      P>|t|      [0.025      0.975]\n",
      "------------------------------------------------------------------------------\n",
      "Intercept      8.8518      1.790      4.945      0.000       5.179      12.525\n",
      "X              0.6029      0.250      2.408      0.023       0.089       1.117\n",
      "X_sq          -0.0007      0.008     -0.089      0.929      -0.017       0.016\n",
      "==============================================================================\n",
      "Omnibus:                        0.249   Durbin-Watson:                   1.654\n",
      "Prob(Omnibus):                  0.883   Jarque-Bera (JB):                0.443\n",
      "Skew:                           0.104   Prob(JB):                        0.802\n",
      "Kurtosis:                       2.442   Cond. No.                     1.45e+03\n",
      "==============================================================================\n",
      "\n",
      "Notes:\n",
      "[1] Standard Errors assume that the covariance matrix of the errors is correctly specified.\n",
      "[2] The condition number is large, 1.45e+03. This might indicate that there are\n",
      "strong multicollinearity or other numerical problems.\n"
     ]
    }
   ],
   "source": [
    "reg2 = smf.ols(formula='Y~X+X_sq', data=datos)\n",
    "results2 = reg2.fit()\n",
    "\n",
    "print(results2.summary())"
   ]
  },
  {
   "cell_type": "markdown",
   "id": "8077d0f1",
   "metadata": {},
   "source": [
    "El p-value (P > | t |) del intercepto $\\beta_0$ es distinto de cero, No se rechaza H0 ($H_0i\\beta_0=0$). (El intercepto no es significatico)."
   ]
  },
  {
   "cell_type": "markdown",
   "id": "451f5f08",
   "metadata": {},
   "source": [
    "A un nivel de confianza del 95% el intercepto ($\\beta_0$) se encuentra entre (5.17 y 12.52). "
   ]
  },
  {
   "cell_type": "markdown",
   "id": "f3ee3a3c",
   "metadata": {},
   "source": [
    "El p-value del X_sq $\\beta_2$ es de 0.929, no es menor que alfa; por lo tanto no tiene relación con el intercepto (Y)."
   ]
  }
 ],
 "metadata": {
  "kernelspec": {
   "display_name": "Python 3 (ipykernel)",
   "language": "python",
   "name": "python3"
  },
  "language_info": {
   "codemirror_mode": {
    "name": "ipython",
    "version": 3
   },
   "file_extension": ".py",
   "mimetype": "text/x-python",
   "name": "python",
   "nbconvert_exporter": "python",
   "pygments_lexer": "ipython3",
   "version": "3.9.12"
  }
 },
 "nbformat": 4,
 "nbformat_minor": 5
}
