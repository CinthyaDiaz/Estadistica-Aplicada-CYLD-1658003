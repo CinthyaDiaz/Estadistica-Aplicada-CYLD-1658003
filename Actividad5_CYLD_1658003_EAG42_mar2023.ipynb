{
 "cells": [
  {
   "cell_type": "markdown",
   "id": "c179e9e8",
   "metadata": {},
   "source": [
    "# Estadística Aplicada Gpo 042\n",
    "## Cinthya Yesenia López Díaz 1658003\n",
    "### Actividad 5"
   ]
  },
  {
   "cell_type": "code",
   "execution_count": 18,
   "id": "450771d7",
   "metadata": {},
   "outputs": [],
   "source": [
    "import numpy as np\n",
    "import pandas as pd\n",
    "import matplotlib.pyplot as plt\n",
    "%matplotlib inline"
   ]
  },
  {
   "cell_type": "code",
   "execution_count": 21,
   "id": "1ca8ab56",
   "metadata": {},
   "outputs": [],
   "source": [
    "from lifelines import ExponentialFitter\n",
    "from lifelines import KaplanMeierFitter\n",
    "from lifelines import CoxPHFitter"
   ]
  },
  {
   "cell_type": "code",
   "execution_count": 22,
   "id": "591eeea8",
   "metadata": {},
   "outputs": [],
   "source": [
    "examenes = pd.read_excel('supervivencia_examenes.xlsx')"
   ]
  },
  {
   "cell_type": "code",
   "execution_count": 23,
   "id": "ebc2890f",
   "metadata": {},
   "outputs": [
    {
     "data": {
      "text/html": [
       "<div>\n",
       "<style scoped>\n",
       "    .dataframe tbody tr th:only-of-type {\n",
       "        vertical-align: middle;\n",
       "    }\n",
       "\n",
       "    .dataframe tbody tr th {\n",
       "        vertical-align: top;\n",
       "    }\n",
       "\n",
       "    .dataframe thead th {\n",
       "        text-align: right;\n",
       "    }\n",
       "</style>\n",
       "<table border=\"1\" class=\"dataframe\">\n",
       "  <thead>\n",
       "    <tr style=\"text-align: right;\">\n",
       "      <th></th>\n",
       "      <th>id</th>\n",
       "      <th>tiempo</th>\n",
       "      <th>examen</th>\n",
       "      <th>calificación</th>\n",
       "      <th>género</th>\n",
       "    </tr>\n",
       "  </thead>\n",
       "  <tbody>\n",
       "    <tr>\n",
       "      <th>0</th>\n",
       "      <td>1</td>\n",
       "      <td>85</td>\n",
       "      <td>1</td>\n",
       "      <td>100.0</td>\n",
       "      <td>m</td>\n",
       "    </tr>\n",
       "    <tr>\n",
       "      <th>1</th>\n",
       "      <td>2</td>\n",
       "      <td>109</td>\n",
       "      <td>1</td>\n",
       "      <td>100.0</td>\n",
       "      <td>m</td>\n",
       "    </tr>\n",
       "    <tr>\n",
       "      <th>2</th>\n",
       "      <td>3</td>\n",
       "      <td>118</td>\n",
       "      <td>1</td>\n",
       "      <td>100.0</td>\n",
       "      <td>m</td>\n",
       "    </tr>\n",
       "    <tr>\n",
       "      <th>3</th>\n",
       "      <td>4</td>\n",
       "      <td>120</td>\n",
       "      <td>1</td>\n",
       "      <td>100.0</td>\n",
       "      <td>f</td>\n",
       "    </tr>\n",
       "    <tr>\n",
       "      <th>4</th>\n",
       "      <td>5</td>\n",
       "      <td>106</td>\n",
       "      <td>1</td>\n",
       "      <td>98.0</td>\n",
       "      <td>f</td>\n",
       "    </tr>\n",
       "  </tbody>\n",
       "</table>\n",
       "</div>"
      ],
      "text/plain": [
       "   id  tiempo  examen  calificación género\n",
       "0   1      85       1         100.0      m\n",
       "1   2     109       1         100.0      m\n",
       "2   3     118       1         100.0      m\n",
       "3   4     120       1         100.0      f\n",
       "4   5     106       1          98.0      f"
      ]
     },
     "execution_count": 23,
     "metadata": {},
     "output_type": "execute_result"
    }
   ],
   "source": [
    "examenes.head()"
   ]
  },
  {
   "cell_type": "markdown",
   "id": "b6ba6108",
   "metadata": {},
   "source": [
    "Calcule  el  tiempo  promedio  que  tardaron  en responder los alumnos el examen y la calificación promedio obtenida."
   ]
  },
  {
   "cell_type": "code",
   "execution_count": 14,
   "id": "9af2f826",
   "metadata": {},
   "outputs": [
    {
     "data": {
      "text/plain": [
       "107.3529411764706"
      ]
     },
     "execution_count": 14,
     "metadata": {},
     "output_type": "execute_result"
    }
   ],
   "source": [
    "examenes['tiempo'].mean()"
   ]
  },
  {
   "cell_type": "code",
   "execution_count": 15,
   "id": "5f74d519",
   "metadata": {},
   "outputs": [
    {
     "data": {
      "text/plain": [
       "90.70588235294117"
      ]
     },
     "execution_count": 15,
     "metadata": {},
     "output_type": "execute_result"
    }
   ],
   "source": [
    "examenes['calificación'].mean()"
   ]
  },
  {
   "cell_type": "markdown",
   "id": "9940a4d8",
   "metadata": {},
   "source": [
    "El  profesor  sospecha  que  las  alumnas  responden  más  rápido  el  examen, calcule  el  tiempo  promedio  que  tardaron  en  responder  las  alumnas  y  su calificación  promedio,  asi  como  el  tiempo  promedio  que  tardaron  en responder los alumnos y su calificación promedio."
   ]
  },
  {
   "cell_type": "code",
   "execution_count": 24,
   "id": "c3e40a36",
   "metadata": {},
   "outputs": [],
   "source": [
    "ex_gen = examenes.groupby('género').agg('mean')"
   ]
  },
  {
   "cell_type": "code",
   "execution_count": 25,
   "id": "c9892555",
   "metadata": {},
   "outputs": [
    {
     "data": {
      "text/html": [
       "<div>\n",
       "<style scoped>\n",
       "    .dataframe tbody tr th:only-of-type {\n",
       "        vertical-align: middle;\n",
       "    }\n",
       "\n",
       "    .dataframe tbody tr th {\n",
       "        vertical-align: top;\n",
       "    }\n",
       "\n",
       "    .dataframe thead th {\n",
       "        text-align: right;\n",
       "    }\n",
       "</style>\n",
       "<table border=\"1\" class=\"dataframe\">\n",
       "  <thead>\n",
       "    <tr style=\"text-align: right;\">\n",
       "      <th></th>\n",
       "      <th>id</th>\n",
       "      <th>tiempo</th>\n",
       "      <th>examen</th>\n",
       "      <th>calificación</th>\n",
       "    </tr>\n",
       "    <tr>\n",
       "      <th>género</th>\n",
       "      <th></th>\n",
       "      <th></th>\n",
       "      <th></th>\n",
       "      <th></th>\n",
       "    </tr>\n",
       "  </thead>\n",
       "  <tbody>\n",
       "    <tr>\n",
       "      <th>f</th>\n",
       "      <td>8.750000</td>\n",
       "      <td>108.125000</td>\n",
       "      <td>1.0</td>\n",
       "      <td>93.000000</td>\n",
       "    </tr>\n",
       "    <tr>\n",
       "      <th>m</th>\n",
       "      <td>9.222222</td>\n",
       "      <td>106.666667</td>\n",
       "      <td>1.0</td>\n",
       "      <td>88.666667</td>\n",
       "    </tr>\n",
       "  </tbody>\n",
       "</table>\n",
       "</div>"
      ],
      "text/plain": [
       "              id      tiempo  examen  calificación\n",
       "género                                            \n",
       "f       8.750000  108.125000     1.0     93.000000\n",
       "m       9.222222  106.666667     1.0     88.666667"
      ]
     },
     "execution_count": 25,
     "metadata": {},
     "output_type": "execute_result"
    }
   ],
   "source": [
    "ex_gen"
   ]
  },
  {
   "cell_type": "markdown",
   "id": "93b9198e",
   "metadata": {},
   "source": [
    "Se demostró que en promedio los alumnos responden más rápido el examen, pero no tienen un mejor promedio que las alumnas."
   ]
  },
  {
   "cell_type": "markdown",
   "id": "8dcb0669",
   "metadata": {},
   "source": [
    "¿Cómo  crees  que  se  comporta  el  riesgo  de  entregar  el  examen  conforme transcurre  el  tiempo?  ¿es constante,  creciente,  o  decreciente?  Según  tu respuesta  ajusta  un  modelo  exponencial  o  Weibull,  primero  para  todos  los individuos y muestra la función de riesgo."
   ]
  },
  {
   "cell_type": "markdown",
   "id": "a8edeb22",
   "metadata": {},
   "source": [
    "Se sospecha que entre más tiempo pase, hay más posibilidades en que no entreguen el examen a tiempo, por lo tanto, es un riesgo creciente."
   ]
  },
  {
   "cell_type": "code",
   "execution_count": 42,
   "id": "37976f6e",
   "metadata": {},
   "outputs": [
    {
     "name": "stdout",
     "output_type": "stream",
     "text": [
      "exponencial 194.99, weibull 130.35\n"
     ]
    }
   ],
   "source": [
    "print(f'exponencial {ex.AIC_.round(2)}, weibull {weib.AIC_.round(2)}')"
   ]
  },
  {
   "cell_type": "markdown",
   "id": "399373ab",
   "metadata": {},
   "source": [
    "El \"mejor\" modelo es el que tiene el menor valor del AIC.\n",
    "\n",
    "De acuerdo con el criterio del AIC el modelo que mejor estima el tiempo de entregar el examen es el modelo Weibull. En este modelo el riesgo de entregar el examen es creciente."
   ]
  },
  {
   "cell_type": "code",
   "execution_count": 43,
   "id": "70038016",
   "metadata": {},
   "outputs": [],
   "source": [
    "from lifelines import WeibullFitter"
   ]
  },
  {
   "cell_type": "code",
   "execution_count": 44,
   "id": "d57880fc",
   "metadata": {},
   "outputs": [],
   "source": [
    "weib = WeibullFitter().fit(examenes['tiempo'],examenes['examen'])"
   ]
  },
  {
   "cell_type": "code",
   "execution_count": 45,
   "id": "369d0aa3",
   "metadata": {},
   "outputs": [
    {
     "data": {
      "text/html": [
       "<div>\n",
       "<style scoped>\n",
       "    .dataframe tbody tr th:only-of-type {\n",
       "        vertical-align: middle;\n",
       "    }\n",
       "\n",
       "    .dataframe tbody tr th {\n",
       "        vertical-align: top;\n",
       "    }\n",
       "\n",
       "    .dataframe thead th {\n",
       "        text-align: right;\n",
       "    }\n",
       "</style>\n",
       "<table border=\"1\" class=\"dataframe\">\n",
       "  <thead>\n",
       "    <tr style=\"text-align: right;\">\n",
       "      <th></th>\n",
       "      <th>coef</th>\n",
       "      <th>se(coef)</th>\n",
       "      <th>coef lower 95%</th>\n",
       "      <th>coef upper 95%</th>\n",
       "      <th>cmp to</th>\n",
       "      <th>z</th>\n",
       "      <th>p</th>\n",
       "      <th>-log2(p)</th>\n",
       "    </tr>\n",
       "  </thead>\n",
       "  <tbody>\n",
       "    <tr>\n",
       "      <th>lambda_</th>\n",
       "      <td>111.963337</td>\n",
       "      <td>2.140614</td>\n",
       "      <td>107.767810</td>\n",
       "      <td>116.158864</td>\n",
       "      <td>1.0</td>\n",
       "      <td>51.837145</td>\n",
       "      <td>0.000000</td>\n",
       "      <td>inf</td>\n",
       "    </tr>\n",
       "    <tr>\n",
       "      <th>rho_</th>\n",
       "      <td>13.279998</td>\n",
       "      <td>2.708242</td>\n",
       "      <td>7.971941</td>\n",
       "      <td>18.588055</td>\n",
       "      <td>1.0</td>\n",
       "      <td>4.534306</td>\n",
       "      <td>0.000006</td>\n",
       "      <td>17.400666</td>\n",
       "    </tr>\n",
       "  </tbody>\n",
       "</table>\n",
       "</div>"
      ],
      "text/plain": [
       "               coef  se(coef)  coef lower 95%  coef upper 95%  cmp to  \\\n",
       "lambda_  111.963337  2.140614      107.767810      116.158864     1.0   \n",
       "rho_      13.279998  2.708242        7.971941       18.588055     1.0   \n",
       "\n",
       "                 z         p   -log2(p)  \n",
       "lambda_  51.837145  0.000000        inf  \n",
       "rho_      4.534306  0.000006  17.400666  "
      ]
     },
     "execution_count": 45,
     "metadata": {},
     "output_type": "execute_result"
    }
   ],
   "source": [
    "weib.summary"
   ]
  },
  {
   "cell_type": "code",
   "execution_count": 46,
   "id": "f8661e78",
   "metadata": {},
   "outputs": [
    {
     "data": {
      "text/html": [
       "<div>\n",
       "<style scoped>\n",
       "    .dataframe tbody tr th:only-of-type {\n",
       "        vertical-align: middle;\n",
       "    }\n",
       "\n",
       "    .dataframe tbody tr th {\n",
       "        vertical-align: top;\n",
       "    }\n",
       "\n",
       "    .dataframe thead th {\n",
       "        text-align: right;\n",
       "    }\n",
       "</style>\n",
       "<table border=\"1\" class=\"dataframe\">\n",
       "  <thead>\n",
       "    <tr style=\"text-align: right;\">\n",
       "      <th></th>\n",
       "      <th>Weibull_estimate</th>\n",
       "    </tr>\n",
       "  </thead>\n",
       "  <tbody>\n",
       "    <tr>\n",
       "      <th>85.0000</th>\n",
       "      <td>0.004025</td>\n",
       "    </tr>\n",
       "    <tr>\n",
       "      <th>87.1875</th>\n",
       "      <td>0.005499</td>\n",
       "    </tr>\n",
       "    <tr>\n",
       "      <th>89.3750</th>\n",
       "      <td>0.007454</td>\n",
       "    </tr>\n",
       "    <tr>\n",
       "      <th>91.5625</th>\n",
       "      <td>0.010031</td>\n",
       "    </tr>\n",
       "    <tr>\n",
       "      <th>93.7500</th>\n",
       "      <td>0.013405</td>\n",
       "    </tr>\n",
       "    <tr>\n",
       "      <th>95.9375</th>\n",
       "      <td>0.017795</td>\n",
       "    </tr>\n",
       "    <tr>\n",
       "      <th>98.1250</th>\n",
       "      <td>0.023471</td>\n",
       "    </tr>\n",
       "    <tr>\n",
       "      <th>100.3125</th>\n",
       "      <td>0.030769</td>\n",
       "    </tr>\n",
       "    <tr>\n",
       "      <th>102.5000</th>\n",
       "      <td>0.040101</td>\n",
       "    </tr>\n",
       "    <tr>\n",
       "      <th>104.6875</th>\n",
       "      <td>0.051973</td>\n",
       "    </tr>\n",
       "    <tr>\n",
       "      <th>106.8750</th>\n",
       "      <td>0.066999</td>\n",
       "    </tr>\n",
       "    <tr>\n",
       "      <th>109.0625</th>\n",
       "      <td>0.085926</td>\n",
       "    </tr>\n",
       "    <tr>\n",
       "      <th>111.2500</th>\n",
       "      <td>0.109657</td>\n",
       "    </tr>\n",
       "    <tr>\n",
       "      <th>113.4375</th>\n",
       "      <td>0.139278</td>\n",
       "    </tr>\n",
       "    <tr>\n",
       "      <th>115.6250</th>\n",
       "      <td>0.176095</td>\n",
       "    </tr>\n",
       "    <tr>\n",
       "      <th>117.8125</th>\n",
       "      <td>0.221667</td>\n",
       "    </tr>\n",
       "    <tr>\n",
       "      <th>120.0000</th>\n",
       "      <td>0.277854</td>\n",
       "    </tr>\n",
       "  </tbody>\n",
       "</table>\n",
       "</div>"
      ],
      "text/plain": [
       "          Weibull_estimate\n",
       "85.0000           0.004025\n",
       "87.1875           0.005499\n",
       "89.3750           0.007454\n",
       "91.5625           0.010031\n",
       "93.7500           0.013405\n",
       "95.9375           0.017795\n",
       "98.1250           0.023471\n",
       "100.3125          0.030769\n",
       "102.5000          0.040101\n",
       "104.6875          0.051973\n",
       "106.8750          0.066999\n",
       "109.0625          0.085926\n",
       "111.2500          0.109657\n",
       "113.4375          0.139278\n",
       "115.6250          0.176095\n",
       "117.8125          0.221667\n",
       "120.0000          0.277854"
      ]
     },
     "execution_count": 46,
     "metadata": {},
     "output_type": "execute_result"
    }
   ],
   "source": [
    "weib.hazard_"
   ]
  },
  {
   "cell_type": "code",
   "execution_count": 48,
   "id": "f0a9decb",
   "metadata": {},
   "outputs": [
    {
     "data": {
      "text/plain": [
       "<AxesSubplot:>"
      ]
     },
     "execution_count": 48,
     "metadata": {},
     "output_type": "execute_result"
    },
    {
     "data": {
      "image/png": "[encoded data removed]",
      "text/plain": [
       "<Figure size 640x480 with 1 Axes>"
      ]
     },
     "metadata": {},
     "output_type": "display_data"
    }
   ],
   "source": [
    "weib.plot_hazard(label='Función de riesgo')"
   ]
  },
  {
   "cell_type": "markdown",
   "id": "d5afc012",
   "metadata": {},
   "source": [
    "Ahora estima el mismo modelo que planteaste en el inciso anterior, pero para hombres  y  mujeres,  y  grafica  ambas  funciones  de  supervivencia  juntas (empalmadas), ¿gráficamente quien tarda más en entregar el examen?"
   ]
  },
  {
   "cell_type": "code",
   "execution_count": null,
   "id": "dc5efba6",
   "metadata": {},
   "outputs": [],
   "source": []
  },
  {
   "cell_type": "markdown",
   "id": "0b731521",
   "metadata": {},
   "source": [
    "Estime  la  función  de  supervivencia del  tiempo  de  entrega  del  examen  de todos los alumnos utilizando Kaplan-Meier, muestre los valores de la función de supervivencia, los valores del intervalos de confianza al 95%, asi como la gráfica respectiva de la función de supervivencia con sus intervalos."
   ]
  },
  {
   "cell_type": "code",
   "execution_count": 49,
   "id": "9acd9345",
   "metadata": {},
   "outputs": [],
   "source": [
    "km = KaplanMeierFitter().fit(examenes['tiempo'],examenes['examen'])"
   ]
  },
  {
   "cell_type": "code",
   "execution_count": 50,
   "id": "f6629c6b",
   "metadata": {},
   "outputs": [
    {
     "data": {
      "text/html": [
       "<div>\n",
       "<style scoped>\n",
       "    .dataframe tbody tr th:only-of-type {\n",
       "        vertical-align: middle;\n",
       "    }\n",
       "\n",
       "    .dataframe tbody tr th {\n",
       "        vertical-align: top;\n",
       "    }\n",
       "\n",
       "    .dataframe thead th {\n",
       "        text-align: right;\n",
       "    }\n",
       "</style>\n",
       "<table border=\"1\" class=\"dataframe\">\n",
       "  <thead>\n",
       "    <tr style=\"text-align: right;\">\n",
       "      <th></th>\n",
       "      <th>KM_estimate</th>\n",
       "    </tr>\n",
       "    <tr>\n",
       "      <th>timeline</th>\n",
       "      <th></th>\n",
       "    </tr>\n",
       "  </thead>\n",
       "  <tbody>\n",
       "    <tr>\n",
       "      <th>0.0</th>\n",
       "      <td>1.000000</td>\n",
       "    </tr>\n",
       "    <tr>\n",
       "      <th>85.0</th>\n",
       "      <td>0.941176</td>\n",
       "    </tr>\n",
       "    <tr>\n",
       "      <th>87.0</th>\n",
       "      <td>0.882353</td>\n",
       "    </tr>\n",
       "    <tr>\n",
       "      <th>90.0</th>\n",
       "      <td>0.823529</td>\n",
       "    </tr>\n",
       "    <tr>\n",
       "      <th>99.0</th>\n",
       "      <td>0.764706</td>\n",
       "    </tr>\n",
       "    <tr>\n",
       "      <th>103.0</th>\n",
       "      <td>0.705882</td>\n",
       "    </tr>\n",
       "    <tr>\n",
       "      <th>106.0</th>\n",
       "      <td>0.647059</td>\n",
       "    </tr>\n",
       "    <tr>\n",
       "      <th>108.0</th>\n",
       "      <td>0.529412</td>\n",
       "    </tr>\n",
       "    <tr>\n",
       "      <th>109.0</th>\n",
       "      <td>0.470588</td>\n",
       "    </tr>\n",
       "    <tr>\n",
       "      <th>111.0</th>\n",
       "      <td>0.411765</td>\n",
       "    </tr>\n",
       "    <tr>\n",
       "      <th>112.0</th>\n",
       "      <td>0.352941</td>\n",
       "    </tr>\n",
       "    <tr>\n",
       "      <th>115.0</th>\n",
       "      <td>0.294118</td>\n",
       "    </tr>\n",
       "    <tr>\n",
       "      <th>116.0</th>\n",
       "      <td>0.235294</td>\n",
       "    </tr>\n",
       "    <tr>\n",
       "      <th>118.0</th>\n",
       "      <td>0.176471</td>\n",
       "    </tr>\n",
       "    <tr>\n",
       "      <th>119.0</th>\n",
       "      <td>0.058824</td>\n",
       "    </tr>\n",
       "    <tr>\n",
       "      <th>120.0</th>\n",
       "      <td>0.000000</td>\n",
       "    </tr>\n",
       "  </tbody>\n",
       "</table>\n",
       "</div>"
      ],
      "text/plain": [
       "          KM_estimate\n",
       "timeline             \n",
       "0.0          1.000000\n",
       "85.0         0.941176\n",
       "87.0         0.882353\n",
       "90.0         0.823529\n",
       "99.0         0.764706\n",
       "103.0        0.705882\n",
       "106.0        0.647059\n",
       "108.0        0.529412\n",
       "109.0        0.470588\n",
       "111.0        0.411765\n",
       "112.0        0.352941\n",
       "115.0        0.294118\n",
       "116.0        0.235294\n",
       "118.0        0.176471\n",
       "119.0        0.058824\n",
       "120.0        0.000000"
      ]
     },
     "execution_count": 50,
     "metadata": {},
     "output_type": "execute_result"
    }
   ],
   "source": [
    "km.survival_function_"
   ]
  },
  {
   "cell_type": "code",
   "execution_count": 75,
   "id": "58161713",
   "metadata": {},
   "outputs": [
    {
     "data": {
      "image/png": "[encoded data removed]",
      "text/plain": [
       "<Figure size 640x480 with 1 Axes>"
      ]
     },
     "metadata": {},
     "output_type": "display_data"
    }
   ],
   "source": [
    "km.plot_survival_function(label='Entrega de exámenes');"
   ]
  },
  {
   "cell_type": "markdown",
   "id": "9139dae3",
   "metadata": {},
   "source": [
    "Realice  un  gráfico  donde  muestre  la  función  de  supervivencia de Kaplan-Meierde los alumnos(m)  y de las alumnas(f) con sus respectivos intervalos de confianza. Y comente con base en la gráfica si es posible que el profesor tenga razón respecto a que las alumnas responden más rápido el examen."
   ]
  },
  {
   "cell_type": "code",
   "execution_count": 58,
   "id": "6e7bfeee",
   "metadata": {},
   "outputs": [],
   "source": [
    "exam_gen = pd.get_dummies(examenes,'género',drop_first=True)"
   ]
  },
  {
   "cell_type": "code",
   "execution_count": 59,
   "id": "2ac74033",
   "metadata": {},
   "outputs": [
    {
     "data": {
      "text/html": [
       "<div>\n",
       "<style scoped>\n",
       "    .dataframe tbody tr th:only-of-type {\n",
       "        vertical-align: middle;\n",
       "    }\n",
       "\n",
       "    .dataframe tbody tr th {\n",
       "        vertical-align: top;\n",
       "    }\n",
       "\n",
       "    .dataframe thead th {\n",
       "        text-align: right;\n",
       "    }\n",
       "</style>\n",
       "<table border=\"1\" class=\"dataframe\">\n",
       "  <thead>\n",
       "    <tr style=\"text-align: right;\">\n",
       "      <th></th>\n",
       "      <th>id</th>\n",
       "      <th>tiempo</th>\n",
       "      <th>examen</th>\n",
       "      <th>calificación</th>\n",
       "      <th>género_m</th>\n",
       "    </tr>\n",
       "  </thead>\n",
       "  <tbody>\n",
       "    <tr>\n",
       "      <th>0</th>\n",
       "      <td>1</td>\n",
       "      <td>85</td>\n",
       "      <td>1</td>\n",
       "      <td>100.0</td>\n",
       "      <td>1</td>\n",
       "    </tr>\n",
       "    <tr>\n",
       "      <th>1</th>\n",
       "      <td>2</td>\n",
       "      <td>109</td>\n",
       "      <td>1</td>\n",
       "      <td>100.0</td>\n",
       "      <td>1</td>\n",
       "    </tr>\n",
       "    <tr>\n",
       "      <th>2</th>\n",
       "      <td>3</td>\n",
       "      <td>118</td>\n",
       "      <td>1</td>\n",
       "      <td>100.0</td>\n",
       "      <td>1</td>\n",
       "    </tr>\n",
       "    <tr>\n",
       "      <th>3</th>\n",
       "      <td>4</td>\n",
       "      <td>120</td>\n",
       "      <td>1</td>\n",
       "      <td>100.0</td>\n",
       "      <td>0</td>\n",
       "    </tr>\n",
       "    <tr>\n",
       "      <th>4</th>\n",
       "      <td>5</td>\n",
       "      <td>106</td>\n",
       "      <td>1</td>\n",
       "      <td>98.0</td>\n",
       "      <td>0</td>\n",
       "    </tr>\n",
       "    <tr>\n",
       "      <th>5</th>\n",
       "      <td>6</td>\n",
       "      <td>103</td>\n",
       "      <td>1</td>\n",
       "      <td>98.0</td>\n",
       "      <td>1</td>\n",
       "    </tr>\n",
       "    <tr>\n",
       "      <th>6</th>\n",
       "      <td>7</td>\n",
       "      <td>108</td>\n",
       "      <td>1</td>\n",
       "      <td>96.0</td>\n",
       "      <td>0</td>\n",
       "    </tr>\n",
       "    <tr>\n",
       "      <th>7</th>\n",
       "      <td>8</td>\n",
       "      <td>119</td>\n",
       "      <td>1</td>\n",
       "      <td>96.0</td>\n",
       "      <td>0</td>\n",
       "    </tr>\n",
       "    <tr>\n",
       "      <th>8</th>\n",
       "      <td>9</td>\n",
       "      <td>115</td>\n",
       "      <td>1</td>\n",
       "      <td>96.0</td>\n",
       "      <td>0</td>\n",
       "    </tr>\n",
       "    <tr>\n",
       "      <th>9</th>\n",
       "      <td>10</td>\n",
       "      <td>108</td>\n",
       "      <td>1</td>\n",
       "      <td>94.0</td>\n",
       "      <td>0</td>\n",
       "    </tr>\n",
       "    <tr>\n",
       "      <th>10</th>\n",
       "      <td>11</td>\n",
       "      <td>87</td>\n",
       "      <td>1</td>\n",
       "      <td>88.0</td>\n",
       "      <td>1</td>\n",
       "    </tr>\n",
       "    <tr>\n",
       "      <th>11</th>\n",
       "      <td>12</td>\n",
       "      <td>99</td>\n",
       "      <td>1</td>\n",
       "      <td>86.0</td>\n",
       "      <td>0</td>\n",
       "    </tr>\n",
       "    <tr>\n",
       "      <th>12</th>\n",
       "      <td>13</td>\n",
       "      <td>112</td>\n",
       "      <td>1</td>\n",
       "      <td>84.0</td>\n",
       "      <td>1</td>\n",
       "    </tr>\n",
       "    <tr>\n",
       "      <th>13</th>\n",
       "      <td>14</td>\n",
       "      <td>111</td>\n",
       "      <td>1</td>\n",
       "      <td>82.0</td>\n",
       "      <td>1</td>\n",
       "    </tr>\n",
       "    <tr>\n",
       "      <th>14</th>\n",
       "      <td>15</td>\n",
       "      <td>90</td>\n",
       "      <td>1</td>\n",
       "      <td>78.0</td>\n",
       "      <td>0</td>\n",
       "    </tr>\n",
       "    <tr>\n",
       "      <th>15</th>\n",
       "      <td>16</td>\n",
       "      <td>116</td>\n",
       "      <td>1</td>\n",
       "      <td>74.0</td>\n",
       "      <td>1</td>\n",
       "    </tr>\n",
       "    <tr>\n",
       "      <th>16</th>\n",
       "      <td>17</td>\n",
       "      <td>119</td>\n",
       "      <td>1</td>\n",
       "      <td>72.0</td>\n",
       "      <td>1</td>\n",
       "    </tr>\n",
       "  </tbody>\n",
       "</table>\n",
       "</div>"
      ],
      "text/plain": [
       "    id  tiempo  examen  calificación  género_m\n",
       "0    1      85       1         100.0         1\n",
       "1    2     109       1         100.0         1\n",
       "2    3     118       1         100.0         1\n",
       "3    4     120       1         100.0         0\n",
       "4    5     106       1          98.0         0\n",
       "5    6     103       1          98.0         1\n",
       "6    7     108       1          96.0         0\n",
       "7    8     119       1          96.0         0\n",
       "8    9     115       1          96.0         0\n",
       "9   10     108       1          94.0         0\n",
       "10  11      87       1          88.0         1\n",
       "11  12      99       1          86.0         0\n",
       "12  13     112       1          84.0         1\n",
       "13  14     111       1          82.0         1\n",
       "14  15      90       1          78.0         0\n",
       "15  16     116       1          74.0         1\n",
       "16  17     119       1          72.0         1"
      ]
     },
     "execution_count": 59,
     "metadata": {},
     "output_type": "execute_result"
    }
   ],
   "source": [
    "exam_gen"
   ]
  },
  {
   "cell_type": "code",
   "execution_count": 63,
   "id": "8a393fe7",
   "metadata": {},
   "outputs": [],
   "source": [
    "f = exam_gen.query('género_m==0')\n",
    "m = exam_gen.query('género_m==1')"
   ]
  },
  {
   "cell_type": "code",
   "execution_count": 64,
   "id": "a606efe1",
   "metadata": {},
   "outputs": [],
   "source": [
    "km_f = KaplanMeierFitter().fit(exam_gen['tiempo'],exam_gen['examen'])\n",
    "km_m = KaplanMeierFitter().fit(exam_gen['tiempo'],exam_gen['examen'])"
   ]
  },
  {
   "cell_type": "code",
   "execution_count": 73,
   "id": "c057e5c5",
   "metadata": {},
   "outputs": [
    {
     "data": {
      "image/png": "[encoded data removed]",
      "text/plain": [
       "<Figure size 640x480 with 1 Axes>"
      ]
     },
     "metadata": {},
     "output_type": "display_data"
    }
   ],
   "source": [
    "km_f.plot_survival_function(label='Alumnas');"
   ]
  },
  {
   "cell_type": "code",
   "execution_count": 74,
   "id": "e52c537c",
   "metadata": {},
   "outputs": [
    {
     "data": {
      "image/png": "[encoded data removed]",
      "text/plain": [
       "<Figure size 640x480 with 1 Axes>"
      ]
     },
     "metadata": {},
     "output_type": "display_data"
    }
   ],
   "source": [
    "km_m.plot_survival_function(label='Alumnos');"
   ]
  },
  {
   "cell_type": "markdown",
   "id": "e8fca276",
   "metadata": {},
   "source": [
    "No se puede apreciar mucha diferencia entre los tiempos de entrega de los alumnos y alumnas con respecto a la gráfica."
   ]
  },
  {
   "cell_type": "markdown",
   "id": "6a1b102d",
   "metadata": {},
   "source": [
    "El profesor tambien sospecha que quienes entregan el examen más rápido es porque  no  estudiaron,  por  tanto no  saben  que  responder y entregan  el examen casi inmediatamente. Estime  un  modelo  de  cox de  riesgos  proporcionales  donde  utilice  como variables  explicativas  el  género  y  la  calificación  obtenida,  para  explicar  la función de riesgo de entregar el examen."
   ]
  },
  {
   "cell_type": "code",
   "execution_count": 79,
   "id": "7795568f",
   "metadata": {},
   "outputs": [
    {
     "data": {
      "text/html": [
       "<div>\n",
       "<style scoped>\n",
       "    .dataframe tbody tr th:only-of-type {\n",
       "        vertical-align: middle;\n",
       "    }\n",
       "\n",
       "    .dataframe tbody tr th {\n",
       "        vertical-align: top;\n",
       "    }\n",
       "\n",
       "    .dataframe thead th {\n",
       "        text-align: right;\n",
       "    }\n",
       "</style>\n",
       "<table border=\"1\" class=\"dataframe\">\n",
       "  <tbody>\n",
       "    <tr>\n",
       "      <th>model</th>\n",
       "      <td>lifelines.CoxPHFitter</td>\n",
       "    </tr>\n",
       "    <tr>\n",
       "      <th>duration col</th>\n",
       "      <td>'tiempo'</td>\n",
       "    </tr>\n",
       "    <tr>\n",
       "      <th>event col</th>\n",
       "      <td>'examen'</td>\n",
       "    </tr>\n",
       "    <tr>\n",
       "      <th>baseline estimation</th>\n",
       "      <td>breslow</td>\n",
       "    </tr>\n",
       "    <tr>\n",
       "      <th>number of observations</th>\n",
       "      <td>17</td>\n",
       "    </tr>\n",
       "    <tr>\n",
       "      <th>number of events observed</th>\n",
       "      <td>17</td>\n",
       "    </tr>\n",
       "    <tr>\n",
       "      <th>partial log-likelihood</th>\n",
       "      <td>-33.31</td>\n",
       "    </tr>\n",
       "    <tr>\n",
       "      <th>time fit was run</th>\n",
       "      <td>2023-03-20 17:46:24 UTC</td>\n",
       "    </tr>\n",
       "  </tbody>\n",
       "</table>\n",
       "</div><table border=\"1\" class=\"dataframe\">\n",
       "  <thead>\n",
       "    <tr style=\"text-align: right;\">\n",
       "      <th style=\"min-width: 12px;\"></th>\n",
       "      <th style=\"min-width: 12px;\">coef</th>\n",
       "      <th style=\"min-width: 12px;\">exp(coef)</th>\n",
       "      <th style=\"min-width: 12px;\">se(coef)</th>\n",
       "      <th style=\"min-width: 12px;\">coef lower 95%</th>\n",
       "      <th style=\"min-width: 12px;\">coef upper 95%</th>\n",
       "      <th style=\"min-width: 12px;\">exp(coef) lower 95%</th>\n",
       "      <th style=\"min-width: 12px;\">exp(coef) upper 95%</th>\n",
       "      <th style=\"min-width: 12px;\">cmp to</th>\n",
       "      <th style=\"min-width: 12px;\">z</th>\n",
       "      <th style=\"min-width: 12px;\">p</th>\n",
       "      <th style=\"min-width: 12px;\">-log2(p)</th>\n",
       "    </tr>\n",
       "  </thead>\n",
       "  <tbody>\n",
       "    <tr>\n",
       "      <th>id</th>\n",
       "      <td>0.10</td>\n",
       "      <td>1.10</td>\n",
       "      <td>0.24</td>\n",
       "      <td>-0.36</td>\n",
       "      <td>0.56</td>\n",
       "      <td>0.70</td>\n",
       "      <td>1.75</td>\n",
       "      <td>0.00</td>\n",
       "      <td>0.42</td>\n",
       "      <td>0.67</td>\n",
       "      <td>0.57</td>\n",
       "    </tr>\n",
       "    <tr>\n",
       "      <th>calificación</th>\n",
       "      <td>0.06</td>\n",
       "      <td>1.06</td>\n",
       "      <td>0.13</td>\n",
       "      <td>-0.19</td>\n",
       "      <td>0.30</td>\n",
       "      <td>0.83</td>\n",
       "      <td>1.36</td>\n",
       "      <td>0.00</td>\n",
       "      <td>0.47</td>\n",
       "      <td>0.64</td>\n",
       "      <td>0.64</td>\n",
       "    </tr>\n",
       "    <tr>\n",
       "      <th>género_m</th>\n",
       "      <td>0.50</td>\n",
       "      <td>1.66</td>\n",
       "      <td>0.80</td>\n",
       "      <td>-1.07</td>\n",
       "      <td>2.08</td>\n",
       "      <td>0.34</td>\n",
       "      <td>7.99</td>\n",
       "      <td>0.00</td>\n",
       "      <td>0.63</td>\n",
       "      <td>0.53</td>\n",
       "      <td>0.92</td>\n",
       "    </tr>\n",
       "  </tbody>\n",
       "</table><br><div>\n",
       "<style scoped>\n",
       "    .dataframe tbody tr th:only-of-type {\n",
       "        vertical-align: middle;\n",
       "    }\n",
       "\n",
       "    .dataframe tbody tr th {\n",
       "        vertical-align: top;\n",
       "    }\n",
       "\n",
       "    .dataframe thead th {\n",
       "        text-align: right;\n",
       "    }\n",
       "</style>\n",
       "<table border=\"1\" class=\"dataframe\">\n",
       "  <tbody>\n",
       "    <tr>\n",
       "      <th>Concordance</th>\n",
       "      <td>0.51</td>\n",
       "    </tr>\n",
       "    <tr>\n",
       "      <th>Partial AIC</th>\n",
       "      <td>72.61</td>\n",
       "    </tr>\n",
       "    <tr>\n",
       "      <th>log-likelihood ratio test</th>\n",
       "      <td>0.40 on 3 df</td>\n",
       "    </tr>\n",
       "    <tr>\n",
       "      <th>-log2(p) of ll-ratio test</th>\n",
       "      <td>0.09</td>\n",
       "    </tr>\n",
       "  </tbody>\n",
       "</table>\n",
       "</div>"
      ],
      "text/latex": [
       "\\begin{tabular}{lrrrrrrrrrrr}\n",
       " & coef & exp(coef) & se(coef) & coef lower 95% & coef upper 95% & exp(coef) lower 95% & exp(coef) upper 95% & cmp to & z & p & -log2(p) \\\\\n",
       "covariate &  &  &  &  &  &  &  &  &  &  &  \\\\\n",
       "id & 0.10 & 1.10 & 0.24 & -0.36 & 0.56 & 0.70 & 1.75 & 0.00 & 0.42 & 0.67 & 0.57 \\\\\n",
       "calificación & 0.06 & 1.06 & 0.13 & -0.19 & 0.30 & 0.83 & 1.36 & 0.00 & 0.47 & 0.64 & 0.64 \\\\\n",
       "género_m & 0.50 & 1.66 & 0.80 & -1.07 & 2.08 & 0.34 & 7.99 & 0.00 & 0.63 & 0.53 & 0.92 \\\\\n",
       "\\end{tabular}\n"
      ],
      "text/plain": [
       "<lifelines.CoxPHFitter: fitted with 17 total observations, 0 right-censored observations>\n",
       "             duration col = 'tiempo'\n",
       "                event col = 'examen'\n",
       "      baseline estimation = breslow\n",
       "   number of observations = 17\n",
       "number of events observed = 17\n",
       "   partial log-likelihood = -33.31\n",
       "         time fit was run = 2023-03-20 17:46:24 UTC\n",
       "\n",
       "---\n",
       "               coef  exp(coef)   se(coef)   coef lower 95%   coef upper 95%  exp(coef) lower 95%  exp(coef) upper 95%\n",
       "covariate                                                                                                            \n",
       "id             0.10       1.10       0.24            -0.36             0.56                 0.70                 1.75\n",
       "calificación   0.06       1.06       0.13            -0.19             0.30                 0.83                 1.36\n",
       "género_m       0.50       1.66       0.80            -1.07             2.08                 0.34                 7.99\n",
       "\n",
       "               cmp to    z    p   -log2(p)\n",
       "covariate                                 \n",
       "id               0.00 0.42 0.67       0.57\n",
       "calificación     0.00 0.47 0.64       0.64\n",
       "género_m         0.00 0.63 0.53       0.92\n",
       "---\n",
       "Concordance = 0.51\n",
       "Partial AIC = 72.61\n",
       "log-likelihood ratio test = 0.40 on 3 df\n",
       "-log2(p) of ll-ratio test = 0.09"
      ]
     },
     "metadata": {},
     "output_type": "display_data"
    }
   ],
   "source": [
    "cph = CoxPHFitter().fit(exam_gen, 'tiempo', 'examen')\n",
    "cph.print_summary()"
   ]
  },
  {
   "cell_type": "markdown",
   "id": "5763a0fc",
   "metadata": {},
   "source": [
    "Interprete los coeficientes de género y calificación obtenidos por el modelo de cox, recuerde señalar: 1) si el coeficiente es significativo (se rechaza Ho), en  caso  de  ser  significativo  señala  si  aumentan  el  riesgo  de  entregar  el examen, y el tamaño del efecto. Recuerde añadir cph.plot() para ayudarse con la interpretación."
   ]
  },
  {
   "cell_type": "code",
   "execution_count": 80,
   "id": "69b056c5",
   "metadata": {},
   "outputs": [
    {
     "data": {
      "image/png": "[encoded data removed]",
      "text/plain": [
       "<Figure size 640x480 with 1 Axes>"
      ]
     },
     "metadata": {},
     "output_type": "display_data"
    }
   ],
   "source": [
    "cph.plot();"
   ]
  },
  {
   "cell_type": "markdown",
   "id": "b7d49646",
   "metadata": {},
   "source": [
    "Calificación:\n",
    "\n",
    "Como beta es diferente de cero (0.64 /= 0) entonces se rechaza Ho y si es significativo.\n",
    "\n",
    "     coef > 0   ->  1.06 - 1 = 0.06 = 6%\n",
    "\n",
    "Por lo tanto, la calificación aumenta el riesgo de entregar el examen más rápido.\n",
    "\n",
    "Género:\n",
    "\n",
    "Como beta es diferente de cero (0.53 /= 0) entonces se rechaza Ho y si es significativo.\n",
    "\n",
    "     coef > 0   -> 1.66 - 1 = 0.66 = 66%\n",
    "\n",
    "Por lo tanto, el género aumenta el riesgo de entregar el examen más rápido."
   ]
  },
  {
   "cell_type": "code",
   "execution_count": 82,
   "id": "a696004a",
   "metadata": {},
   "outputs": [
    {
     "data": {
      "image/png": "[encoded data removed]",
      "text/plain": [
       "<Figure size 640x480 with 1 Axes>"
      ]
     },
     "metadata": {},
     "output_type": "display_data"
    }
   ],
   "source": [
    "cph.plot_partial_effects_on_outcome(covariates='tiempo', values=[0,1]);"
   ]
  },
  {
   "cell_type": "markdown",
   "id": "e393c9a7",
   "metadata": {},
   "source": [
    "¿Coincide  con  las  funciones  de  supervivencia de  Kaplan-Meier?\n",
    "\n",
    "No se obtienen resultados similares con los dos métodos."
   ]
  },
  {
   "cell_type": "markdown",
   "id": "558335ff",
   "metadata": {},
   "source": [
    "Por último, con base en la interpretación del modelo de cox y la significancia de los coeficientes,  comente  si  el  profesor  tiene  razón  al  señalar  que  las alumnas  responden  en  menor  tiempo  el  examen,  y  si  el  profesor  tambien tiene razón al señalar que los que entregan el examen rápido no estudiaron y por tanto obtienen menores calificación."
   ]
  }
 ],
 "metadata": {
  "kernelspec": {
   "display_name": "Python 3 (ipykernel)",
   "language": "python",
   "name": "python3"
  },
  "language_info": {
   "codemirror_mode": {
    "name": "ipython",
    "version": 3
   },
   "file_extension": ".py",
   "mimetype": "text/x-python",
   "name": "python",
   "nbconvert_exporter": "python",
   "pygments_lexer": "ipython3",
   "version": "3.9.13"
  }
 },
 "nbformat": 4,
 "nbformat_minor": 5
}
