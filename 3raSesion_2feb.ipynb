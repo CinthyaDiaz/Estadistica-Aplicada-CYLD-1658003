{
 "cells": [
  {
   "cell_type": "markdown",
   "id": "4c4110d2",
   "metadata": {},
   "source": [
    "# Estadística Aplicada\n",
    "## Cinthya Yesenia López Díaz 1658003\n",
    "### 3ra Sesión"
   ]
  },
  {
   "cell_type": "code",
   "execution_count": 1,
   "id": "c063fc82",
   "metadata": {},
   "outputs": [],
   "source": [
    "import numpy as np\n",
    "import pandas as pd"
   ]
  },
  {
   "cell_type": "code",
   "execution_count": 2,
   "id": "e0d4dbd2",
   "metadata": {},
   "outputs": [],
   "source": [
    "alumno1 = ['Juan', 'Perez', 23]\n",
    "alumno2 = ['Raul', 'Lopez', 15]\n",
    "alumno3 = ['Jhon', 'Lara', 18]\n",
    "alumno4 = ['Xime', 'Lira', 22]\n",
    "alumno5 = ['Ale', 'Lugo', 26]"
   ]
  },
  {
   "cell_type": "code",
   "execution_count": 3,
   "id": "283934a8",
   "metadata": {},
   "outputs": [],
   "source": [
    "estadistica = [alumno1, alumno2, alumno3, alumno4, alumno5]"
   ]
  },
  {
   "cell_type": "code",
   "execution_count": 5,
   "id": "6ca3db3c",
   "metadata": {},
   "outputs": [
    {
     "data": {
      "text/html": [
       "<div>\n",
       "<style scoped>\n",
       "    .dataframe tbody tr th:only-of-type {\n",
       "        vertical-align: middle;\n",
       "    }\n",
       "\n",
       "    .dataframe tbody tr th {\n",
       "        vertical-align: top;\n",
       "    }\n",
       "\n",
       "    .dataframe thead th {\n",
       "        text-align: right;\n",
       "    }\n",
       "</style>\n",
       "<table border=\"1\" class=\"dataframe\">\n",
       "  <thead>\n",
       "    <tr style=\"text-align: right;\">\n",
       "      <th></th>\n",
       "      <th>Nombre</th>\n",
       "      <th>Apellido</th>\n",
       "      <th>Edad</th>\n",
       "    </tr>\n",
       "  </thead>\n",
       "  <tbody>\n",
       "    <tr>\n",
       "      <th>0</th>\n",
       "      <td>Juan</td>\n",
       "      <td>Perez</td>\n",
       "      <td>23</td>\n",
       "    </tr>\n",
       "    <tr>\n",
       "      <th>1</th>\n",
       "      <td>Raul</td>\n",
       "      <td>Lopez</td>\n",
       "      <td>15</td>\n",
       "    </tr>\n",
       "    <tr>\n",
       "      <th>2</th>\n",
       "      <td>Jhon</td>\n",
       "      <td>Lara</td>\n",
       "      <td>18</td>\n",
       "    </tr>\n",
       "    <tr>\n",
       "      <th>3</th>\n",
       "      <td>Xime</td>\n",
       "      <td>Lira</td>\n",
       "      <td>22</td>\n",
       "    </tr>\n",
       "    <tr>\n",
       "      <th>4</th>\n",
       "      <td>Ale</td>\n",
       "      <td>Lugo</td>\n",
       "      <td>26</td>\n",
       "    </tr>\n",
       "  </tbody>\n",
       "</table>\n",
       "</div>"
      ],
      "text/plain": [
       "  Nombre Apellido  Edad\n",
       "0   Juan    Perez    23\n",
       "1   Raul    Lopez    15\n",
       "2   Jhon     Lara    18\n",
       "3   Xime     Lira    22\n",
       "4    Ale     Lugo    26"
      ]
     },
     "execution_count": 5,
     "metadata": {},
     "output_type": "execute_result"
    }
   ],
   "source": [
    "estadistica = pd.DataFrame(estadistica, columns=['Nombre', 'Apellido', 'Edad'])\n",
    "estadistica"
   ]
  },
  {
   "cell_type": "code",
   "execution_count": 6,
   "id": "5a161b3e",
   "metadata": {},
   "outputs": [
    {
     "data": {
      "text/plain": [
       "Index(['Nombre', 'Apellido', 'Edad'], dtype='object')"
      ]
     },
     "execution_count": 6,
     "metadata": {},
     "output_type": "execute_result"
    }
   ],
   "source": [
    "estadistica.columns"
   ]
  },
  {
   "cell_type": "code",
   "execution_count": 7,
   "id": "7f6489a1",
   "metadata": {},
   "outputs": [
    {
     "data": {
      "text/plain": [
       "RangeIndex(start=0, stop=5, step=1)"
      ]
     },
     "execution_count": 7,
     "metadata": {},
     "output_type": "execute_result"
    }
   ],
   "source": [
    "estadistica.index"
   ]
  },
  {
   "cell_type": "code",
   "execution_count": 8,
   "id": "f4f6a5c9",
   "metadata": {},
   "outputs": [
    {
     "data": {
      "text/plain": [
       "(5, 3)"
      ]
     },
     "execution_count": 8,
     "metadata": {},
     "output_type": "execute_result"
    }
   ],
   "source": [
    "estadistica.shape"
   ]
  },
  {
   "cell_type": "code",
   "execution_count": 9,
   "id": "59742d64",
   "metadata": {},
   "outputs": [
    {
     "data": {
      "text/html": [
       "<div>\n",
       "<style scoped>\n",
       "    .dataframe tbody tr th:only-of-type {\n",
       "        vertical-align: middle;\n",
       "    }\n",
       "\n",
       "    .dataframe tbody tr th {\n",
       "        vertical-align: top;\n",
       "    }\n",
       "\n",
       "    .dataframe thead th {\n",
       "        text-align: right;\n",
       "    }\n",
       "</style>\n",
       "<table border=\"1\" class=\"dataframe\">\n",
       "  <thead>\n",
       "    <tr style=\"text-align: right;\">\n",
       "      <th></th>\n",
       "      <th>Edad</th>\n",
       "    </tr>\n",
       "  </thead>\n",
       "  <tbody>\n",
       "    <tr>\n",
       "      <th>count</th>\n",
       "      <td>5.00000</td>\n",
       "    </tr>\n",
       "    <tr>\n",
       "      <th>mean</th>\n",
       "      <td>20.80000</td>\n",
       "    </tr>\n",
       "    <tr>\n",
       "      <th>std</th>\n",
       "      <td>4.32435</td>\n",
       "    </tr>\n",
       "    <tr>\n",
       "      <th>min</th>\n",
       "      <td>15.00000</td>\n",
       "    </tr>\n",
       "    <tr>\n",
       "      <th>25%</th>\n",
       "      <td>18.00000</td>\n",
       "    </tr>\n",
       "    <tr>\n",
       "      <th>50%</th>\n",
       "      <td>22.00000</td>\n",
       "    </tr>\n",
       "    <tr>\n",
       "      <th>75%</th>\n",
       "      <td>23.00000</td>\n",
       "    </tr>\n",
       "    <tr>\n",
       "      <th>max</th>\n",
       "      <td>26.00000</td>\n",
       "    </tr>\n",
       "  </tbody>\n",
       "</table>\n",
       "</div>"
      ],
      "text/plain": [
       "           Edad\n",
       "count   5.00000\n",
       "mean   20.80000\n",
       "std     4.32435\n",
       "min    15.00000\n",
       "25%    18.00000\n",
       "50%    22.00000\n",
       "75%    23.00000\n",
       "max    26.00000"
      ]
     },
     "execution_count": 9,
     "metadata": {},
     "output_type": "execute_result"
    }
   ],
   "source": [
    "estadistica.describe()"
   ]
  },
  {
   "cell_type": "code",
   "execution_count": 10,
   "id": "835cc25d",
   "metadata": {},
   "outputs": [],
   "source": [
    "estadistica['Edad en días'] = estadistica['Edad'] * 365"
   ]
  },
  {
   "cell_type": "code",
   "execution_count": 11,
   "id": "86fc5c0b",
   "metadata": {},
   "outputs": [
    {
     "data": {
      "text/html": [
       "<div>\n",
       "<style scoped>\n",
       "    .dataframe tbody tr th:only-of-type {\n",
       "        vertical-align: middle;\n",
       "    }\n",
       "\n",
       "    .dataframe tbody tr th {\n",
       "        vertical-align: top;\n",
       "    }\n",
       "\n",
       "    .dataframe thead th {\n",
       "        text-align: right;\n",
       "    }\n",
       "</style>\n",
       "<table border=\"1\" class=\"dataframe\">\n",
       "  <thead>\n",
       "    <tr style=\"text-align: right;\">\n",
       "      <th></th>\n",
       "      <th>Nombre</th>\n",
       "      <th>Apellido</th>\n",
       "      <th>Edad</th>\n",
       "      <th>Edad en días</th>\n",
       "    </tr>\n",
       "  </thead>\n",
       "  <tbody>\n",
       "    <tr>\n",
       "      <th>0</th>\n",
       "      <td>Juan</td>\n",
       "      <td>Perez</td>\n",
       "      <td>23</td>\n",
       "      <td>8395</td>\n",
       "    </tr>\n",
       "    <tr>\n",
       "      <th>1</th>\n",
       "      <td>Raul</td>\n",
       "      <td>Lopez</td>\n",
       "      <td>15</td>\n",
       "      <td>5475</td>\n",
       "    </tr>\n",
       "    <tr>\n",
       "      <th>2</th>\n",
       "      <td>Jhon</td>\n",
       "      <td>Lara</td>\n",
       "      <td>18</td>\n",
       "      <td>6570</td>\n",
       "    </tr>\n",
       "    <tr>\n",
       "      <th>3</th>\n",
       "      <td>Xime</td>\n",
       "      <td>Lira</td>\n",
       "      <td>22</td>\n",
       "      <td>8030</td>\n",
       "    </tr>\n",
       "    <tr>\n",
       "      <th>4</th>\n",
       "      <td>Ale</td>\n",
       "      <td>Lugo</td>\n",
       "      <td>26</td>\n",
       "      <td>9490</td>\n",
       "    </tr>\n",
       "  </tbody>\n",
       "</table>\n",
       "</div>"
      ],
      "text/plain": [
       "  Nombre Apellido  Edad  Edad en días\n",
       "0   Juan    Perez    23          8395\n",
       "1   Raul    Lopez    15          5475\n",
       "2   Jhon     Lara    18          6570\n",
       "3   Xime     Lira    22          8030\n",
       "4    Ale     Lugo    26          9490"
      ]
     },
     "execution_count": 11,
     "metadata": {},
     "output_type": "execute_result"
    }
   ],
   "source": [
    "estadistica"
   ]
  },
  {
   "cell_type": "code",
   "execution_count": 12,
   "id": "06237dd2",
   "metadata": {},
   "outputs": [],
   "source": [
    "estadistica['Origen'] = ['Apodaca', 'San Pedro', 'Guadalupe', 'Salinas', 'Cadereyta']"
   ]
  },
  {
   "cell_type": "code",
   "execution_count": 13,
   "id": "19738806",
   "metadata": {},
   "outputs": [
    {
     "data": {
      "text/html": [
       "<div>\n",
       "<style scoped>\n",
       "    .dataframe tbody tr th:only-of-type {\n",
       "        vertical-align: middle;\n",
       "    }\n",
       "\n",
       "    .dataframe tbody tr th {\n",
       "        vertical-align: top;\n",
       "    }\n",
       "\n",
       "    .dataframe thead th {\n",
       "        text-align: right;\n",
       "    }\n",
       "</style>\n",
       "<table border=\"1\" class=\"dataframe\">\n",
       "  <thead>\n",
       "    <tr style=\"text-align: right;\">\n",
       "      <th></th>\n",
       "      <th>Nombre</th>\n",
       "      <th>Apellido</th>\n",
       "      <th>Edad</th>\n",
       "      <th>Edad en días</th>\n",
       "      <th>Origen</th>\n",
       "    </tr>\n",
       "  </thead>\n",
       "  <tbody>\n",
       "    <tr>\n",
       "      <th>0</th>\n",
       "      <td>Juan</td>\n",
       "      <td>Perez</td>\n",
       "      <td>23</td>\n",
       "      <td>8395</td>\n",
       "      <td>Apodaca</td>\n",
       "    </tr>\n",
       "    <tr>\n",
       "      <th>1</th>\n",
       "      <td>Raul</td>\n",
       "      <td>Lopez</td>\n",
       "      <td>15</td>\n",
       "      <td>5475</td>\n",
       "      <td>San Pedro</td>\n",
       "    </tr>\n",
       "    <tr>\n",
       "      <th>2</th>\n",
       "      <td>Jhon</td>\n",
       "      <td>Lara</td>\n",
       "      <td>18</td>\n",
       "      <td>6570</td>\n",
       "      <td>Guadalupe</td>\n",
       "    </tr>\n",
       "    <tr>\n",
       "      <th>3</th>\n",
       "      <td>Xime</td>\n",
       "      <td>Lira</td>\n",
       "      <td>22</td>\n",
       "      <td>8030</td>\n",
       "      <td>Salinas</td>\n",
       "    </tr>\n",
       "    <tr>\n",
       "      <th>4</th>\n",
       "      <td>Ale</td>\n",
       "      <td>Lugo</td>\n",
       "      <td>26</td>\n",
       "      <td>9490</td>\n",
       "      <td>Cadereyta</td>\n",
       "    </tr>\n",
       "  </tbody>\n",
       "</table>\n",
       "</div>"
      ],
      "text/plain": [
       "  Nombre Apellido  Edad  Edad en días     Origen\n",
       "0   Juan    Perez    23          8395    Apodaca\n",
       "1   Raul    Lopez    15          5475  San Pedro\n",
       "2   Jhon     Lara    18          6570  Guadalupe\n",
       "3   Xime     Lira    22          8030    Salinas\n",
       "4    Ale     Lugo    26          9490  Cadereyta"
      ]
     },
     "execution_count": 13,
     "metadata": {},
     "output_type": "execute_result"
    }
   ],
   "source": [
    "estadistica"
   ]
  },
  {
   "cell_type": "code",
   "execution_count": 14,
   "id": "987b2607",
   "metadata": {},
   "outputs": [
    {
     "data": {
      "text/plain": [
       "20.8"
      ]
     },
     "execution_count": 14,
     "metadata": {},
     "output_type": "execute_result"
    }
   ],
   "source": [
    "estadistica['Edad'].mean()"
   ]
  },
  {
   "cell_type": "code",
   "execution_count": 15,
   "id": "cb6d441d",
   "metadata": {},
   "outputs": [
    {
     "data": {
      "text/plain": [
       "4.32"
      ]
     },
     "execution_count": 15,
     "metadata": {},
     "output_type": "execute_result"
    }
   ],
   "source": [
    "round(estadistica['Edad'].std(ddof=1), 2)"
   ]
  },
  {
   "cell_type": "code",
   "execution_count": 17,
   "id": "79ad7508",
   "metadata": {},
   "outputs": [
    {
     "data": {
      "text/plain": [
       "Nombre          object\n",
       "Apellido        object\n",
       "Edad             int64\n",
       "Edad en días     int64\n",
       "Origen          object\n",
       "dtype: object"
      ]
     },
     "execution_count": 17,
     "metadata": {},
     "output_type": "execute_result"
    }
   ],
   "source": [
    "estadistica.dtypes"
   ]
  },
  {
   "cell_type": "code",
   "execution_count": 18,
   "id": "09d9c39a",
   "metadata": {},
   "outputs": [
    {
     "data": {
      "text/plain": [
       "Nombre          5\n",
       "Apellido        5\n",
       "Edad            5\n",
       "Edad en días    5\n",
       "Origen          5\n",
       "dtype: int64"
      ]
     },
     "execution_count": 18,
     "metadata": {},
     "output_type": "execute_result"
    }
   ],
   "source": [
    "estadistica.count()"
   ]
  },
  {
   "cell_type": "code",
   "execution_count": 19,
   "id": "21b917da",
   "metadata": {},
   "outputs": [
    {
     "data": {
      "text/html": [
       "<div>\n",
       "<style scoped>\n",
       "    .dataframe tbody tr th:only-of-type {\n",
       "        vertical-align: middle;\n",
       "    }\n",
       "\n",
       "    .dataframe tbody tr th {\n",
       "        vertical-align: top;\n",
       "    }\n",
       "\n",
       "    .dataframe thead th {\n",
       "        text-align: right;\n",
       "    }\n",
       "</style>\n",
       "<table border=\"1\" class=\"dataframe\">\n",
       "  <thead>\n",
       "    <tr style=\"text-align: right;\">\n",
       "      <th></th>\n",
       "      <th>Nombre</th>\n",
       "      <th>Apellido</th>\n",
       "      <th>Edad</th>\n",
       "      <th>Edad en días</th>\n",
       "      <th>Origen</th>\n",
       "    </tr>\n",
       "  </thead>\n",
       "  <tbody>\n",
       "    <tr>\n",
       "      <th>2</th>\n",
       "      <td>Jhon</td>\n",
       "      <td>Lara</td>\n",
       "      <td>18</td>\n",
       "      <td>6570</td>\n",
       "      <td>Guadalupe</td>\n",
       "    </tr>\n",
       "    <tr>\n",
       "      <th>3</th>\n",
       "      <td>Xime</td>\n",
       "      <td>Lira</td>\n",
       "      <td>22</td>\n",
       "      <td>8030</td>\n",
       "      <td>Salinas</td>\n",
       "    </tr>\n",
       "    <tr>\n",
       "      <th>1</th>\n",
       "      <td>Raul</td>\n",
       "      <td>Lopez</td>\n",
       "      <td>15</td>\n",
       "      <td>5475</td>\n",
       "      <td>San Pedro</td>\n",
       "    </tr>\n",
       "    <tr>\n",
       "      <th>4</th>\n",
       "      <td>Ale</td>\n",
       "      <td>Lugo</td>\n",
       "      <td>26</td>\n",
       "      <td>9490</td>\n",
       "      <td>Cadereyta</td>\n",
       "    </tr>\n",
       "    <tr>\n",
       "      <th>0</th>\n",
       "      <td>Juan</td>\n",
       "      <td>Perez</td>\n",
       "      <td>23</td>\n",
       "      <td>8395</td>\n",
       "      <td>Apodaca</td>\n",
       "    </tr>\n",
       "  </tbody>\n",
       "</table>\n",
       "</div>"
      ],
      "text/plain": [
       "  Nombre Apellido  Edad  Edad en días     Origen\n",
       "2   Jhon     Lara    18          6570  Guadalupe\n",
       "3   Xime     Lira    22          8030    Salinas\n",
       "1   Raul    Lopez    15          5475  San Pedro\n",
       "4    Ale     Lugo    26          9490  Cadereyta\n",
       "0   Juan    Perez    23          8395    Apodaca"
      ]
     },
     "execution_count": 19,
     "metadata": {},
     "output_type": "execute_result"
    }
   ],
   "source": [
    "estadistica.sort_values('Apellido', ascending=True)"
   ]
  },
  {
   "cell_type": "code",
   "execution_count": 21,
   "id": "6d8f0303",
   "metadata": {},
   "outputs": [
    {
     "data": {
      "text/html": [
       "<div>\n",
       "<style scoped>\n",
       "    .dataframe tbody tr th:only-of-type {\n",
       "        vertical-align: middle;\n",
       "    }\n",
       "\n",
       "    .dataframe tbody tr th {\n",
       "        vertical-align: top;\n",
       "    }\n",
       "\n",
       "    .dataframe thead th {\n",
       "        text-align: right;\n",
       "    }\n",
       "</style>\n",
       "<table border=\"1\" class=\"dataframe\">\n",
       "  <thead>\n",
       "    <tr style=\"text-align: right;\">\n",
       "      <th></th>\n",
       "      <th>Nombre</th>\n",
       "      <th>Apellido</th>\n",
       "      <th>Edad</th>\n",
       "      <th>Edad en días</th>\n",
       "      <th>Origen</th>\n",
       "    </tr>\n",
       "  </thead>\n",
       "  <tbody>\n",
       "    <tr>\n",
       "      <th>2</th>\n",
       "      <td>Jhon</td>\n",
       "      <td>Lara</td>\n",
       "      <td>18</td>\n",
       "      <td>6570</td>\n",
       "      <td>Guadalupe</td>\n",
       "    </tr>\n",
       "    <tr>\n",
       "      <th>3</th>\n",
       "      <td>Xime</td>\n",
       "      <td>Lira</td>\n",
       "      <td>22</td>\n",
       "      <td>8030</td>\n",
       "      <td>Salinas</td>\n",
       "    </tr>\n",
       "    <tr>\n",
       "      <th>1</th>\n",
       "      <td>Raul</td>\n",
       "      <td>Lopez</td>\n",
       "      <td>15</td>\n",
       "      <td>5475</td>\n",
       "      <td>San Pedro</td>\n",
       "    </tr>\n",
       "    <tr>\n",
       "      <th>4</th>\n",
       "      <td>Ale</td>\n",
       "      <td>Lugo</td>\n",
       "      <td>26</td>\n",
       "      <td>9490</td>\n",
       "      <td>Cadereyta</td>\n",
       "    </tr>\n",
       "    <tr>\n",
       "      <th>0</th>\n",
       "      <td>Juan</td>\n",
       "      <td>Perez</td>\n",
       "      <td>23</td>\n",
       "      <td>8395</td>\n",
       "      <td>Apodaca</td>\n",
       "    </tr>\n",
       "  </tbody>\n",
       "</table>\n",
       "</div>"
      ],
      "text/plain": [
       "  Nombre Apellido  Edad  Edad en días     Origen\n",
       "2   Jhon     Lara    18          6570  Guadalupe\n",
       "3   Xime     Lira    22          8030    Salinas\n",
       "1   Raul    Lopez    15          5475  San Pedro\n",
       "4    Ale     Lugo    26          9490  Cadereyta\n",
       "0   Juan    Perez    23          8395    Apodaca"
      ]
     },
     "execution_count": 21,
     "metadata": {},
     "output_type": "execute_result"
    }
   ],
   "source": [
    "estadistica.sort_values(['Apellido', 'Nombre'], ascending=[True, True])"
   ]
  },
  {
   "cell_type": "code",
   "execution_count": null,
   "id": "5f691126",
   "metadata": {},
   "outputs": [],
   "source": []
  },
  {
   "cell_type": "code",
   "execution_count": null,
   "id": "db3560db",
   "metadata": {},
   "outputs": [],
   "source": []
  },
  {
   "cell_type": "code",
   "execution_count": null,
   "id": "e1472604",
   "metadata": {},
   "outputs": [],
   "source": []
  }
 ],
 "metadata": {
  "kernelspec": {
   "display_name": "Python 3 (ipykernel)",
   "language": "python",
   "name": "python3"
  },
  "language_info": {
   "codemirror_mode": {
    "name": "ipython",
    "version": 3
   },
   "file_extension": ".py",
   "mimetype": "text/x-python",
   "name": "python",
   "nbconvert_exporter": "python",
   "pygments_lexer": "ipython3",
   "version": "3.9.12"
  }
 },
 "nbformat": 4,
 "nbformat_minor": 5
}
