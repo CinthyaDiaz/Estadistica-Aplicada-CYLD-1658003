{
 "cells": [
  {
   "cell_type": "markdown",
   "id": "af44b664",
   "metadata": {},
   "source": [
    "# Estadística Aplicada\n",
    "## Cinthya YeseniaLópez Díaz 1658003\n",
    "### 4 mayo de 2023"
   ]
  },
  {
   "cell_type": "code",
   "execution_count": 1,
   "id": "223d9cba",
   "metadata": {},
   "outputs": [],
   "source": [
    "#pronóstico de prueba\n",
    "import numpy as np\n",
    "import pandas as pd \n",
    "import matplotlib.pyplot as plt \n",
    "%matplotlib inline"
   ]
  },
  {
   "cell_type": "code",
   "execution_count": 2,
   "id": "7b291510",
   "metadata": {},
   "outputs": [],
   "source": [
    "from statsmodels.graphics.tsaplots import plot_acf\n",
    "from statsmodels.graphics.tsaplots import plot_pacf\n",
    "from statsmodels.tsa.stattools import adfuller\n",
    "#modelo arma\n",
    "from statsmodels.tsa.arima.model import ARIMA "
   ]
  },
  {
   "cell_type": "code",
   "execution_count": 3,
   "id": "790da31c",
   "metadata": {},
   "outputs": [],
   "source": [
    "igae = pd.read_excel('IGAE.xlsx')"
   ]
  },
  {
   "cell_type": "code",
   "execution_count": 6,
   "id": "1808753d",
   "metadata": {},
   "outputs": [
    {
     "data": {
      "text/html": [
       "<div>\n",
       "<style scoped>\n",
       "    .dataframe tbody tr th:only-of-type {\n",
       "        vertical-align: middle;\n",
       "    }\n",
       "\n",
       "    .dataframe tbody tr th {\n",
       "        vertical-align: top;\n",
       "    }\n",
       "\n",
       "    .dataframe thead th {\n",
       "        text-align: right;\n",
       "    }\n",
       "</style>\n",
       "<table border=\"1\" class=\"dataframe\">\n",
       "  <thead>\n",
       "    <tr style=\"text-align: right;\">\n",
       "      <th></th>\n",
       "      <th>Periodos</th>\n",
       "      <th>IGAE</th>\n",
       "    </tr>\n",
       "  </thead>\n",
       "  <tbody>\n",
       "    <tr>\n",
       "      <th>0</th>\n",
       "      <td>2000-01-01</td>\n",
       "      <td>79.325572</td>\n",
       "    </tr>\n",
       "    <tr>\n",
       "      <th>1</th>\n",
       "      <td>2000-02-01</td>\n",
       "      <td>78.799329</td>\n",
       "    </tr>\n",
       "    <tr>\n",
       "      <th>2</th>\n",
       "      <td>2000-03-01</td>\n",
       "      <td>78.714380</td>\n",
       "    </tr>\n",
       "    <tr>\n",
       "      <th>3</th>\n",
       "      <td>2000-04-01</td>\n",
       "      <td>79.247601</td>\n",
       "    </tr>\n",
       "    <tr>\n",
       "      <th>4</th>\n",
       "      <td>2000-05-01</td>\n",
       "      <td>79.795178</td>\n",
       "    </tr>\n",
       "    <tr>\n",
       "      <th>...</th>\n",
       "      <td>...</td>\n",
       "      <td>...</td>\n",
       "    </tr>\n",
       "    <tr>\n",
       "      <th>273</th>\n",
       "      <td>2022-10-01</td>\n",
       "      <td>113.237145</td>\n",
       "    </tr>\n",
       "    <tr>\n",
       "      <th>274</th>\n",
       "      <td>2022-11-01</td>\n",
       "      <td>112.815614</td>\n",
       "    </tr>\n",
       "    <tr>\n",
       "      <th>275</th>\n",
       "      <td>2022-12-01</td>\n",
       "      <td>113.276229</td>\n",
       "    </tr>\n",
       "    <tr>\n",
       "      <th>276</th>\n",
       "      <td>2023-01-01</td>\n",
       "      <td>113.982481</td>\n",
       "    </tr>\n",
       "    <tr>\n",
       "      <th>277</th>\n",
       "      <td>2023-02-01</td>\n",
       "      <td>114.145196</td>\n",
       "    </tr>\n",
       "  </tbody>\n",
       "</table>\n",
       "<p>278 rows × 2 columns</p>\n",
       "</div>"
      ],
      "text/plain": [
       "      Periodos        IGAE\n",
       "0   2000-01-01   79.325572\n",
       "1   2000-02-01   78.799329\n",
       "2   2000-03-01   78.714380\n",
       "3   2000-04-01   79.247601\n",
       "4   2000-05-01   79.795178\n",
       "..         ...         ...\n",
       "273 2022-10-01  113.237145\n",
       "274 2022-11-01  112.815614\n",
       "275 2022-12-01  113.276229\n",
       "276 2023-01-01  113.982481\n",
       "277 2023-02-01  114.145196\n",
       "\n",
       "[278 rows x 2 columns]"
      ]
     },
     "execution_count": 6,
     "metadata": {},
     "output_type": "execute_result"
    }
   ],
   "source": [
    "#SON DATOS MENSUALES\n",
    "igae"
   ]
  },
  {
   "cell_type": "markdown",
   "id": "4ec52d53",
   "metadata": {},
   "source": [
    "Declarar una variable de tiempo y convertirla en el index"
   ]
  },
  {
   "cell_type": "code",
   "execution_count": 5,
   "id": "d0c5d5a1",
   "metadata": {},
   "outputs": [],
   "source": [
    "#declarar variable de tiempo\n",
    "igae['Periodos'] = pd.to_datetime(igae['Periodos'],format='%Y/%m')"
   ]
  },
  {
   "cell_type": "code",
   "execution_count": 7,
   "id": "97ae6448",
   "metadata": {},
   "outputs": [],
   "source": [
    "#convertir a la variable de tiempo en index\n",
    "igae = igae.set_index('Periodos')"
   ]
  },
  {
   "cell_type": "code",
   "execution_count": 8,
   "id": "70ed887e",
   "metadata": {},
   "outputs": [
    {
     "data": {
      "text/html": [
       "<div>\n",
       "<style scoped>\n",
       "    .dataframe tbody tr th:only-of-type {\n",
       "        vertical-align: middle;\n",
       "    }\n",
       "\n",
       "    .dataframe tbody tr th {\n",
       "        vertical-align: top;\n",
       "    }\n",
       "\n",
       "    .dataframe thead th {\n",
       "        text-align: right;\n",
       "    }\n",
       "</style>\n",
       "<table border=\"1\" class=\"dataframe\">\n",
       "  <thead>\n",
       "    <tr style=\"text-align: right;\">\n",
       "      <th></th>\n",
       "      <th>IGAE</th>\n",
       "    </tr>\n",
       "    <tr>\n",
       "      <th>Periodos</th>\n",
       "      <th></th>\n",
       "    </tr>\n",
       "  </thead>\n",
       "  <tbody>\n",
       "    <tr>\n",
       "      <th>2000-01-01</th>\n",
       "      <td>79.325572</td>\n",
       "    </tr>\n",
       "    <tr>\n",
       "      <th>2000-02-01</th>\n",
       "      <td>78.799329</td>\n",
       "    </tr>\n",
       "    <tr>\n",
       "      <th>2000-03-01</th>\n",
       "      <td>78.714380</td>\n",
       "    </tr>\n",
       "    <tr>\n",
       "      <th>2000-04-01</th>\n",
       "      <td>79.247601</td>\n",
       "    </tr>\n",
       "    <tr>\n",
       "      <th>2000-05-01</th>\n",
       "      <td>79.795178</td>\n",
       "    </tr>\n",
       "  </tbody>\n",
       "</table>\n",
       "</div>"
      ],
      "text/plain": [
       "                 IGAE\n",
       "Periodos             \n",
       "2000-01-01  79.325572\n",
       "2000-02-01  78.799329\n",
       "2000-03-01  78.714380\n",
       "2000-04-01  79.247601\n",
       "2000-05-01  79.795178"
      ]
     },
     "execution_count": 8,
     "metadata": {},
     "output_type": "execute_result"
    }
   ],
   "source": [
    "igae.head()\n",
    "#si sale en negrita es porque ya es el index"
   ]
  },
  {
   "cell_type": "code",
   "execution_count": 9,
   "id": "61fac7ae",
   "metadata": {},
   "outputs": [],
   "source": [
    "#determinar la frecuencia de la serie\n",
    "igae = igae.asfreq('MS')"
   ]
  },
  {
   "cell_type": "code",
   "execution_count": 11,
   "id": "3414603a",
   "metadata": {},
   "outputs": [
    {
     "data": {
      "text/plain": [
       "DatetimeIndex(['2000-01-01', '2000-02-01', '2000-03-01', '2000-04-01',\n",
       "               '2000-05-01', '2000-06-01', '2000-07-01', '2000-08-01',\n",
       "               '2000-09-01', '2000-10-01',\n",
       "               ...\n",
       "               '2022-05-01', '2022-06-01', '2022-07-01', '2022-08-01',\n",
       "               '2022-09-01', '2022-10-01', '2022-11-01', '2022-12-01',\n",
       "               '2023-01-01', '2023-02-01'],\n",
       "              dtype='datetime64[ns]', name='Periodos', length=278, freq='MS')"
      ]
     },
     "execution_count": 11,
     "metadata": {},
     "output_type": "execute_result"
    }
   ],
   "source": [
    "igae.index"
   ]
  },
  {
   "cell_type": "markdown",
   "id": "55d65d49",
   "metadata": {},
   "source": [
    "El dataframe ya tiene el tiempo como index y hay una frecuencia de tiempo establecida, por tanto se puede proceder al análisis de series de tiempo."
   ]
  },
  {
   "cell_type": "code",
   "execution_count": 12,
   "id": "0b549776",
   "metadata": {},
   "outputs": [
    {
     "data": {
      "image/png": "[encoded data removed]",
      "text/plain": [
       "<Figure size 432x288 with 1 Axes>"
      ]
     },
     "metadata": {
      "needs_background": "light"
     },
     "output_type": "display_data"
    }
   ],
   "source": [
    "#se va a gráficar la serie\n",
    "igae['IGAE'].plot()\n",
    "plt.title('Indicador global de la actividad económica IGAE Mex')\n",
    "plt.xlabel('meses');"
   ]
  },
  {
   "cell_type": "markdown",
   "id": "0890c7c4",
   "metadata": {},
   "source": [
    "Enfoque clásico (EC): la serie tiene tendencia positiva y muestra ciclos (crisis)\n",
    "\n",
    "Enfoque estocástico (EE) : Parece una caminata aleatoria con deriva positiva (No estacionarios)"
   ]
  },
  {
   "cell_type": "markdown",
   "id": "69bab55a",
   "metadata": {},
   "source": [
    "## Pronóstico\n",
    "1. Realizando la prueba de raíz unitaria"
   ]
  },
  {
   "cell_type": "code",
   "execution_count": 13,
   "id": "c4d1645e",
   "metadata": {},
   "outputs": [
    {
     "name": "stdout",
     "output_type": "stream",
     "text": [
      "No rechazamos Ho, la serie es No estacionaria\n"
     ]
    }
   ],
   "source": [
    "#Prueba de raíz unitaria (dickey-fuller aumentada)\n",
    "ADF_test1 = adfuller(igae['IGAE'])\n",
    "#Ho : serie No estacionaria\n",
    "alpha = 0.05\n",
    "#regla de decisión\n",
    "if ADF_test1[1] < alpha:\n",
    "    print('Rechazamos Ho, la serie es estacionaria')\n",
    "else:\n",
    "    print('No rechazamos Ho, la serie es No estacionaria')"
   ]
  },
  {
   "cell_type": "markdown",
   "id": "d107529c",
   "metadata": {},
   "source": [
    "Si la serie es No estacionaria tenemos que hacerla estacionaria; aplicando primeras diferencias\n",
    "\n",
    "$\\Delta Y_t = Y_t - Y_{t-1}$"
   ]
  },
  {
   "cell_type": "code",
   "execution_count": 14,
   "id": "f6ceb57e",
   "metadata": {},
   "outputs": [],
   "source": [
    "#calculamos primeras diferencias de la serie\n",
    "igae['igae_diferenciado'] = igae['IGAE'].diff()"
   ]
  },
  {
   "cell_type": "code",
   "execution_count": 15,
   "id": "5ff0399f",
   "metadata": {},
   "outputs": [
    {
     "data": {
      "text/html": [
       "<div>\n",
       "<style scoped>\n",
       "    .dataframe tbody tr th:only-of-type {\n",
       "        vertical-align: middle;\n",
       "    }\n",
       "\n",
       "    .dataframe tbody tr th {\n",
       "        vertical-align: top;\n",
       "    }\n",
       "\n",
       "    .dataframe thead th {\n",
       "        text-align: right;\n",
       "    }\n",
       "</style>\n",
       "<table border=\"1\" class=\"dataframe\">\n",
       "  <thead>\n",
       "    <tr style=\"text-align: right;\">\n",
       "      <th></th>\n",
       "      <th>IGAE</th>\n",
       "      <th>igae_diferenciado</th>\n",
       "    </tr>\n",
       "    <tr>\n",
       "      <th>Periodos</th>\n",
       "      <th></th>\n",
       "      <th></th>\n",
       "    </tr>\n",
       "  </thead>\n",
       "  <tbody>\n",
       "    <tr>\n",
       "      <th>2000-01-01</th>\n",
       "      <td>79.325572</td>\n",
       "      <td>NaN</td>\n",
       "    </tr>\n",
       "    <tr>\n",
       "      <th>2000-02-01</th>\n",
       "      <td>78.799329</td>\n",
       "      <td>-0.526243</td>\n",
       "    </tr>\n",
       "    <tr>\n",
       "      <th>2000-03-01</th>\n",
       "      <td>78.714380</td>\n",
       "      <td>-0.084950</td>\n",
       "    </tr>\n",
       "    <tr>\n",
       "      <th>2000-04-01</th>\n",
       "      <td>79.247601</td>\n",
       "      <td>0.533221</td>\n",
       "    </tr>\n",
       "    <tr>\n",
       "      <th>2000-05-01</th>\n",
       "      <td>79.795178</td>\n",
       "      <td>0.547577</td>\n",
       "    </tr>\n",
       "    <tr>\n",
       "      <th>...</th>\n",
       "      <td>...</td>\n",
       "      <td>...</td>\n",
       "    </tr>\n",
       "    <tr>\n",
       "      <th>2022-10-01</th>\n",
       "      <td>113.237145</td>\n",
       "      <td>0.038213</td>\n",
       "    </tr>\n",
       "    <tr>\n",
       "      <th>2022-11-01</th>\n",
       "      <td>112.815614</td>\n",
       "      <td>-0.421531</td>\n",
       "    </tr>\n",
       "    <tr>\n",
       "      <th>2022-12-01</th>\n",
       "      <td>113.276229</td>\n",
       "      <td>0.460615</td>\n",
       "    </tr>\n",
       "    <tr>\n",
       "      <th>2023-01-01</th>\n",
       "      <td>113.982481</td>\n",
       "      <td>0.706252</td>\n",
       "    </tr>\n",
       "    <tr>\n",
       "      <th>2023-02-01</th>\n",
       "      <td>114.145196</td>\n",
       "      <td>0.162716</td>\n",
       "    </tr>\n",
       "  </tbody>\n",
       "</table>\n",
       "<p>278 rows × 2 columns</p>\n",
       "</div>"
      ],
      "text/plain": [
       "                  IGAE  igae_diferenciado\n",
       "Periodos                                 \n",
       "2000-01-01   79.325572                NaN\n",
       "2000-02-01   78.799329          -0.526243\n",
       "2000-03-01   78.714380          -0.084950\n",
       "2000-04-01   79.247601           0.533221\n",
       "2000-05-01   79.795178           0.547577\n",
       "...                ...                ...\n",
       "2022-10-01  113.237145           0.038213\n",
       "2022-11-01  112.815614          -0.421531\n",
       "2022-12-01  113.276229           0.460615\n",
       "2023-01-01  113.982481           0.706252\n",
       "2023-02-01  114.145196           0.162716\n",
       "\n",
       "[278 rows x 2 columns]"
      ]
     },
     "execution_count": 15,
     "metadata": {},
     "output_type": "execute_result"
    }
   ],
   "source": [
    "igae"
   ]
  },
  {
   "cell_type": "code",
   "execution_count": 17,
   "id": "8295f9c1",
   "metadata": {},
   "outputs": [
    {
     "name": "stdout",
     "output_type": "stream",
     "text": [
      "Rechazamos Ho, la serie es estacionaria\n"
     ]
    }
   ],
   "source": [
    "#comprobar si ahora esta nueva serie es estacionaria\n",
    "ADF_test2 = adfuller(igae['igae_diferenciado'].dropna())\n",
    "#Ho : serie No estacionaria\n",
    "alpha = 0.05\n",
    "#regla de decisión\n",
    "if ADF_test2[1] < alpha:\n",
    "    print('Rechazamos Ho, la serie es estacionaria')\n",
    "else:\n",
    "    print('No rechazamos Ho, la serie es No estacionaria')"
   ]
  },
  {
   "cell_type": "code",
   "execution_count": 19,
   "id": "6ac45351",
   "metadata": {},
   "outputs": [
    {
     "name": "stderr",
     "output_type": "stream",
     "text": [
      "C:\\Users\\Lenovo\\anaconda3\\lib\\site-packages\\statsmodels\\graphics\\tsaplots.py:348: FutureWarning: The default method 'yw' can produce PACF values outside of the [-1,1] interval. After 0.13, the default will change tounadjusted Yule-Walker ('ywm'). You can use this method now by setting method='ywm'.\n",
      "  warnings.warn(\n"
     ]
    },
    {
     "data": {
      "image/png": "[encoded data removed]",
      "text/plain": [
       "<Figure size 864x288 with 2 Axes>"
      ]
     },
     "metadata": {
      "needs_background": "light"
     },
     "output_type": "display_data"
    }
   ],
   "source": [
    "#ya que la serie es estacionaria se puede determinar que tipo de proceso es\n",
    "fig, ax = plt.subplots(1,2, figsize=(12,4))\n",
    "#subgrafica 0\n",
    "plot_acf(igae['igae_diferenciado'].dropna(), zero=False,ax=ax[0],title='Función de autocorrelación ACF')\n",
    "ax[0].set_ylim(-1,1)\n",
    "#subgrafica 1\n",
    "plot_pacf(igae['igae_diferenciado'].dropna(), zero=False, ax=ax[1],title='Función de autocorrelación parcial PACF')\n",
    "ax[1].set_ylim(-1,1)\n",
    "plt.show()"
   ]
  },
  {
   "cell_type": "markdown",
   "id": "5a3ac2f8",
   "metadata": {},
   "source": [
    "ARIMA (p, I, q)\n",
    "\n",
    "p es el orden AR\n",
    "\n",
    "q es ek orden MA\n",
    "\n",
    "I el grado de integración, es cuantas veces aplicamos primeras diferencias a la serie que queremos pronosticar"
   ]
  },
  {
   "cell_type": "code",
   "execution_count": 20,
   "id": "1e06c6c7",
   "metadata": {
    "scrolled": false
   },
   "outputs": [
    {
     "name": "stdout",
     "output_type": "stream",
     "text": [
      "                               SARIMAX Results                                \n",
      "==============================================================================\n",
      "Dep. Variable:                   IGAE   No. Observations:                  278\n",
      "Model:                 ARIMA(2, 1, 0)   Log Likelihood                -485.360\n",
      "Date:                Thu, 04 May 2023   AIC                            976.721\n",
      "Time:                        14:46:50   BIC                            987.593\n",
      "Sample:                    01-01-2000   HQIC                           981.083\n",
      "                         - 02-01-2023                                         \n",
      "Covariance Type:                  opg                                         \n",
      "==============================================================================\n",
      "                 coef    std err          z      P>|z|      [0.025      0.975]\n",
      "------------------------------------------------------------------------------\n",
      "ar.L1          0.2798      0.039      7.192      0.000       0.204       0.356\n",
      "ar.L2         -0.2245      0.021    -10.931      0.000      -0.265      -0.184\n",
      "sigma2         1.9463      0.027     72.439      0.000       1.894       1.999\n",
      "===================================================================================\n",
      "Ljung-Box (L1) (Q):                   0.20   Jarque-Bera (JB):            180793.52\n",
      "Prob(Q):                              0.65   Prob(JB):                         0.00\n",
      "Heteroskedasticity (H):              20.24   Skew:                            -8.99\n",
      "Prob(H) (two-sided):                  0.00   Kurtosis:                       126.86\n",
      "===================================================================================\n",
      "\n",
      "Warnings:\n",
      "[1] Covariance matrix calculated using the outer product of gradients (complex-step).\n"
     ]
    }
   ],
   "source": [
    "#queremos pronosticar el IGAE (I=1)\n",
    "modelo1 = ARIMA(igae['IGAE'],order=(2,1,0))\n",
    "resultado1 = modelo1.fit()\n",
    "print(resultado1.summary())"
   ]
  },
  {
   "cell_type": "code",
   "execution_count": 21,
   "id": "6f11f141",
   "metadata": {},
   "outputs": [
    {
     "name": "stdout",
     "output_type": "stream",
     "text": [
      "                               SARIMAX Results                                \n",
      "==============================================================================\n",
      "Dep. Variable:                   IGAE   No. Observations:                  278\n",
      "Model:                 ARIMA(3, 1, 0)   Log Likelihood                -484.251\n",
      "Date:                Thu, 04 May 2023   AIC                            976.503\n",
      "Time:                        14:50:38   BIC                            990.999\n",
      "Sample:                    01-01-2000   HQIC                           982.319\n",
      "                         - 02-01-2023                                         \n",
      "Covariance Type:                  opg                                         \n",
      "==============================================================================\n",
      "                 coef    std err          z      P>|z|      [0.025      0.975]\n",
      "------------------------------------------------------------------------------\n",
      "ar.L1          0.2597      0.051      5.050      0.000       0.159       0.360\n",
      "ar.L2         -0.1995      0.022     -9.050      0.000      -0.243      -0.156\n",
      "ar.L3         -0.0889      0.047     -1.882      0.060      -0.181       0.004\n",
      "sigma2         1.9307      0.033     58.161      0.000       1.866       1.996\n",
      "===================================================================================\n",
      "Ljung-Box (L1) (Q):                   0.03   Jarque-Bera (JB):            180312.91\n",
      "Prob(Q):                              0.85   Prob(JB):                         0.00\n",
      "Heteroskedasticity (H):              19.64   Skew:                            -8.94\n",
      "Prob(H) (two-sided):                  0.00   Kurtosis:                       126.70\n",
      "===================================================================================\n",
      "\n",
      "Warnings:\n",
      "[1] Covariance matrix calculated using the outer product of gradients (complex-step).\n"
     ]
    }
   ],
   "source": [
    "#queremos pronosticar el IGAE (I=1)\n",
    "modelo1 = ARIMA(igae['IGAE'],order=(3,1,0))\n",
    "resultado1 = modelo1.fit()\n",
    "print(resultado1.summary())"
   ]
  },
  {
   "cell_type": "markdown",
   "id": "f5585188",
   "metadata": {},
   "source": [
    "El AIC, BIC, HQIC son medidas de bondad de ajuste del modelo, y sirven para comparar modelos similares (\"variable dependiente\") y el \"mejor\" modelo es el que tiene el menor valor en el criterio "
   ]
  },
  {
   "cell_type": "code",
   "execution_count": 22,
   "id": "7dc4400c",
   "metadata": {},
   "outputs": [
    {
     "name": "stdout",
     "output_type": "stream",
     "text": [
      "AR: 0, MA: 0\n",
      "AR: 0, MA: 1\n",
      "AR: 0, MA: 2\n",
      "AR: 0, MA: 3\n",
      "AR: 0, MA: 4\n",
      "AR: 0, MA: 5\n",
      "AR: 0, MA: 6\n",
      "AR: 1, MA: 0\n",
      "AR: 1, MA: 1\n",
      "AR: 1, MA: 2\n",
      "AR: 1, MA: 3\n",
      "AR: 1, MA: 4\n",
      "AR: 1, MA: 5\n",
      "AR: 1, MA: 6\n",
      "AR: 2, MA: 0\n",
      "AR: 2, MA: 1\n",
      "AR: 2, MA: 2\n",
      "AR: 2, MA: 3\n",
      "AR: 2, MA: 4\n",
      "AR: 2, MA: 5\n",
      "AR: 2, MA: 6\n",
      "AR: 3, MA: 0\n",
      "AR: 3, MA: 1\n",
      "AR: 3, MA: 2\n"
     ]
    },
    {
     "name": "stderr",
     "output_type": "stream",
     "text": [
      "C:\\Users\\Lenovo\\anaconda3\\lib\\site-packages\\statsmodels\\tsa\\statespace\\sarimax.py:966: UserWarning: Non-stationary starting autoregressive parameters found. Using zeros as starting parameters.\n",
      "  warn('Non-stationary starting autoregressive parameters'\n",
      "C:\\Users\\Lenovo\\anaconda3\\lib\\site-packages\\statsmodels\\tsa\\statespace\\sarimax.py:978: UserWarning: Non-invertible starting MA parameters found. Using zeros as starting parameters.\n",
      "  warn('Non-invertible starting MA parameters found.'\n"
     ]
    },
    {
     "name": "stdout",
     "output_type": "stream",
     "text": [
      "AR: 3, MA: 3\n",
      "AR: 3, MA: 4\n",
      "AR: 3, MA: 5\n"
     ]
    },
    {
     "name": "stderr",
     "output_type": "stream",
     "text": [
      "C:\\Users\\Lenovo\\anaconda3\\lib\\site-packages\\statsmodels\\base\\model.py:604: ConvergenceWarning: Maximum Likelihood optimization failed to converge. Check mle_retvals\n",
      "  warnings.warn(\"Maximum Likelihood optimization failed to \"\n"
     ]
    },
    {
     "name": "stdout",
     "output_type": "stream",
     "text": [
      "AR: 3, MA: 6\n"
     ]
    },
    {
     "name": "stderr",
     "output_type": "stream",
     "text": [
      "C:\\Users\\Lenovo\\anaconda3\\lib\\site-packages\\statsmodels\\base\\model.py:604: ConvergenceWarning: Maximum Likelihood optimization failed to converge. Check mle_retvals\n",
      "  warnings.warn(\"Maximum Likelihood optimization failed to \"\n"
     ]
    },
    {
     "name": "stdout",
     "output_type": "stream",
     "text": [
      "AR: 4, MA: 0\n",
      "AR: 4, MA: 1\n",
      "AR: 4, MA: 2\n"
     ]
    },
    {
     "name": "stderr",
     "output_type": "stream",
     "text": [
      "C:\\Users\\Lenovo\\anaconda3\\lib\\site-packages\\statsmodels\\tsa\\statespace\\sarimax.py:966: UserWarning: Non-stationary starting autoregressive parameters found. Using zeros as starting parameters.\n",
      "  warn('Non-stationary starting autoregressive parameters'\n",
      "C:\\Users\\Lenovo\\anaconda3\\lib\\site-packages\\statsmodels\\tsa\\statespace\\sarimax.py:978: UserWarning: Non-invertible starting MA parameters found. Using zeros as starting parameters.\n",
      "  warn('Non-invertible starting MA parameters found.'\n"
     ]
    },
    {
     "name": "stdout",
     "output_type": "stream",
     "text": [
      "AR: 4, MA: 3\n"
     ]
    },
    {
     "name": "stderr",
     "output_type": "stream",
     "text": [
      "C:\\Users\\Lenovo\\anaconda3\\lib\\site-packages\\statsmodels\\tsa\\statespace\\sarimax.py:966: UserWarning: Non-stationary starting autoregressive parameters found. Using zeros as starting parameters.\n",
      "  warn('Non-stationary starting autoregressive parameters'\n",
      "C:\\Users\\Lenovo\\anaconda3\\lib\\site-packages\\statsmodels\\tsa\\statespace\\sarimax.py:978: UserWarning: Non-invertible starting MA parameters found. Using zeros as starting parameters.\n",
      "  warn('Non-invertible starting MA parameters found.'\n"
     ]
    },
    {
     "name": "stdout",
     "output_type": "stream",
     "text": [
      "AR: 4, MA: 4\n",
      "AR: 4, MA: 5\n"
     ]
    },
    {
     "name": "stderr",
     "output_type": "stream",
     "text": [
      "C:\\Users\\Lenovo\\anaconda3\\lib\\site-packages\\statsmodels\\tsa\\statespace\\sarimax.py:966: UserWarning: Non-stationary starting autoregressive parameters found. Using zeros as starting parameters.\n",
      "  warn('Non-stationary starting autoregressive parameters'\n",
      "C:\\Users\\Lenovo\\anaconda3\\lib\\site-packages\\statsmodels\\tsa\\statespace\\sarimax.py:978: UserWarning: Non-invertible starting MA parameters found. Using zeros as starting parameters.\n",
      "  warn('Non-invertible starting MA parameters found.'\n",
      "C:\\Users\\Lenovo\\anaconda3\\lib\\site-packages\\statsmodels\\base\\model.py:604: ConvergenceWarning: Maximum Likelihood optimization failed to converge. Check mle_retvals\n",
      "  warnings.warn(\"Maximum Likelihood optimization failed to \"\n"
     ]
    },
    {
     "name": "stdout",
     "output_type": "stream",
     "text": [
      "AR: 4, MA: 6\n"
     ]
    },
    {
     "name": "stderr",
     "output_type": "stream",
     "text": [
      "C:\\Users\\Lenovo\\anaconda3\\lib\\site-packages\\statsmodels\\base\\model.py:604: ConvergenceWarning: Maximum Likelihood optimization failed to converge. Check mle_retvals\n",
      "  warnings.warn(\"Maximum Likelihood optimization failed to \"\n"
     ]
    },
    {
     "name": "stdout",
     "output_type": "stream",
     "text": [
      "AR: 5, MA: 0\n",
      "AR: 5, MA: 1\n",
      "AR: 5, MA: 2\n",
      "AR: 5, MA: 3\n"
     ]
    },
    {
     "name": "stderr",
     "output_type": "stream",
     "text": [
      "C:\\Users\\Lenovo\\anaconda3\\lib\\site-packages\\statsmodels\\tsa\\statespace\\sarimax.py:966: UserWarning: Non-stationary starting autoregressive parameters found. Using zeros as starting parameters.\n",
      "  warn('Non-stationary starting autoregressive parameters'\n",
      "C:\\Users\\Lenovo\\anaconda3\\lib\\site-packages\\statsmodels\\tsa\\statespace\\sarimax.py:978: UserWarning: Non-invertible starting MA parameters found. Using zeros as starting parameters.\n",
      "  warn('Non-invertible starting MA parameters found.'\n",
      "C:\\Users\\Lenovo\\anaconda3\\lib\\site-packages\\statsmodels\\base\\model.py:604: ConvergenceWarning: Maximum Likelihood optimization failed to converge. Check mle_retvals\n",
      "  warnings.warn(\"Maximum Likelihood optimization failed to \"\n"
     ]
    },
    {
     "name": "stdout",
     "output_type": "stream",
     "text": [
      "AR: 5, MA: 4\n"
     ]
    },
    {
     "name": "stderr",
     "output_type": "stream",
     "text": [
      "C:\\Users\\Lenovo\\anaconda3\\lib\\site-packages\\statsmodels\\base\\model.py:604: ConvergenceWarning: Maximum Likelihood optimization failed to converge. Check mle_retvals\n",
      "  warnings.warn(\"Maximum Likelihood optimization failed to \"\n",
      "C:\\Users\\Lenovo\\anaconda3\\lib\\site-packages\\statsmodels\\tsa\\statespace\\sarimax.py:966: UserWarning: Non-stationary starting autoregressive parameters found. Using zeros as starting parameters.\n",
      "  warn('Non-stationary starting autoregressive parameters'\n",
      "C:\\Users\\Lenovo\\anaconda3\\lib\\site-packages\\statsmodels\\tsa\\statespace\\sarimax.py:978: UserWarning: Non-invertible starting MA parameters found. Using zeros as starting parameters.\n",
      "  warn('Non-invertible starting MA parameters found.'\n"
     ]
    },
    {
     "name": "stdout",
     "output_type": "stream",
     "text": [
      "AR: 5, MA: 5\n"
     ]
    },
    {
     "name": "stderr",
     "output_type": "stream",
     "text": [
      "C:\\Users\\Lenovo\\anaconda3\\lib\\site-packages\\statsmodels\\base\\model.py:604: ConvergenceWarning: Maximum Likelihood optimization failed to converge. Check mle_retvals\n",
      "  warnings.warn(\"Maximum Likelihood optimization failed to \"\n"
     ]
    },
    {
     "name": "stdout",
     "output_type": "stream",
     "text": [
      "AR: 5, MA: 6\n"
     ]
    },
    {
     "name": "stderr",
     "output_type": "stream",
     "text": [
      "C:\\Users\\Lenovo\\anaconda3\\lib\\site-packages\\statsmodels\\base\\model.py:604: ConvergenceWarning: Maximum Likelihood optimization failed to converge. Check mle_retvals\n",
      "  warnings.warn(\"Maximum Likelihood optimization failed to \"\n"
     ]
    },
    {
     "name": "stdout",
     "output_type": "stream",
     "text": [
      "AR: 6, MA: 0\n",
      "AR: 6, MA: 1\n",
      "AR: 6, MA: 2\n",
      "AR: 6, MA: 3\n"
     ]
    },
    {
     "name": "stderr",
     "output_type": "stream",
     "text": [
      "C:\\Users\\Lenovo\\anaconda3\\lib\\site-packages\\statsmodels\\tsa\\statespace\\sarimax.py:966: UserWarning: Non-stationary starting autoregressive parameters found. Using zeros as starting parameters.\n",
      "  warn('Non-stationary starting autoregressive parameters'\n",
      "C:\\Users\\Lenovo\\anaconda3\\lib\\site-packages\\statsmodels\\tsa\\statespace\\sarimax.py:978: UserWarning: Non-invertible starting MA parameters found. Using zeros as starting parameters.\n",
      "  warn('Non-invertible starting MA parameters found.'\n",
      "C:\\Users\\Lenovo\\anaconda3\\lib\\site-packages\\statsmodels\\base\\model.py:604: ConvergenceWarning: Maximum Likelihood optimization failed to converge. Check mle_retvals\n",
      "  warnings.warn(\"Maximum Likelihood optimization failed to \"\n",
      "C:\\Users\\Lenovo\\anaconda3\\lib\\site-packages\\statsmodels\\tsa\\statespace\\sarimax.py:966: UserWarning: Non-stationary starting autoregressive parameters found. Using zeros as starting parameters.\n",
      "  warn('Non-stationary starting autoregressive parameters'\n",
      "C:\\Users\\Lenovo\\anaconda3\\lib\\site-packages\\statsmodels\\tsa\\statespace\\sarimax.py:978: UserWarning: Non-invertible starting MA parameters found. Using zeros as starting parameters.\n",
      "  warn('Non-invertible starting MA parameters found.'\n"
     ]
    },
    {
     "name": "stdout",
     "output_type": "stream",
     "text": [
      "AR: 6, MA: 4\n"
     ]
    },
    {
     "name": "stderr",
     "output_type": "stream",
     "text": [
      "C:\\Users\\Lenovo\\anaconda3\\lib\\site-packages\\statsmodels\\base\\model.py:604: ConvergenceWarning: Maximum Likelihood optimization failed to converge. Check mle_retvals\n",
      "  warnings.warn(\"Maximum Likelihood optimization failed to \"\n",
      "C:\\Users\\Lenovo\\anaconda3\\lib\\site-packages\\statsmodels\\tsa\\statespace\\sarimax.py:966: UserWarning: Non-stationary starting autoregressive parameters found. Using zeros as starting parameters.\n",
      "  warn('Non-stationary starting autoregressive parameters'\n",
      "C:\\Users\\Lenovo\\anaconda3\\lib\\site-packages\\statsmodels\\tsa\\statespace\\sarimax.py:978: UserWarning: Non-invertible starting MA parameters found. Using zeros as starting parameters.\n",
      "  warn('Non-invertible starting MA parameters found.'\n"
     ]
    },
    {
     "name": "stdout",
     "output_type": "stream",
     "text": [
      "AR: 6, MA: 5\n"
     ]
    },
    {
     "name": "stderr",
     "output_type": "stream",
     "text": [
      "C:\\Users\\Lenovo\\anaconda3\\lib\\site-packages\\statsmodels\\base\\model.py:604: ConvergenceWarning: Maximum Likelihood optimization failed to converge. Check mle_retvals\n",
      "  warnings.warn(\"Maximum Likelihood optimization failed to \"\n"
     ]
    },
    {
     "name": "stdout",
     "output_type": "stream",
     "text": [
      "AR: 6, MA: 6\n"
     ]
    },
    {
     "name": "stderr",
     "output_type": "stream",
     "text": [
      "C:\\Users\\Lenovo\\anaconda3\\lib\\site-packages\\statsmodels\\base\\model.py:604: ConvergenceWarning: Maximum Likelihood optimization failed to converge. Check mle_retvals\n",
      "  warnings.warn(\"Maximum Likelihood optimization failed to \"\n"
     ]
    }
   ],
   "source": [
    "# vamos a estimar varios modelos y que se guarde el AIC BIC\n",
    "ic = {}\n",
    "for ar in range(7):\n",
    "    for ma in range(7):\n",
    "        print(f\"AR: {ar}, MA: {ma}\")\n",
    "        modelo = ARIMA(igae['IGAE'], order=(ar, 1, ma))\n",
    "        resultado = modelo.fit()\n",
    "        ic[(ar, ma)] = [resultado.aic, resultado.bic]\n",
    "\n",
    " \n",
    "\n",
    "ic = pd.DataFrame(ic, index=[\"AIC\", \"BIC\"]).T\n",
    "ic.index = ic.index.set_names([\"AR\", \"MA\"])"
   ]
  },
  {
   "cell_type": "code",
   "execution_count": 23,
   "id": "ee804c62",
   "metadata": {},
   "outputs": [
    {
     "data": {
      "text/html": [
       "<div>\n",
       "<style scoped>\n",
       "    .dataframe tbody tr th:only-of-type {\n",
       "        vertical-align: middle;\n",
       "    }\n",
       "\n",
       "    .dataframe tbody tr th {\n",
       "        vertical-align: top;\n",
       "    }\n",
       "\n",
       "    .dataframe thead th {\n",
       "        text-align: right;\n",
       "    }\n",
       "</style>\n",
       "<table border=\"1\" class=\"dataframe\">\n",
       "  <thead>\n",
       "    <tr style=\"text-align: right;\">\n",
       "      <th></th>\n",
       "      <th></th>\n",
       "      <th>AIC</th>\n",
       "      <th>BIC</th>\n",
       "    </tr>\n",
       "    <tr>\n",
       "      <th>AR</th>\n",
       "      <th>MA</th>\n",
       "      <th></th>\n",
       "      <th></th>\n",
       "    </tr>\n",
       "  </thead>\n",
       "  <tbody>\n",
       "    <tr>\n",
       "      <th rowspan=\"7\" valign=\"top\">0</th>\n",
       "      <th>0</th>\n",
       "      <td>1002.007763</td>\n",
       "      <td>1005.631780</td>\n",
       "    </tr>\n",
       "    <tr>\n",
       "      <th>1</th>\n",
       "      <td>982.673674</td>\n",
       "      <td>989.921709</td>\n",
       "    </tr>\n",
       "    <tr>\n",
       "      <th>2</th>\n",
       "      <td>982.869533</td>\n",
       "      <td>993.741586</td>\n",
       "    </tr>\n",
       "    <tr>\n",
       "      <th>3</th>\n",
       "      <td>974.733594</td>\n",
       "      <td>989.229664</td>\n",
       "    </tr>\n",
       "    <tr>\n",
       "      <th>4</th>\n",
       "      <td>975.867880</td>\n",
       "      <td>993.987968</td>\n",
       "    </tr>\n",
       "    <tr>\n",
       "      <th>5</th>\n",
       "      <td>976.090079</td>\n",
       "      <td>997.834184</td>\n",
       "    </tr>\n",
       "    <tr>\n",
       "      <th>6</th>\n",
       "      <td>978.045877</td>\n",
       "      <td>1003.413999</td>\n",
       "    </tr>\n",
       "    <tr>\n",
       "      <th rowspan=\"7\" valign=\"top\">1</th>\n",
       "      <th>0</th>\n",
       "      <td>989.133735</td>\n",
       "      <td>996.381770</td>\n",
       "    </tr>\n",
       "    <tr>\n",
       "      <th>1</th>\n",
       "      <td>983.956299</td>\n",
       "      <td>994.828351</td>\n",
       "    </tr>\n",
       "    <tr>\n",
       "      <th>2</th>\n",
       "      <td>975.457167</td>\n",
       "      <td>989.953238</td>\n",
       "    </tr>\n",
       "    <tr>\n",
       "      <th>3</th>\n",
       "      <td>974.843445</td>\n",
       "      <td>992.963533</td>\n",
       "    </tr>\n",
       "    <tr>\n",
       "      <th>4</th>\n",
       "      <td>976.687314</td>\n",
       "      <td>998.431419</td>\n",
       "    </tr>\n",
       "    <tr>\n",
       "      <th>5</th>\n",
       "      <td>977.992642</td>\n",
       "      <td>1003.360764</td>\n",
       "    </tr>\n",
       "    <tr>\n",
       "      <th>6</th>\n",
       "      <td>979.990966</td>\n",
       "      <td>1008.983106</td>\n",
       "    </tr>\n",
       "    <tr>\n",
       "      <th rowspan=\"7\" valign=\"top\">2</th>\n",
       "      <th>0</th>\n",
       "      <td>976.720795</td>\n",
       "      <td>987.592847</td>\n",
       "    </tr>\n",
       "    <tr>\n",
       "      <th>1</th>\n",
       "      <td>974.326945</td>\n",
       "      <td>988.823015</td>\n",
       "    </tr>\n",
       "    <tr>\n",
       "      <th>2</th>\n",
       "      <td>975.425380</td>\n",
       "      <td>993.545467</td>\n",
       "    </tr>\n",
       "    <tr>\n",
       "      <th>3</th>\n",
       "      <td>976.087205</td>\n",
       "      <td>997.831310</td>\n",
       "    </tr>\n",
       "    <tr>\n",
       "      <th>4</th>\n",
       "      <td>977.362473</td>\n",
       "      <td>1002.730596</td>\n",
       "    </tr>\n",
       "    <tr>\n",
       "      <th>5</th>\n",
       "      <td>979.348761</td>\n",
       "      <td>1008.340901</td>\n",
       "    </tr>\n",
       "    <tr>\n",
       "      <th>6</th>\n",
       "      <td>981.900264</td>\n",
       "      <td>1014.516421</td>\n",
       "    </tr>\n",
       "    <tr>\n",
       "      <th rowspan=\"7\" valign=\"top\">3</th>\n",
       "      <th>0</th>\n",
       "      <td>976.502560</td>\n",
       "      <td>990.998630</td>\n",
       "    </tr>\n",
       "    <tr>\n",
       "      <th>1</th>\n",
       "      <td>975.292572</td>\n",
       "      <td>993.412660</td>\n",
       "    </tr>\n",
       "    <tr>\n",
       "      <th>2</th>\n",
       "      <td>977.292572</td>\n",
       "      <td>999.036677</td>\n",
       "    </tr>\n",
       "    <tr>\n",
       "      <th>3</th>\n",
       "      <td>977.344691</td>\n",
       "      <td>1002.712814</td>\n",
       "    </tr>\n",
       "    <tr>\n",
       "      <th>4</th>\n",
       "      <td>979.353025</td>\n",
       "      <td>1008.345165</td>\n",
       "    </tr>\n",
       "    <tr>\n",
       "      <th>5</th>\n",
       "      <td>980.076320</td>\n",
       "      <td>1012.692477</td>\n",
       "    </tr>\n",
       "    <tr>\n",
       "      <th>6</th>\n",
       "      <td>980.421956</td>\n",
       "      <td>1016.662131</td>\n",
       "    </tr>\n",
       "    <tr>\n",
       "      <th rowspan=\"7\" valign=\"top\">4</th>\n",
       "      <th>0</th>\n",
       "      <td>978.188341</td>\n",
       "      <td>996.308428</td>\n",
       "    </tr>\n",
       "    <tr>\n",
       "      <th>1</th>\n",
       "      <td>977.292572</td>\n",
       "      <td>999.036677</td>\n",
       "    </tr>\n",
       "    <tr>\n",
       "      <th>2</th>\n",
       "      <td>977.723774</td>\n",
       "      <td>1003.091896</td>\n",
       "    </tr>\n",
       "    <tr>\n",
       "      <th>3</th>\n",
       "      <td>979.344466</td>\n",
       "      <td>1008.336606</td>\n",
       "    </tr>\n",
       "    <tr>\n",
       "      <th>4</th>\n",
       "      <td>981.704643</td>\n",
       "      <td>1014.320801</td>\n",
       "    </tr>\n",
       "    <tr>\n",
       "      <th>5</th>\n",
       "      <td>981.543598</td>\n",
       "      <td>1017.783773</td>\n",
       "    </tr>\n",
       "    <tr>\n",
       "      <th>6</th>\n",
       "      <td>982.572511</td>\n",
       "      <td>1022.436704</td>\n",
       "    </tr>\n",
       "    <tr>\n",
       "      <th rowspan=\"7\" valign=\"top\">5</th>\n",
       "      <th>0</th>\n",
       "      <td>978.128718</td>\n",
       "      <td>999.872823</td>\n",
       "    </tr>\n",
       "    <tr>\n",
       "      <th>1</th>\n",
       "      <td>978.497174</td>\n",
       "      <td>1003.865296</td>\n",
       "    </tr>\n",
       "    <tr>\n",
       "      <th>2</th>\n",
       "      <td>979.267162</td>\n",
       "      <td>1008.259302</td>\n",
       "    </tr>\n",
       "    <tr>\n",
       "      <th>3</th>\n",
       "      <td>979.739672</td>\n",
       "      <td>1012.355830</td>\n",
       "    </tr>\n",
       "    <tr>\n",
       "      <th>4</th>\n",
       "      <td>982.078253</td>\n",
       "      <td>1018.318428</td>\n",
       "    </tr>\n",
       "    <tr>\n",
       "      <th>5</th>\n",
       "      <td>982.359243</td>\n",
       "      <td>1022.223436</td>\n",
       "    </tr>\n",
       "    <tr>\n",
       "      <th>6</th>\n",
       "      <td>982.862473</td>\n",
       "      <td>1026.350683</td>\n",
       "    </tr>\n",
       "    <tr>\n",
       "      <th rowspan=\"7\" valign=\"top\">6</th>\n",
       "      <th>0</th>\n",
       "      <td>979.916740</td>\n",
       "      <td>1005.284862</td>\n",
       "    </tr>\n",
       "    <tr>\n",
       "      <th>1</th>\n",
       "      <td>980.494440</td>\n",
       "      <td>1009.486580</td>\n",
       "    </tr>\n",
       "    <tr>\n",
       "      <th>2</th>\n",
       "      <td>981.222203</td>\n",
       "      <td>1013.838361</td>\n",
       "    </tr>\n",
       "    <tr>\n",
       "      <th>3</th>\n",
       "      <td>981.797394</td>\n",
       "      <td>1018.037569</td>\n",
       "    </tr>\n",
       "    <tr>\n",
       "      <th>4</th>\n",
       "      <td>978.888074</td>\n",
       "      <td>1018.752266</td>\n",
       "    </tr>\n",
       "    <tr>\n",
       "      <th>5</th>\n",
       "      <td>986.246522</td>\n",
       "      <td>1029.734732</td>\n",
       "    </tr>\n",
       "    <tr>\n",
       "      <th>6</th>\n",
       "      <td>985.655867</td>\n",
       "      <td>1032.768095</td>\n",
       "    </tr>\n",
       "  </tbody>\n",
       "</table>\n",
       "</div>"
      ],
      "text/plain": [
       "               AIC          BIC\n",
       "AR MA                          \n",
       "0  0   1002.007763  1005.631780\n",
       "   1    982.673674   989.921709\n",
       "   2    982.869533   993.741586\n",
       "   3    974.733594   989.229664\n",
       "   4    975.867880   993.987968\n",
       "   5    976.090079   997.834184\n",
       "   6    978.045877  1003.413999\n",
       "1  0    989.133735   996.381770\n",
       "   1    983.956299   994.828351\n",
       "   2    975.457167   989.953238\n",
       "   3    974.843445   992.963533\n",
       "   4    976.687314   998.431419\n",
       "   5    977.992642  1003.360764\n",
       "   6    979.990966  1008.983106\n",
       "2  0    976.720795   987.592847\n",
       "   1    974.326945   988.823015\n",
       "   2    975.425380   993.545467\n",
       "   3    976.087205   997.831310\n",
       "   4    977.362473  1002.730596\n",
       "   5    979.348761  1008.340901\n",
       "   6    981.900264  1014.516421\n",
       "3  0    976.502560   990.998630\n",
       "   1    975.292572   993.412660\n",
       "   2    977.292572   999.036677\n",
       "   3    977.344691  1002.712814\n",
       "   4    979.353025  1008.345165\n",
       "   5    980.076320  1012.692477\n",
       "   6    980.421956  1016.662131\n",
       "4  0    978.188341   996.308428\n",
       "   1    977.292572   999.036677\n",
       "   2    977.723774  1003.091896\n",
       "   3    979.344466  1008.336606\n",
       "   4    981.704643  1014.320801\n",
       "   5    981.543598  1017.783773\n",
       "   6    982.572511  1022.436704\n",
       "5  0    978.128718   999.872823\n",
       "   1    978.497174  1003.865296\n",
       "   2    979.267162  1008.259302\n",
       "   3    979.739672  1012.355830\n",
       "   4    982.078253  1018.318428\n",
       "   5    982.359243  1022.223436\n",
       "   6    982.862473  1026.350683\n",
       "6  0    979.916740  1005.284862\n",
       "   1    980.494440  1009.486580\n",
       "   2    981.222203  1013.838361\n",
       "   3    981.797394  1018.037569\n",
       "   4    978.888074  1018.752266\n",
       "   5    986.246522  1029.734732\n",
       "   6    985.655867  1032.768095"
      ]
     },
     "execution_count": 23,
     "metadata": {},
     "output_type": "execute_result"
    }
   ],
   "source": [
    "ic"
   ]
  },
  {
   "cell_type": "code",
   "execution_count": 24,
   "id": "52a2088d",
   "metadata": {},
   "outputs": [
    {
     "data": {
      "text/html": [
       "<div>\n",
       "<style scoped>\n",
       "    .dataframe tbody tr th:only-of-type {\n",
       "        vertical-align: middle;\n",
       "    }\n",
       "\n",
       "    .dataframe tbody tr th {\n",
       "        vertical-align: top;\n",
       "    }\n",
       "\n",
       "    .dataframe thead th {\n",
       "        text-align: right;\n",
       "    }\n",
       "</style>\n",
       "<table border=\"1\" class=\"dataframe\">\n",
       "  <thead>\n",
       "    <tr style=\"text-align: right;\">\n",
       "      <th></th>\n",
       "      <th></th>\n",
       "      <th>AIC</th>\n",
       "      <th>BIC</th>\n",
       "    </tr>\n",
       "    <tr>\n",
       "      <th>AR</th>\n",
       "      <th>MA</th>\n",
       "      <th></th>\n",
       "      <th></th>\n",
       "    </tr>\n",
       "  </thead>\n",
       "  <tbody>\n",
       "    <tr>\n",
       "      <th>2</th>\n",
       "      <th>1</th>\n",
       "      <td>974.326945</td>\n",
       "      <td>988.823015</td>\n",
       "    </tr>\n",
       "    <tr>\n",
       "      <th>0</th>\n",
       "      <th>3</th>\n",
       "      <td>974.733594</td>\n",
       "      <td>989.229664</td>\n",
       "    </tr>\n",
       "    <tr>\n",
       "      <th>1</th>\n",
       "      <th>3</th>\n",
       "      <td>974.843445</td>\n",
       "      <td>992.963533</td>\n",
       "    </tr>\n",
       "    <tr>\n",
       "      <th>3</th>\n",
       "      <th>1</th>\n",
       "      <td>975.292572</td>\n",
       "      <td>993.412660</td>\n",
       "    </tr>\n",
       "    <tr>\n",
       "      <th>2</th>\n",
       "      <th>2</th>\n",
       "      <td>975.425380</td>\n",
       "      <td>993.545467</td>\n",
       "    </tr>\n",
       "  </tbody>\n",
       "</table>\n",
       "</div>"
      ],
      "text/plain": [
       "              AIC         BIC\n",
       "AR MA                        \n",
       "2  1   974.326945  988.823015\n",
       "0  3   974.733594  989.229664\n",
       "1  3   974.843445  992.963533\n",
       "3  1   975.292572  993.412660\n",
       "2  2   975.425380  993.545467"
      ]
     },
     "execution_count": 24,
     "metadata": {},
     "output_type": "execute_result"
    }
   ],
   "source": [
    "#ordenamos de menor a mayor por AIC\n",
    "ic.sort_values('AIC', ascending = True)[0:5]"
   ]
  },
  {
   "cell_type": "markdown",
   "id": "8c2ee0c1",
   "metadata": {},
   "source": [
    "Significa que el IGAE es una ARIMA (2,1,1)"
   ]
  },
  {
   "cell_type": "code",
   "execution_count": 25,
   "id": "9e9ddf3d",
   "metadata": {},
   "outputs": [
    {
     "name": "stdout",
     "output_type": "stream",
     "text": [
      "                               SARIMAX Results                                \n",
      "==============================================================================\n",
      "Dep. Variable:                   IGAE   No. Observations:                  278\n",
      "Model:                 ARIMA(3, 1, 0)   Log Likelihood                -484.251\n",
      "Date:                Thu, 04 May 2023   AIC                            976.503\n",
      "Time:                        14:58:01   BIC                            990.999\n",
      "Sample:                    01-01-2000   HQIC                           982.319\n",
      "                         - 02-01-2023                                         \n",
      "Covariance Type:                  opg                                         \n",
      "==============================================================================\n",
      "                 coef    std err          z      P>|z|      [0.025      0.975]\n",
      "------------------------------------------------------------------------------\n",
      "ar.L1          0.2597      0.051      5.050      0.000       0.159       0.360\n",
      "ar.L2         -0.1995      0.022     -9.050      0.000      -0.243      -0.156\n",
      "ar.L3         -0.0889      0.047     -1.882      0.060      -0.181       0.004\n",
      "sigma2         1.9307      0.033     58.161      0.000       1.866       1.996\n",
      "===================================================================================\n",
      "Ljung-Box (L1) (Q):                   0.03   Jarque-Bera (JB):            180312.91\n",
      "Prob(Q):                              0.85   Prob(JB):                         0.00\n",
      "Heteroskedasticity (H):              19.64   Skew:                            -8.94\n",
      "Prob(H) (two-sided):                  0.00   Kurtosis:                       126.70\n",
      "===================================================================================\n",
      "\n",
      "Warnings:\n",
      "[1] Covariance matrix calculated using the outer product of gradients (complex-step).\n"
     ]
    }
   ],
   "source": [
    "#estimar el verdadero modelo\n",
    "modelo2 = ARIMA(igae['IGAE'],order=(2,1,1))\n",
    "resultado2 = modelo1.fit()\n",
    "print(resultado1.summary())"
   ]
  },
  {
   "cell_type": "code",
   "execution_count": 26,
   "id": "49793287",
   "metadata": {},
   "outputs": [
    {
     "data": {
      "text/html": [
       "<div>\n",
       "<style scoped>\n",
       "    .dataframe tbody tr th:only-of-type {\n",
       "        vertical-align: middle;\n",
       "    }\n",
       "\n",
       "    .dataframe tbody tr th {\n",
       "        vertical-align: top;\n",
       "    }\n",
       "\n",
       "    .dataframe thead th {\n",
       "        text-align: right;\n",
       "    }\n",
       "</style>\n",
       "<table border=\"1\" class=\"dataframe\">\n",
       "  <thead>\n",
       "    <tr style=\"text-align: right;\">\n",
       "      <th></th>\n",
       "      <th>IGAE</th>\n",
       "      <th>igae_diferenciado</th>\n",
       "    </tr>\n",
       "    <tr>\n",
       "      <th>Periodos</th>\n",
       "      <th></th>\n",
       "      <th></th>\n",
       "    </tr>\n",
       "  </thead>\n",
       "  <tbody>\n",
       "    <tr>\n",
       "      <th>2022-12-01</th>\n",
       "      <td>113.276229</td>\n",
       "      <td>0.460615</td>\n",
       "    </tr>\n",
       "    <tr>\n",
       "      <th>2023-01-01</th>\n",
       "      <td>113.982481</td>\n",
       "      <td>0.706252</td>\n",
       "    </tr>\n",
       "    <tr>\n",
       "      <th>2023-02-01</th>\n",
       "      <td>114.145196</td>\n",
       "      <td>0.162716</td>\n",
       "    </tr>\n",
       "  </tbody>\n",
       "</table>\n",
       "</div>"
      ],
      "text/plain": [
       "                  IGAE  igae_diferenciado\n",
       "Periodos                                 \n",
       "2022-12-01  113.276229           0.460615\n",
       "2023-01-01  113.982481           0.706252\n",
       "2023-02-01  114.145196           0.162716"
      ]
     },
     "execution_count": 26,
     "metadata": {},
     "output_type": "execute_result"
    }
   ],
   "source": [
    "igae.tail(3)"
   ]
  },
  {
   "cell_type": "code",
   "execution_count": 28,
   "id": "4664d181",
   "metadata": {},
   "outputs": [
    {
     "data": {
      "text/plain": [
       "2023-03-01    114.005608\n",
       "2023-04-01    113.874115\n",
       "2023-05-01    113.853351\n",
       "2023-06-01    113.886601\n",
       "2023-07-01    113.911067\n",
       "2023-08-01    113.912633\n",
       "2023-09-01    113.905203\n",
       "2023-10-01    113.900786\n",
       "Freq: MS, Name: predicted_mean, dtype: float64"
      ]
     },
     "execution_count": 28,
     "metadata": {},
     "output_type": "execute_result"
    }
   ],
   "source": [
    "#vamos a hacer el pronostico\n",
    "resultado2.predict('2023-03-01','2023-10-01')"
   ]
  },
  {
   "cell_type": "code",
   "execution_count": 29,
   "id": "a39cf645",
   "metadata": {},
   "outputs": [
    {
     "data": {
      "image/png": "[encoded data removed]",
      "text/plain": [
       "<Figure size 432x288 with 1 Axes>"
      ]
     },
     "metadata": {
      "needs_background": "light"
     },
     "output_type": "display_data"
    }
   ],
   "source": [
    "#libreria para la grafica del pronostico\n",
    "from statsmodels.graphics.tsaplots import plot_predict\n",
    "\n",
    "#grafica pronostico\n",
    "plot_predict(resultado2, start='2023-03-01', end='2023-12-01');"
   ]
  },
  {
   "cell_type": "code",
   "execution_count": 30,
   "id": "c31f8843",
   "metadata": {},
   "outputs": [
    {
     "data": {
      "image/png": "[encoded data removed]",
      "text/plain": [
       "<Figure size 432x288 with 1 Axes>"
      ]
     },
     "metadata": {
      "needs_background": "light"
     },
     "output_type": "display_data"
    }
   ],
   "source": [
    "#grafica pronostico\n",
    "plot_predict(resultado2, start='2023-03-01', end='2023-12-01')\n",
    "# añade grafica de la serie\n",
    "igae['IGAE'].plot();"
   ]
  }
 ],
 "metadata": {
  "kernelspec": {
   "display_name": "Python 3 (ipykernel)",
   "language": "python",
   "name": "python3"
  },
  "language_info": {
   "codemirror_mode": {
    "name": "ipython",
    "version": 3
   },
   "file_extension": ".py",
   "mimetype": "text/x-python",
   "name": "python",
   "nbconvert_exporter": "python",
   "pygments_lexer": "ipython3",
   "version": "3.9.12"
  }
 },
 "nbformat": 4,
 "nbformat_minor": 5
}
