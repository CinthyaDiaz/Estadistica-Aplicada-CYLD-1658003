{
 "cells": [
  {
   "cell_type": "markdown",
   "id": "8109ef0c",
   "metadata": {},
   "source": [
    "# Estadística Aplicada\n",
    "## Cinthya YeseniaLópez Díaz 1658003\n",
    "### 2 mayo de 2023"
   ]
  },
  {
   "cell_type": "code",
   "execution_count": 1,
   "id": "43229745",
   "metadata": {},
   "outputs": [],
   "source": [
    "#pronóstico de prueba\n",
    "import numpy as np\n",
    "import pandas as pd \n",
    "import matplotlib.pyplot as plt \n",
    "%matplotlib inline"
   ]
  },
  {
   "cell_type": "code",
   "execution_count": 2,
   "id": "bc678758",
   "metadata": {},
   "outputs": [],
   "source": [
    "from statsmodels.graphics.tsaplots import plot_acf\n",
    "from statsmodels.graphics.tsaplots import plot_pacf\n",
    "from statsmodels.tsa.stattools import adfuller\n",
    "#modelo arma\n",
    "from statsmodels.tsa.arima.model import ARIMA "
   ]
  },
  {
   "cell_type": "code",
   "execution_count": 3,
   "id": "c37c8c48",
   "metadata": {},
   "outputs": [],
   "source": [
    "procesos = pd.read_excel('procesos_estacionariosG41.xlsx')"
   ]
  },
  {
   "cell_type": "code",
   "execution_count": 4,
   "id": "5a934d08",
   "metadata": {},
   "outputs": [
    {
     "data": {
      "text/html": [
       "<div>\n",
       "<style scoped>\n",
       "    .dataframe tbody tr th:only-of-type {\n",
       "        vertical-align: middle;\n",
       "    }\n",
       "\n",
       "    .dataframe tbody tr th {\n",
       "        vertical-align: top;\n",
       "    }\n",
       "\n",
       "    .dataframe thead th {\n",
       "        text-align: right;\n",
       "    }\n",
       "</style>\n",
       "<table border=\"1\" class=\"dataframe\">\n",
       "  <thead>\n",
       "    <tr style=\"text-align: right;\">\n",
       "      <th></th>\n",
       "      <th>ruido_blanco</th>\n",
       "      <th>ar_1</th>\n",
       "      <th>ma_1</th>\n",
       "      <th>arma_11</th>\n",
       "    </tr>\n",
       "  </thead>\n",
       "  <tbody>\n",
       "    <tr>\n",
       "      <th>0</th>\n",
       "      <td>-0.416291</td>\n",
       "      <td>0.783709</td>\n",
       "      <td>1.583709</td>\n",
       "      <td>0.483709</td>\n",
       "    </tr>\n",
       "    <tr>\n",
       "      <th>1</th>\n",
       "      <td>-1.200566</td>\n",
       "      <td>-0.730341</td>\n",
       "      <td>0.591288</td>\n",
       "      <td>-1.178554</td>\n",
       "    </tr>\n",
       "    <tr>\n",
       "      <th>2</th>\n",
       "      <td>0.244522</td>\n",
       "      <td>-0.193683</td>\n",
       "      <td>1.644239</td>\n",
       "      <td>-0.850094</td>\n",
       "    </tr>\n",
       "    <tr>\n",
       "      <th>3</th>\n",
       "      <td>-0.099132</td>\n",
       "      <td>-0.215342</td>\n",
       "      <td>2.023129</td>\n",
       "      <td>-0.366749</td>\n",
       "    </tr>\n",
       "    <tr>\n",
       "      <th>4</th>\n",
       "      <td>0.148857</td>\n",
       "      <td>0.019652</td>\n",
       "      <td>2.099291</td>\n",
       "      <td>-0.062772</td>\n",
       "    </tr>\n",
       "    <tr>\n",
       "      <th>...</th>\n",
       "      <td>...</td>\n",
       "      <td>...</td>\n",
       "      <td>...</td>\n",
       "      <td>...</td>\n",
       "    </tr>\n",
       "    <tr>\n",
       "      <th>995</th>\n",
       "      <td>-0.670759</td>\n",
       "      <td>-0.892074</td>\n",
       "      <td>1.499536</td>\n",
       "      <td>-0.822315</td>\n",
       "    </tr>\n",
       "    <tr>\n",
       "      <th>996</th>\n",
       "      <td>1.052115</td>\n",
       "      <td>0.516871</td>\n",
       "      <td>2.716735</td>\n",
       "      <td>0.366817</td>\n",
       "    </tr>\n",
       "    <tr>\n",
       "      <th>997</th>\n",
       "      <td>-1.048340</td>\n",
       "      <td>-0.738217</td>\n",
       "      <td>1.477718</td>\n",
       "      <td>-0.388778</td>\n",
       "    </tr>\n",
       "    <tr>\n",
       "      <th>998</th>\n",
       "      <td>0.265279</td>\n",
       "      <td>-0.177651</td>\n",
       "      <td>1.741109</td>\n",
       "      <td>-0.402391</td>\n",
       "    </tr>\n",
       "    <tr>\n",
       "      <th>999</th>\n",
       "      <td>-1.091242</td>\n",
       "      <td>-1.197833</td>\n",
       "      <td>1.041397</td>\n",
       "      <td>-1.147637</td>\n",
       "    </tr>\n",
       "  </tbody>\n",
       "</table>\n",
       "<p>1000 rows × 4 columns</p>\n",
       "</div>"
      ],
      "text/plain": [
       "     ruido_blanco      ar_1      ma_1   arma_11\n",
       "0       -0.416291  0.783709  1.583709  0.483709\n",
       "1       -1.200566 -0.730341  0.591288 -1.178554\n",
       "2        0.244522 -0.193683  1.644239 -0.850094\n",
       "3       -0.099132 -0.215342  2.023129 -0.366749\n",
       "4        0.148857  0.019652  2.099291 -0.062772\n",
       "..            ...       ...       ...       ...\n",
       "995     -0.670759 -0.892074  1.499536 -0.822315\n",
       "996      1.052115  0.516871  2.716735  0.366817\n",
       "997     -1.048340 -0.738217  1.477718 -0.388778\n",
       "998      0.265279 -0.177651  1.741109 -0.402391\n",
       "999     -1.091242 -1.197833  1.041397 -1.147637\n",
       "\n",
       "[1000 rows x 4 columns]"
      ]
     },
     "execution_count": 4,
     "metadata": {},
     "output_type": "execute_result"
    }
   ],
   "source": [
    "procesos"
   ]
  },
  {
   "cell_type": "code",
   "execution_count": 5,
   "id": "e192bbf4",
   "metadata": {},
   "outputs": [
    {
     "data": {
      "image/png": "[encoded data removed]",
      "text/plain": [
       "<Figure size 432x288 with 1 Axes>"
      ]
     },
     "metadata": {
      "needs_background": "light"
     },
     "output_type": "display_data"
    }
   ],
   "source": [
    "#lo primero siempre es gráficar la serie\n",
    "procesos['ar_1'].plot();"
   ]
  },
  {
   "cell_type": "markdown",
   "id": "678f28b6",
   "metadata": {},
   "source": [
    "La gráfica nos ayuda a hacernos una idea de si la serie se comporta como un proceso estacionario, y si la serie tiene algun componente de tendencia o estacional."
   ]
  },
  {
   "cell_type": "code",
   "execution_count": 6,
   "id": "44269055",
   "metadata": {},
   "outputs": [
    {
     "name": "stdout",
     "output_type": "stream",
     "text": [
      "Se rechaza Ho, La serie es estacionaria\n"
     ]
    }
   ],
   "source": [
    "#verificar si la serie es estacionaria\n",
    "adfuller_test1 = adfuller(procesos['ar_1'])\n",
    "#nivel de significancia 0.05\n",
    "alpha = 0.05\n",
    "if adfuller_test1[1] < alpha:\n",
    "    print('Se rechaza Ho, La serie es estacionaria')\n",
    "else:\n",
    "    print('No se rechaza Ho, la serie es No estacionaria')"
   ]
  },
  {
   "cell_type": "code",
   "execution_count": 7,
   "id": "930be19a",
   "metadata": {},
   "outputs": [
    {
     "name": "stderr",
     "output_type": "stream",
     "text": [
      "C:\\Users\\Lenovo\\anaconda3\\lib\\site-packages\\statsmodels\\graphics\\tsaplots.py:348: FutureWarning: The default method 'yw' can produce PACF values outside of the [-1,1] interval. After 0.13, the default will change tounadjusted Yule-Walker ('ywm'). You can use this method now by setting method='ywm'.\n",
      "  warnings.warn(\n"
     ]
    },
    {
     "data": {
      "image/png": "[encoded data removed]",
      "text/plain": [
       "<Figure size 864x288 with 2 Axes>"
      ]
     },
     "metadata": {
      "needs_background": "light"
     },
     "output_type": "display_data"
    }
   ],
   "source": [
    "#Una vez que es estacionaria, debemos de identificar que tipo de proceso estacionario es\n",
    "fig, ax = plt.subplots(1,2, figsize=(12,4))\n",
    "#subgrafica 0\n",
    "plot_acf(procesos['ar_1'], zero=False,ax=ax[0],title='Función de autocorrelación ACF')\n",
    "ax[0].set_ylim(-1,1)\n",
    "#subgrafica 1\n",
    "plot_pacf(procesos['ar_1'], zero=False, ax=ax[1],title='Función de autocorrelación parcial PACF')\n",
    "ax[1].set_ylim(-1,1)\n",
    "plt.show()"
   ]
  },
  {
   "cell_type": "markdown",
   "id": "3d4d3854",
   "metadata": {},
   "source": [
    "**ACF te da el grado del MA(q)**\n",
    "**PACF te da el grado del AR(p)**\n",
    "\n",
    "Con base en las gráficas de ACF y PACF establecemos que el procesos es un AR(1)"
   ]
  },
  {
   "cell_type": "code",
   "execution_count": 9,
   "id": "361715a5",
   "metadata": {
    "scrolled": false
   },
   "outputs": [
    {
     "name": "stdout",
     "output_type": "stream",
     "text": [
      "                               SARIMAX Results                                \n",
      "==============================================================================\n",
      "Dep. Variable:                   ar_1   No. Observations:                 1000\n",
      "Model:                 ARIMA(1, 0, 0)   Log Likelihood               -1416.067\n",
      "Date:                Tue, 02 May 2023   AIC                           2838.134\n",
      "Time:                        14:46:15   BIC                           2852.857\n",
      "Sample:                             0   HQIC                          2843.730\n",
      "                               - 1000                                         \n",
      "Covariance Type:                  opg                                         \n",
      "==============================================================================\n",
      "                 coef    std err          z      P>|z|      [0.025      0.975]\n",
      "------------------------------------------------------------------------------\n",
      "const          0.0260      0.078      0.332      0.740      -0.128       0.180\n",
      "ar.L1          0.5978      0.024     24.638      0.000       0.550       0.645\n",
      "sigma2         0.9938      0.046     21.466      0.000       0.903       1.085\n",
      "===================================================================================\n",
      "Ljung-Box (L1) (Q):                   0.03   Jarque-Bera (JB):                 1.19\n",
      "Prob(Q):                              0.87   Prob(JB):                         0.55\n",
      "Heteroskedasticity (H):               0.96   Skew:                             0.04\n",
      "Prob(H) (two-sided):                  0.72   Kurtosis:                         2.85\n",
      "===================================================================================\n",
      "\n",
      "Warnings:\n",
      "[1] Covariance matrix calculated using the outer product of gradients (complex-step).\n"
     ]
    }
   ],
   "source": [
    "#hemos aplicado cero veces primeras diferencias es de tipo I = 0\n",
    "#estimar el modelo\n",
    "# ARIMA(p,I,q) = (1,0,0)\n",
    "modelo = ARIMA(procesos['ar_1'], order=(1,0,0))\n",
    "resultado = modelo.fit()\n",
    "print(resultado.summary())"
   ]
  },
  {
   "cell_type": "markdown",
   "id": "b8a57ecf",
   "metadata": {},
   "source": [
    "El modelo estimado es $Y_t = 0.59 Y_{t-1} + \\varepsilon_t $"
   ]
  },
  {
   "cell_type": "markdown",
   "id": "fc85b1e5",
   "metadata": {},
   "source": [
    "Un modelo ARIMA(p,I,q) es un AR de orden p, con MA de orden q, y con un orden determinado de integración (I). El orden de integración es cuantas veces se le aplico primeras diferencias a la serie para volverla estacionaria."
   ]
  },
  {
   "cell_type": "code",
   "execution_count": null,
   "id": "00c980c0",
   "metadata": {},
   "outputs": [],
   "source": [
    "#Una vez que tenemos el modelo estimado podemos hacer pronósticos\n"
   ]
  }
 ],
 "metadata": {
  "kernelspec": {
   "display_name": "Python 3 (ipykernel)",
   "language": "python",
   "name": "python3"
  },
  "language_info": {
   "codemirror_mode": {
    "name": "ipython",
    "version": 3
   },
   "file_extension": ".py",
   "mimetype": "text/x-python",
   "name": "python",
   "nbconvert_exporter": "python",
   "pygments_lexer": "ipython3",
   "version": "3.9.12"
  }
 },
 "nbformat": 4,
 "nbformat_minor": 5
}
