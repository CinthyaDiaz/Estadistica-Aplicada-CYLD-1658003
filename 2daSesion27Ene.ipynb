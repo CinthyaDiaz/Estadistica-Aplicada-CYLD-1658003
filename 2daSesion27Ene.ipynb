{
 "cells": [
  {
   "cell_type": "markdown",
   "id": "137c789f-9e22-4db8-88d0-bb72db7b7e48",
   "metadata": {},
   "source": [
    "# Estadística Aplicada\n",
    "## Cinthya Yesenia López Díaz\n",
    "### Segunda sesión\n",
    "27 de Enero 2023"
   ]
  },
  {
   "cell_type": "code",
   "execution_count": 1,
   "id": "81c22e91-6b38-4726-b0f8-14f7668d013b",
   "metadata": {},
   "outputs": [
    {
     "data": {
      "text/plain": [
       "True"
      ]
     },
     "execution_count": 1,
     "metadata": {},
     "output_type": "execute_result"
    }
   ],
   "source": [
    "7>5"
   ]
  },
  {
   "cell_type": "code",
   "execution_count": 2,
   "id": "db19640c-7d4a-478f-9659-61364e0459ce",
   "metadata": {},
   "outputs": [
    {
     "data": {
      "text/plain": [
       "False"
      ]
     },
     "execution_count": 2,
     "metadata": {},
     "output_type": "execute_result"
    }
   ],
   "source": [
    "7>10"
   ]
  },
  {
   "cell_type": "code",
   "execution_count": 3,
   "id": "fe250d29-731d-498b-88a1-20e070e76254",
   "metadata": {},
   "outputs": [
    {
     "data": {
      "text/plain": [
       "False"
      ]
     },
     "execution_count": 3,
     "metadata": {},
     "output_type": "execute_result"
    }
   ],
   "source": [
    "7>5 & 7>10"
   ]
  },
  {
   "cell_type": "code",
   "execution_count": 4,
   "id": "d99fe4d2-d72d-4f47-8e17-135b47a59edc",
   "metadata": {},
   "outputs": [
    {
     "data": {
      "text/plain": [
       "12"
      ]
     },
     "execution_count": 4,
     "metadata": {},
     "output_type": "execute_result"
    }
   ],
   "source": [
    "7+5"
   ]
  },
  {
   "cell_type": "code",
   "execution_count": 5,
   "id": "43e36594-b4d9-4113-86d7-857de33ceb34",
   "metadata": {},
   "outputs": [
    {
     "data": {
      "text/plain": [
       "7"
      ]
     },
     "execution_count": 5,
     "metadata": {},
     "output_type": "execute_result"
    }
   ],
   "source": [
    "10-3"
   ]
  },
  {
   "cell_type": "code",
   "execution_count": 6,
   "id": "90dcece3-f4a9-4f71-bbc3-77154f1e07ab",
   "metadata": {},
   "outputs": [
    {
     "data": {
      "text/plain": [
       "10"
      ]
     },
     "execution_count": 6,
     "metadata": {},
     "output_type": "execute_result"
    }
   ],
   "source": [
    "5*2"
   ]
  },
  {
   "cell_type": "code",
   "execution_count": 7,
   "id": "c386cb18-9493-4a81-b4dd-a4c1815d0d99",
   "metadata": {},
   "outputs": [
    {
     "data": {
      "text/plain": [
       "5.0"
      ]
     },
     "execution_count": 7,
     "metadata": {},
     "output_type": "execute_result"
    }
   ],
   "source": [
    "10/2"
   ]
  },
  {
   "cell_type": "code",
   "execution_count": 8,
   "id": "6e85959e-8d70-48f8-8598-5ebc017f720d",
   "metadata": {},
   "outputs": [
    {
     "data": {
      "text/plain": [
       "9"
      ]
     },
     "execution_count": 8,
     "metadata": {},
     "output_type": "execute_result"
    }
   ],
   "source": [
    "3**2"
   ]
  },
  {
   "cell_type": "code",
   "execution_count": 9,
   "id": "731b886f-5bfc-414d-8091-cf0759980d33",
   "metadata": {},
   "outputs": [
    {
     "data": {
      "text/plain": [
       "9"
      ]
     },
     "execution_count": 9,
     "metadata": {},
     "output_type": "execute_result"
    }
   ],
   "source": [
    "pow(3,2)"
   ]
  },
  {
   "cell_type": "code",
   "execution_count": 10,
   "id": "76a65774-0720-4193-a7a4-7c79fd770857",
   "metadata": {},
   "outputs": [],
   "source": [
    "alumno1 = ['Juan', 'Perez', 23]"
   ]
  },
  {
   "cell_type": "code",
   "execution_count": 11,
   "id": "1ac77a19-452d-47d3-a429-285e02121647",
   "metadata": {},
   "outputs": [
    {
     "data": {
      "text/plain": [
       "['Juan', 'Perez', 23]"
      ]
     },
     "execution_count": 11,
     "metadata": {},
     "output_type": "execute_result"
    }
   ],
   "source": [
    "alumno1"
   ]
  },
  {
   "cell_type": "code",
   "execution_count": 12,
   "id": "94530b59-138d-4cc0-ae0b-cea3811c0715",
   "metadata": {},
   "outputs": [
    {
     "data": {
      "text/plain": [
       "list"
      ]
     },
     "execution_count": 12,
     "metadata": {},
     "output_type": "execute_result"
    }
   ],
   "source": [
    "type(alumno1)"
   ]
  },
  {
   "cell_type": "code",
   "execution_count": 13,
   "id": "71091d1b-e72b-4c10-9205-aaa7c47714d4",
   "metadata": {},
   "outputs": [],
   "source": [
    "estadistica_g4 = ['Juan', 'Raul', 'Jimena', 'Alejandra']"
   ]
  },
  {
   "cell_type": "code",
   "execution_count": 14,
   "id": "a7f18810-d349-4fd3-ae98-f1a0f3bca6fd",
   "metadata": {},
   "outputs": [
    {
     "data": {
      "text/plain": [
       "['Juan', 'Raul', 'Jimena', 'Alejandra']"
      ]
     },
     "execution_count": 14,
     "metadata": {},
     "output_type": "execute_result"
    }
   ],
   "source": [
    "estadistica_g4"
   ]
  },
  {
   "cell_type": "code",
   "execution_count": 15,
   "id": "7d5fb57c-b3d2-467f-b1f7-28ffc9aa9ced",
   "metadata": {},
   "outputs": [
    {
     "data": {
      "text/plain": [
       "'Juan'"
      ]
     },
     "execution_count": 15,
     "metadata": {},
     "output_type": "execute_result"
    }
   ],
   "source": [
    "estadistica_g4[0]"
   ]
  },
  {
   "cell_type": "code",
   "execution_count": 16,
   "id": "8ef5b441-047d-404c-9bb5-d9c3a700cbac",
   "metadata": {},
   "outputs": [
    {
     "data": {
      "text/plain": [
       "('Juan', 'Jimena')"
      ]
     },
     "execution_count": 16,
     "metadata": {},
     "output_type": "execute_result"
    }
   ],
   "source": [
    "estadistica_g4[0], estadistica_g4[2]"
   ]
  },
  {
   "cell_type": "code",
   "execution_count": 17,
   "id": "5dba5d5b-897a-46eb-a2f9-d57ed3174034",
   "metadata": {},
   "outputs": [
    {
     "data": {
      "text/plain": [
       "['Juan', 'Raul', 'Jimena']"
      ]
     },
     "execution_count": 17,
     "metadata": {},
     "output_type": "execute_result"
    }
   ],
   "source": [
    "estadistica_g4[0:3]"
   ]
  },
  {
   "cell_type": "code",
   "execution_count": 18,
   "id": "ae3c8509-3024-45d1-a680-b9c0c6b17895",
   "metadata": {},
   "outputs": [
    {
     "data": {
      "text/plain": [
       "['Juan', 'Raul', 'Jimena', 'Alejandra']"
      ]
     },
     "execution_count": 18,
     "metadata": {},
     "output_type": "execute_result"
    }
   ],
   "source": [
    "estadistica_g4[:]"
   ]
  },
  {
   "cell_type": "code",
   "execution_count": 20,
   "id": "098a4470-ee44-4bd3-90b0-16fae8c1608e",
   "metadata": {},
   "outputs": [],
   "source": [
    "estadistica_g4.append('Jaime')"
   ]
  },
  {
   "cell_type": "code",
   "execution_count": 21,
   "id": "c117499a-72b9-458a-bcc7-93572f3001eb",
   "metadata": {},
   "outputs": [
    {
     "data": {
      "text/plain": [
       "['Juan', 'Raul', 'Jimena', 'Alejandra', 'Jaime', 'Jaime']"
      ]
     },
     "execution_count": 21,
     "metadata": {},
     "output_type": "execute_result"
    }
   ],
   "source": [
    "estadistica_g4"
   ]
  },
  {
   "cell_type": "code",
   "execution_count": 22,
   "id": "e2b3efb9-1d38-4271-b758-a6f9cfc97c39",
   "metadata": {},
   "outputs": [],
   "source": [
    "estadistica_g4.remove('Jimena')"
   ]
  },
  {
   "cell_type": "code",
   "execution_count": 23,
   "id": "a61e4939-8225-4201-a437-e8dd7aa77c22",
   "metadata": {},
   "outputs": [
    {
     "data": {
      "text/plain": [
       "['Juan', 'Raul', 'Alejandra', 'Jaime', 'Jaime']"
      ]
     },
     "execution_count": 23,
     "metadata": {},
     "output_type": "execute_result"
    }
   ],
   "source": [
    "estadistica_g4"
   ]
  },
  {
   "cell_type": "code",
   "execution_count": 24,
   "id": "76be3c6a-de14-48b5-9105-3b8562ad9293",
   "metadata": {},
   "outputs": [
    {
     "data": {
      "text/plain": [
       "5"
      ]
     },
     "execution_count": 24,
     "metadata": {},
     "output_type": "execute_result"
    }
   ],
   "source": [
    "len(estadistica_g4)"
   ]
  },
  {
   "cell_type": "code",
   "execution_count": 25,
   "id": "2242dfd1-b646-430d-a9f8-4e46224588f3",
   "metadata": {},
   "outputs": [],
   "source": [
    "conteo_de_lista = len(estadistica_g4)"
   ]
  },
  {
   "cell_type": "code",
   "execution_count": 26,
   "id": "f390c770-d206-4089-822b-5fb7e1f132ae",
   "metadata": {},
   "outputs": [
    {
     "data": {
      "text/plain": [
       "5"
      ]
     },
     "execution_count": 26,
     "metadata": {},
     "output_type": "execute_result"
    }
   ],
   "source": [
    "conteo_de_lista"
   ]
  },
  {
   "cell_type": "code",
   "execution_count": 27,
   "id": "362b0d15-9a94-4658-b16c-842187035b1b",
   "metadata": {},
   "outputs": [
    {
     "name": "stdout",
     "output_type": "stream",
     "text": [
      "Requirement already satisfied: yfinance in c:\\users\\lenovo\\anaconda3\\lib\\site-packages (0.1.74)\n",
      "Requirement already satisfied: lxml>=4.5.1 in c:\\users\\lenovo\\anaconda3\\lib\\site-packages (from yfinance) (4.8.0)\n",
      "Requirement already satisfied: requests>=2.26 in c:\\users\\lenovo\\anaconda3\\lib\\site-packages (from yfinance) (2.27.1)\n",
      "Requirement already satisfied: multitasking>=0.0.7 in c:\\users\\lenovo\\anaconda3\\lib\\site-packages (from yfinance) (0.0.11)\n",
      "Requirement already satisfied: numpy>=1.15 in c:\\users\\lenovo\\anaconda3\\lib\\site-packages (from yfinance) (1.21.5)\n",
      "Requirement already satisfied: pandas>=0.24.0 in c:\\users\\lenovo\\anaconda3\\lib\\site-packages (from yfinance) (1.4.2)\n",
      "Requirement already satisfied: pytz>=2020.1 in c:\\users\\lenovo\\anaconda3\\lib\\site-packages (from pandas>=0.24.0->yfinance) (2021.3)\n",
      "Requirement already satisfied: python-dateutil>=2.8.1 in c:\\users\\lenovo\\anaconda3\\lib\\site-packages (from pandas>=0.24.0->yfinance) (2.8.2)\n",
      "Requirement already satisfied: six>=1.5 in c:\\users\\lenovo\\anaconda3\\lib\\site-packages (from python-dateutil>=2.8.1->pandas>=0.24.0->yfinance) (1.16.0)\n",
      "Requirement already satisfied: urllib3<1.27,>=1.21.1 in c:\\users\\lenovo\\anaconda3\\lib\\site-packages (from requests>=2.26->yfinance) (1.26.9)\n",
      "Requirement already satisfied: charset-normalizer~=2.0.0 in c:\\users\\lenovo\\anaconda3\\lib\\site-packages (from requests>=2.26->yfinance) (2.0.4)\n",
      "Requirement already satisfied: idna<4,>=2.5 in c:\\users\\lenovo\\anaconda3\\lib\\site-packages (from requests>=2.26->yfinance) (3.3)\n",
      "Requirement already satisfied: certifi>=2017.4.17 in c:\\users\\lenovo\\anaconda3\\lib\\site-packages (from requests>=2.26->yfinance) (2022.9.14)\n",
      "Note: you may need to restart the kernel to use updated packages.\n"
     ]
    }
   ],
   "source": [
    "pip install yfinance"
   ]
  },
  {
   "cell_type": "code",
   "execution_count": 29,
   "id": "adc99d84-ce61-4d24-871f-3661d5be0354",
   "metadata": {},
   "outputs": [],
   "source": [
    "import yfinance as yf"
   ]
  },
  {
   "cell_type": "code",
   "execution_count": 30,
   "id": "a14f8f73-4614-4018-8495-3a2f6c02589f",
   "metadata": {},
   "outputs": [],
   "source": [
    "import numpy as np"
   ]
  },
  {
   "cell_type": "code",
   "execution_count": 31,
   "id": "6e643a45-fd65-4b1e-8f91-ad56767ddc63",
   "metadata": {},
   "outputs": [],
   "source": [
    "numeros = [25.7, 8, 10]"
   ]
  },
  {
   "cell_type": "code",
   "execution_count": 32,
   "id": "e5c92f79-806b-4e7c-ac5a-a3b4c7eeac01",
   "metadata": {},
   "outputs": [
    {
     "data": {
      "text/plain": [
       "list"
      ]
     },
     "execution_count": 32,
     "metadata": {},
     "output_type": "execute_result"
    }
   ],
   "source": [
    "type(numeros)"
   ]
  },
  {
   "cell_type": "code",
   "execution_count": 33,
   "id": "6789aa30-0f3b-435e-afb9-2b3436cd1c29",
   "metadata": {},
   "outputs": [],
   "source": [
    "numeros = np.array(numeros)"
   ]
  },
  {
   "cell_type": "code",
   "execution_count": 34,
   "id": "e8e70c43-4ddf-4d63-b1f5-300719864c55",
   "metadata": {},
   "outputs": [
    {
     "data": {
      "text/plain": [
       "numpy.ndarray"
      ]
     },
     "execution_count": 34,
     "metadata": {},
     "output_type": "execute_result"
    }
   ],
   "source": [
    "type(numeros)"
   ]
  },
  {
   "cell_type": "code",
   "execution_count": 35,
   "id": "b59e48d4-5ab1-430c-a118-5f1c02941e34",
   "metadata": {},
   "outputs": [
    {
     "data": {
      "text/plain": [
       "43.7"
      ]
     },
     "execution_count": 35,
     "metadata": {},
     "output_type": "execute_result"
    }
   ],
   "source": [
    "np.sum(numeros)"
   ]
  },
  {
   "cell_type": "code",
   "execution_count": 36,
   "id": "f5d7630b-7a9b-4541-9ad5-5008ce33cc9e",
   "metadata": {},
   "outputs": [
    {
     "data": {
      "text/plain": [
       "2056.0"
      ]
     },
     "execution_count": 36,
     "metadata": {},
     "output_type": "execute_result"
    }
   ],
   "source": [
    "np.prod(numeros)"
   ]
  },
  {
   "cell_type": "code",
   "execution_count": 37,
   "id": "7cb1a50e-810c-40ec-8d1b-4b7e2f9b8515",
   "metadata": {},
   "outputs": [
    {
     "data": {
      "text/plain": [
       "14.566666666666668"
      ]
     },
     "execution_count": 37,
     "metadata": {},
     "output_type": "execute_result"
    }
   ],
   "source": [
    "np.mean(numeros)"
   ]
  },
  {
   "cell_type": "code",
   "execution_count": 38,
   "id": "ccaa5862-5624-4caa-8438-136a975fac68",
   "metadata": {},
   "outputs": [
    {
     "data": {
      "text/plain": [
       "62.642222222222216"
      ]
     },
     "execution_count": 38,
     "metadata": {},
     "output_type": "execute_result"
    }
   ],
   "source": [
    "np.var(numeros)"
   ]
  },
  {
   "cell_type": "code",
   "execution_count": 39,
   "id": "ba4304eb-d09e-4e0e-8f06-b495c6c428af",
   "metadata": {},
   "outputs": [
    {
     "data": {
      "text/plain": [
       "93.96333333333332"
      ]
     },
     "execution_count": 39,
     "metadata": {},
     "output_type": "execute_result"
    }
   ],
   "source": [
    "np.var(numeros,ddof=1)"
   ]
  },
  {
   "cell_type": "code",
   "execution_count": 40,
   "id": "0167d91b-d4ad-4a1f-b135-420c312bf3dd",
   "metadata": {},
   "outputs": [
    {
     "data": {
      "text/plain": [
       "7.9146839622452525"
      ]
     },
     "execution_count": 40,
     "metadata": {},
     "output_type": "execute_result"
    }
   ],
   "source": [
    "np.std(numeros)"
   ]
  },
  {
   "cell_type": "code",
   "execution_count": 41,
   "id": "18ff06ca-087c-41dd-8709-1305379bd8b4",
   "metadata": {},
   "outputs": [
    {
     "data": {
      "text/plain": [
       "9.693468591445134"
      ]
     },
     "execution_count": 41,
     "metadata": {},
     "output_type": "execute_result"
    }
   ],
   "source": [
    "np.std(numeros,ddof=1)"
   ]
  },
  {
   "cell_type": "code",
   "execution_count": 42,
   "id": "8dcc8f1f-1bca-4451-a659-8ebdabd586b7",
   "metadata": {},
   "outputs": [
    {
     "data": {
      "text/plain": [
       "array([0, 1, 2, 3, 4, 5, 6, 7, 8])"
      ]
     },
     "execution_count": 42,
     "metadata": {},
     "output_type": "execute_result"
    }
   ],
   "source": [
    "np.arange(9)"
   ]
  },
  {
   "cell_type": "code",
   "execution_count": 43,
   "id": "0355803c-337a-4131-b894-21d04aead59a",
   "metadata": {},
   "outputs": [
    {
     "data": {
      "text/plain": [
       "array([ 7,  8,  9, 10, 11, 12, 13, 14])"
      ]
     },
     "execution_count": 43,
     "metadata": {},
     "output_type": "execute_result"
    }
   ],
   "source": [
    "np.arange(7, 15)"
   ]
  },
  {
   "cell_type": "code",
   "execution_count": 44,
   "id": "524304d9-4186-4469-814e-78a806704f43",
   "metadata": {},
   "outputs": [
    {
     "data": {
      "text/plain": [
       "array([10, 20, 30, 40, 50, 60, 70, 80, 90])"
      ]
     },
     "execution_count": 44,
     "metadata": {},
     "output_type": "execute_result"
    }
   ],
   "source": [
    "np.arange(10, 100, 10)"
   ]
  },
  {
   "cell_type": "code",
   "execution_count": 45,
   "id": "f2d64452-4824-4ce4-b378-5221b04e07a5",
   "metadata": {},
   "outputs": [
    {
     "data": {
      "text/plain": [
       "array([0., 0., 0., 0., 0., 0., 0.])"
      ]
     },
     "execution_count": 45,
     "metadata": {},
     "output_type": "execute_result"
    }
   ],
   "source": [
    "np.zeros(7)"
   ]
  },
  {
   "cell_type": "code",
   "execution_count": 46,
   "id": "babf5eb1-a2f1-4090-8b4a-ff43efdb0a26",
   "metadata": {},
   "outputs": [
    {
     "data": {
      "text/plain": [
       "array([1., 1., 1., 1., 1., 1., 1.])"
      ]
     },
     "execution_count": 46,
     "metadata": {},
     "output_type": "execute_result"
    }
   ],
   "source": [
    "np.ones(7)"
   ]
  },
  {
   "cell_type": "code",
   "execution_count": 47,
   "id": "effdb1b7-129d-4b41-97f1-da696e3e04d8",
   "metadata": {},
   "outputs": [
    {
     "data": {
      "text/plain": [
       "array([9, 9, 9, 9, 9, 9])"
      ]
     },
     "execution_count": 47,
     "metadata": {},
     "output_type": "execute_result"
    }
   ],
   "source": [
    "np.full(6, 9)"
   ]
  },
  {
   "cell_type": "code",
   "execution_count": 49,
   "id": "bac70db9-a55c-4ef2-9287-9cd37cefc835",
   "metadata": {},
   "outputs": [
    {
     "data": {
      "text/plain": [
       "array([4, 8])"
      ]
     },
     "execution_count": 49,
     "metadata": {},
     "output_type": "execute_result"
    }
   ],
   "source": [
    "np.random.randint(0, 10, 2)"
   ]
  },
  {
   "cell_type": "code",
   "execution_count": 52,
   "id": "8defaedf-35d5-4d1c-83bd-248329058dd4",
   "metadata": {},
   "outputs": [],
   "source": [
    "np.random.seed(5)\n",
    "aleatoriosu = np.random.randint(10, 30, 8)"
   ]
  },
  {
   "cell_type": "code",
   "execution_count": 53,
   "id": "ccfa3c01-f153-42d9-ba71-38dcbfb50060",
   "metadata": {},
   "outputs": [
    {
     "data": {
      "text/plain": [
       "array([13, 24, 25, 16, 26, 19, 18, 14])"
      ]
     },
     "execution_count": 53,
     "metadata": {},
     "output_type": "execute_result"
    }
   ],
   "source": [
    "aleatoriosu"
   ]
  },
  {
   "cell_type": "code",
   "execution_count": 55,
   "id": "e15d0a63-e27d-49a6-b4cc-cc1dd6b71b94",
   "metadata": {},
   "outputs": [],
   "source": [
    "aleatoriosu = np.sort(aleatoriosu)"
   ]
  },
  {
   "cell_type": "code",
   "execution_count": 56,
   "id": "e0bb5f49-fc27-4156-b4c0-29ba99afc89f",
   "metadata": {},
   "outputs": [
    {
     "data": {
      "text/plain": [
       "array([13, 14, 16, 18, 19, 24, 25, 26])"
      ]
     },
     "execution_count": 56,
     "metadata": {},
     "output_type": "execute_result"
    }
   ],
   "source": [
    "aleatoriosu"
   ]
  },
  {
   "cell_type": "code",
   "execution_count": 57,
   "id": "61c875a7-68be-4b7e-98da-df85df2b310b",
   "metadata": {},
   "outputs": [
    {
     "data": {
      "text/plain": [
       "16"
      ]
     },
     "execution_count": 57,
     "metadata": {},
     "output_type": "execute_result"
    }
   ],
   "source": [
    "aleatoriosu[2]"
   ]
  },
  {
   "cell_type": "code",
   "execution_count": 58,
   "id": "4ceef4d1-235b-4087-8967-6aa96ceb09d3",
   "metadata": {},
   "outputs": [
    {
     "data": {
      "text/plain": [
       "array([16, 24])"
      ]
     },
     "execution_count": 58,
     "metadata": {},
     "output_type": "execute_result"
    }
   ],
   "source": [
    "aleatoriosu[[2,5]]"
   ]
  },
  {
   "cell_type": "code",
   "execution_count": 60,
   "id": "437f6557-a604-4f7c-a806-ab1997779455",
   "metadata": {},
   "outputs": [
    {
     "data": {
      "text/plain": [
       "array([False, False,  True,  True,  True,  True,  True,  True])"
      ]
     },
     "execution_count": 60,
     "metadata": {},
     "output_type": "execute_result"
    }
   ],
   "source": [
    "aleatoriosu > 15"
   ]
  },
  {
   "cell_type": "code",
   "execution_count": 61,
   "id": "e89b1c99-265d-47e7-9d91-d9e7d46ce3fa",
   "metadata": {},
   "outputs": [
    {
     "data": {
      "text/plain": [
       "array([16, 18, 19, 24, 25, 26])"
      ]
     },
     "execution_count": 61,
     "metadata": {},
     "output_type": "execute_result"
    }
   ],
   "source": [
    "aleatoriosu[aleatoriosu>15]"
   ]
  },
  {
   "cell_type": "code",
   "execution_count": 1,
   "id": "c9278352-e072-447e-985c-c5cb6d97e873",
   "metadata": {},
   "outputs": [],
   "source": [
    "num2 = [10, 8, 20]"
   ]
  },
  {
   "cell_type": "code",
   "execution_count": 6,
   "id": "b8d8b545-6bb8-4926-8742-552550fd2d21",
   "metadata": {},
   "outputs": [],
   "source": [
    "import numpy as np"
   ]
  },
  {
   "cell_type": "code",
   "execution_count": 9,
   "id": "13f1ad9b-0c19-4191-9bf9-2389566e00f3",
   "metadata": {},
   "outputs": [],
   "source": [
    "num2=np.array(num2)"
   ]
  },
  {
   "cell_type": "code",
   "execution_count": 8,
   "id": "b691faa6-fa3f-4ecc-b506-fa319972502e",
   "metadata": {},
   "outputs": [
    {
     "data": {
      "text/plain": [
       "12.666666666666666"
      ]
     },
     "execution_count": 8,
     "metadata": {},
     "output_type": "execute_result"
    }
   ],
   "source": [
    "np.mean(num2)"
   ]
  },
  {
   "cell_type": "code",
   "execution_count": 10,
   "id": "71c59120-7cb9-4074-a88c-ea86588d7163",
   "metadata": {},
   "outputs": [
    {
     "data": {
      "text/plain": [
       "12.666666666666666"
      ]
     },
     "execution_count": 10,
     "metadata": {},
     "output_type": "execute_result"
    }
   ],
   "source": [
    "num2.mean()"
   ]
  },
  {
   "cell_type": "code",
   "execution_count": 11,
   "id": "ad8c66de-a019-483a-b09a-58fcfca3ab84",
   "metadata": {},
   "outputs": [
    {
     "data": {
      "text/plain": [
       "38"
      ]
     },
     "execution_count": 11,
     "metadata": {},
     "output_type": "execute_result"
    }
   ],
   "source": [
    "round(np.mean(np.sum(num2)))"
   ]
  },
  {
   "cell_type": "code",
   "execution_count": 12,
   "id": "e00f188f-2ff0-46e7-b00d-1e77bdacf728",
   "metadata": {},
   "outputs": [
    {
     "data": {
      "text/plain": [
       "38.0"
      ]
     },
     "execution_count": 12,
     "metadata": {},
     "output_type": "execute_result"
    }
   ],
   "source": [
    "num2.sum().mean().round()"
   ]
  },
  {
   "cell_type": "code",
   "execution_count": 16,
   "id": "e2314280-d020-45e6-9415-d2939a35deaf",
   "metadata": {},
   "outputs": [],
   "source": [
    "numeros = [1.23, 2.45578, 5.6888785]"
   ]
  },
  {
   "cell_type": "code",
   "execution_count": 17,
   "id": "847c49e3-92fd-41f9-b83e-aeea1eac012a",
   "metadata": {},
   "outputs": [
    {
     "data": {
      "text/plain": [
       "3.12"
      ]
     },
     "execution_count": 17,
     "metadata": {},
     "output_type": "execute_result"
    }
   ],
   "source": [
    "round(np.mean(np.array(numeros)), 2)"
   ]
  },
  {
   "cell_type": "code",
   "execution_count": 18,
   "id": "6a7d2fec-6ce5-4960-866a-ff46e2cb5b61",
   "metadata": {},
   "outputs": [
    {
     "data": {
      "text/plain": [
       "3.12"
      ]
     },
     "execution_count": 18,
     "metadata": {},
     "output_type": "execute_result"
    }
   ],
   "source": [
    "np.array(numeros).mean().round(2)"
   ]
  }
 ],
 "metadata": {
  "kernelspec": {
   "display_name": "Python 3 (ipykernel)",
   "language": "python",
   "name": "python3"
  },
  "language_info": {
   "codemirror_mode": {
    "name": "ipython",
    "version": 3
   },
   "file_extension": ".py",
   "mimetype": "text/x-python",
   "name": "python",
   "nbconvert_exporter": "python",
   "pygments_lexer": "ipython3",
   "version": "3.9.12"
  },
  "toc-showcode": true
 },
 "nbformat": 4,
 "nbformat_minor": 5
}
